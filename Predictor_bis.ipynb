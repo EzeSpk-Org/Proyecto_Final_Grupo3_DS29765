{
 "cells": [
  {
   "cell_type": "code",
   "execution_count": 1,
   "metadata": {},
   "outputs": [],
   "source": [
    "#Importo la librerias\n",
    "import pandas as pd\n",
    "import numpy as np\n",
    "\n",
    "import matplotlib.pyplot as plt\n",
    "import seaborn as sns\n",
    "\n",
    "from sklearn import tree\n",
    "\n",
    "from sklearn.model_selection import train_test_split \n",
    "import sklearn"
   ]
  },
  {
   "cell_type": "code",
   "execution_count": 2,
   "metadata": {},
   "outputs": [
    {
     "name": "stdout",
     "output_type": "stream",
     "text": [
      "<class 'pandas.core.frame.DataFrame'>\n",
      "RangeIndex: 5850 entries, 0 to 5849\n",
      "Data columns (total 16 columns):\n",
      " #   Column                Non-Null Count  Dtype  \n",
      "---  ------                --------------  -----  \n",
      " 0   Unnamed: 0            5850 non-null   int64  \n",
      " 1   id                    5850 non-null   object \n",
      " 2   title                 5849 non-null   object \n",
      " 3   type                  5850 non-null   object \n",
      " 4   description           5832 non-null   object \n",
      " 5   release_year          5850 non-null   int64  \n",
      " 6   age_certification     3231 non-null   object \n",
      " 7   runtime               5850 non-null   int64  \n",
      " 8   genres                5850 non-null   object \n",
      " 9   production_countries  5850 non-null   object \n",
      " 10  seasons               2106 non-null   float64\n",
      " 11  imdb_id               5447 non-null   object \n",
      " 12  imdb_score            5850 non-null   float64\n",
      " 13  imdb_votes            5352 non-null   float64\n",
      " 14  tmdb_popularity       5759 non-null   float64\n",
      " 15  tmdb_score            5850 non-null   float64\n",
      "dtypes: float64(5), int64(3), object(8)\n",
      "memory usage: 731.4+ KB\n"
     ]
    }
   ],
   "source": [
    "#importo el dataset y hago revision de los datos\n",
    "\n",
    "df = pd.read_csv(\"titles_filtrado.csv\")\n",
    "\n",
    "df.info()"
   ]
  },
  {
   "cell_type": "code",
   "execution_count": 3,
   "metadata": {},
   "outputs": [
    {
     "data": {
      "text/html": [
       "<div>\n",
       "<style scoped>\n",
       "    .dataframe tbody tr th:only-of-type {\n",
       "        vertical-align: middle;\n",
       "    }\n",
       "\n",
       "    .dataframe tbody tr th {\n",
       "        vertical-align: top;\n",
       "    }\n",
       "\n",
       "    .dataframe thead th {\n",
       "        text-align: right;\n",
       "    }\n",
       "</style>\n",
       "<table border=\"1\" class=\"dataframe\">\n",
       "  <thead>\n",
       "    <tr style=\"text-align: right;\">\n",
       "      <th></th>\n",
       "      <th>genres_parsed</th>\n",
       "      <th>prod_countries_parsed</th>\n",
       "    </tr>\n",
       "  </thead>\n",
       "  <tbody>\n",
       "    <tr>\n",
       "      <th>0</th>\n",
       "      <td>documentation</td>\n",
       "      <td>US</td>\n",
       "    </tr>\n",
       "    <tr>\n",
       "      <th>1</th>\n",
       "      <td>drama</td>\n",
       "      <td>US</td>\n",
       "    </tr>\n",
       "    <tr>\n",
       "      <th>2</th>\n",
       "      <td>drama</td>\n",
       "      <td>US</td>\n",
       "    </tr>\n",
       "    <tr>\n",
       "      <th>3</th>\n",
       "      <td>fantasy</td>\n",
       "      <td>GB</td>\n",
       "    </tr>\n",
       "    <tr>\n",
       "      <th>4</th>\n",
       "      <td>war</td>\n",
       "      <td>GB</td>\n",
       "    </tr>\n",
       "    <tr>\n",
       "      <th>...</th>\n",
       "      <td>...</td>\n",
       "      <td>...</td>\n",
       "    </tr>\n",
       "    <tr>\n",
       "      <th>5845</th>\n",
       "      <td>romance</td>\n",
       "      <td>NG</td>\n",
       "    </tr>\n",
       "    <tr>\n",
       "      <th>5846</th>\n",
       "      <td>drama</td>\n",
       "      <td>N/A</td>\n",
       "    </tr>\n",
       "    <tr>\n",
       "      <th>5847</th>\n",
       "      <td>comedy</td>\n",
       "      <td>CO</td>\n",
       "    </tr>\n",
       "    <tr>\n",
       "      <th>5848</th>\n",
       "      <td>N/A</td>\n",
       "      <td>US</td>\n",
       "    </tr>\n",
       "    <tr>\n",
       "      <th>5849</th>\n",
       "      <td>family</td>\n",
       "      <td>N/A</td>\n",
       "    </tr>\n",
       "  </tbody>\n",
       "</table>\n",
       "<p>5850 rows × 2 columns</p>\n",
       "</div>"
      ],
      "text/plain": [
       "      genres_parsed prod_countries_parsed\n",
       "0     documentation                    US\n",
       "1             drama                    US\n",
       "2             drama                    US\n",
       "3           fantasy                    GB\n",
       "4               war                    GB\n",
       "...             ...                   ...\n",
       "5845        romance                    NG\n",
       "5846          drama                   N/A\n",
       "5847         comedy                    CO\n",
       "5848            N/A                    US\n",
       "5849         family                   N/A\n",
       "\n",
       "[5850 rows x 2 columns]"
      ]
     },
     "execution_count": 3,
     "metadata": {},
     "output_type": "execute_result"
    }
   ],
   "source": [
    "# Drop de columnas innecesarias\n",
    "df.drop(\"id\", inplace=True, axis=1)\n",
    "\n",
    "df.drop(\"imdb_id\", inplace=True, axis=1)\n",
    "\n",
    "# Limpio `genres` y `production_countries`, devuelta tomando el primer elemento de de la lista que cada valor retenga\n",
    "def parse_list(row):\n",
    "    parsed = str(row)[1:-1].split(\",\")\n",
    "    for i in range(len(parsed)):\n",
    "        parsed[i] = parsed[i].strip()[1:-1]\n",
    "        \n",
    "    return parsed[0] if parsed[0] != '' else 'N/A'\n",
    "\n",
    "df['genres_parsed'] = df['genres'].map(parse_list)\n",
    "df['prod_countries_parsed'] = df['production_countries'].map(parse_list)\n",
    "df[['genres_parsed', 'prod_countries_parsed']]"
   ]
  },
  {
   "cell_type": "code",
   "execution_count": 4,
   "metadata": {},
   "outputs": [],
   "source": [
    "# Añado la columna 'is_movie'\n",
    "df['is_movie'] = df.type.map(lambda x: 0 if x == 'SHOW' else 1)"
   ]
  },
  {
   "cell_type": "code",
   "execution_count": 5,
   "metadata": {},
   "outputs": [
    {
     "data": {
      "text/plain": [
       "Unnamed: 0                  0\n",
       "title                       1\n",
       "type                        0\n",
       "description                18\n",
       "release_year                0\n",
       "age_certification        2619\n",
       "runtime                     0\n",
       "genres                      0\n",
       "production_countries        0\n",
       "seasons                  3744\n",
       "imdb_score                  0\n",
       "imdb_votes                498\n",
       "tmdb_popularity            91\n",
       "tmdb_score                  0\n",
       "genres_parsed               0\n",
       "prod_countries_parsed       0\n",
       "is_movie                    0\n",
       "dtype: int64"
      ]
     },
     "execution_count": 5,
     "metadata": {},
     "output_type": "execute_result"
    }
   ],
   "source": [
    "# Obtengo todos los valores nulos\n",
    "df.isnull().sum()"
   ]
  },
  {
   "cell_type": "code",
   "execution_count": 6,
   "metadata": {},
   "outputs": [
    {
     "data": {
      "text/plain": [
       "Unnamed: 0               0\n",
       "type                     0\n",
       "release_year             0\n",
       "age_certification        0\n",
       "runtime                  0\n",
       "genres                   0\n",
       "production_countries     0\n",
       "seasons                  0\n",
       "imdb_score               0\n",
       "imdb_votes               0\n",
       "tmdb_popularity          0\n",
       "tmdb_score               0\n",
       "genres_parsed            0\n",
       "prod_countries_parsed    0\n",
       "is_movie                 0\n",
       "dtype: int64"
      ]
     },
     "execution_count": 6,
     "metadata": {},
     "output_type": "execute_result"
    }
   ],
   "source": [
    "# Drop de columnas innecesarias\n",
    "df.drop(\"title\", axis=1, inplace=True)\n",
    "df.drop(\"description\", axis=1, inplace=True)\n",
    "\n",
    "# Relleno valores nulos\n",
    "df['age_certification'].fillna(\"N/A\", inplace=True)\n",
    "df['seasons'].fillna(0.0, inplace=True)\n",
    "df['tmdb_popularity'].fillna(df['tmdb_popularity'].mean(), inplace=True)\n",
    "df['imdb_votes'].fillna(df['imdb_votes'].mean(), inplace=True)\n",
    "\n",
    "\n",
    "# Confirmo que no queden valores nulos\n",
    "df.isnull().sum()"
   ]
  },
  {
   "cell_type": "code",
   "execution_count": 10,
   "metadata": {},
   "outputs": [],
   "source": [
    "# Trasnfroma las variables categoricas en numericas\n",
    "all_data = pd.get_dummies(df[['age_certification', 'genres_parsed', 'prod_countries_parsed', 'imdb_votes', 'seasons', 'is_movie']])\n",
    "\n"
   ]
  },
  {
   "cell_type": "code",
   "execution_count": 11,
   "metadata": {},
   "outputs": [],
   "source": [
    "from sklearn.model_selection import train_test_split, cross_val_score\n",
    "\n",
    "X = all_data.copy()\n",
    "y = df.pop('imdb_score')\n",
    "\n",
    "X_train, X_test, y_train, y_test = train_test_split(X, y, test_size=0.3, random_state=0)\n"
   ]
  },
  {
   "cell_type": "code",
   "execution_count": 31,
   "metadata": {},
   "outputs": [],
   "source": [
    "from sklearn.linear_model import LinearRegression\n",
    "from sklearn.ensemble import RandomForestRegressor\n",
    "from sklearn.svm import SVR\n"
   ]
  },
  {
   "cell_type": "code",
   "execution_count": 32,
   "metadata": {},
   "outputs": [],
   "source": [
    "#Regresion Lineal\n",
    "linreg = LinearRegression()\n",
    "\n",
    "scores = -1 * cross_val_score(linreg, X_train, y_train, cv=5, scoring='neg_mean_absolute_percentage_error')\n"
   ]
  },
  {
   "cell_type": "code",
   "execution_count": 33,
   "metadata": {},
   "outputs": [],
   "source": [
    "#SRV\n",
    "\n",
    "svr = SVR(kernel='poly', degree=1, C=1)\n",
    "\n",
    "scores = -1 * cross_val_score(svr, X_train, y_train, cv=5, scoring='neg_mean_absolute_percentage_error')\n"
   ]
  },
  {
   "cell_type": "code",
   "execution_count": 34,
   "metadata": {},
   "outputs": [],
   "source": [
    "models = [linreg, svr]"
   ]
  },
  {
   "cell_type": "code",
   "execution_count": 35,
   "metadata": {},
   "outputs": [],
   "source": [
    "from sklearn.metrics import mean_squared_error, mean_absolute_error, mean_absolute_percentage_error\n",
    "\n",
    "def score_dataset(X_train, X_valid, y_train, y_valid, model=RandomForestRegressor(n_estimators=1000, random_state=0)):\n",
    "    model.fit(X_train, y_train)\n",
    "    preds = model.predict(X_valid)\n",
    "    return {\"mean_squared_error\": mean_squared_error(y_valid, preds), \"mean_absolute_error\": mean_absolute_error(y_valid, preds), \"mean_absolute_percentage_error\": mean_absolute_percentage_error(y_test, preds)}"
   ]
  },
  {
   "cell_type": "code",
   "execution_count": 36,
   "metadata": {},
   "outputs": [
    {
     "data": {
      "text/plain": [
       "{'mean_squared_error': 0.9944852542769452,\n",
       " 'mean_absolute_error': 0.7583383549220301,\n",
       " 'mean_absolute_percentage_error': 0.134898480928136}"
      ]
     },
     "execution_count": 36,
     "metadata": {},
     "output_type": "execute_result"
    }
   ],
   "source": [
    "score_dataset(X_train, X_test, y_train, y_test, model=linreg)"
   ]
  },
  {
   "cell_type": "code",
   "execution_count": 37,
   "metadata": {},
   "outputs": [
    {
     "data": {
      "text/plain": [
       "{'mean_squared_error': 1.1963819938946192,\n",
       " 'mean_absolute_error': 0.8186272046683697,\n",
       " 'mean_absolute_percentage_error': 0.1481595666780804}"
      ]
     },
     "execution_count": 37,
     "metadata": {},
     "output_type": "execute_result"
    }
   ],
   "source": [
    "score_dataset(X_train, X_test, y_train, y_test, model=svr)"
   ]
  }
 ],
 "metadata": {
  "kernelspec": {
   "display_name": "Python 3.10.6 64-bit (windows store)",
   "language": "python",
   "name": "python3"
  },
  "language_info": {
   "codemirror_mode": {
    "name": "ipython",
    "version": 3
   },
   "file_extension": ".py",
   "mimetype": "text/x-python",
   "name": "python",
   "nbconvert_exporter": "python",
   "pygments_lexer": "ipython3",
   "version": "3.10.6"
  },
  "orig_nbformat": 4,
  "vscode": {
   "interpreter": {
    "hash": "6bfb2b3bd7df5c81aa15934e65570dceb366a496b1d88c1199517baba9f2df6c"
   }
  }
 },
 "nbformat": 4,
 "nbformat_minor": 2
}
