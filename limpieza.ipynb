{
 "cells": [
  {
   "cell_type": "code",
   "execution_count": 41,
   "metadata": {},
   "outputs": [],
   "source": [
    "import pandas as pd\n",
    "import matplotlib.pyplot as plt\n",
    "import numpy as np"
   ]
  },
  {
   "cell_type": "code",
   "execution_count": 2,
   "metadata": {},
   "outputs": [
    {
     "data": {
      "text/html": [
       "<div>\n",
       "<style scoped>\n",
       "    .dataframe tbody tr th:only-of-type {\n",
       "        vertical-align: middle;\n",
       "    }\n",
       "\n",
       "    .dataframe tbody tr th {\n",
       "        vertical-align: top;\n",
       "    }\n",
       "\n",
       "    .dataframe thead th {\n",
       "        text-align: right;\n",
       "    }\n",
       "</style>\n",
       "<table border=\"1\" class=\"dataframe\">\n",
       "  <thead>\n",
       "    <tr style=\"text-align: right;\">\n",
       "      <th></th>\n",
       "      <th>id</th>\n",
       "      <th>title</th>\n",
       "      <th>type</th>\n",
       "      <th>description</th>\n",
       "      <th>release_year</th>\n",
       "      <th>age_certification</th>\n",
       "      <th>runtime</th>\n",
       "      <th>genres</th>\n",
       "      <th>production_countries</th>\n",
       "      <th>seasons</th>\n",
       "      <th>imdb_id</th>\n",
       "      <th>imdb_score</th>\n",
       "      <th>imdb_votes</th>\n",
       "      <th>tmdb_popularity</th>\n",
       "      <th>tmdb_score</th>\n",
       "    </tr>\n",
       "  </thead>\n",
       "  <tbody>\n",
       "    <tr>\n",
       "      <th>876</th>\n",
       "      <td>tm161282</td>\n",
       "      <td>Penguins of Madagascar</td>\n",
       "      <td>MOVIE</td>\n",
       "      <td>Skipper, Kowalski, Rico and Private join force...</td>\n",
       "      <td>2014</td>\n",
       "      <td>PG</td>\n",
       "      <td>92</td>\n",
       "      <td>['family', 'animation', 'action', 'comedy', 's...</td>\n",
       "      <td>['US']</td>\n",
       "      <td>NaN</td>\n",
       "      <td>tt1911658</td>\n",
       "      <td>6.6</td>\n",
       "      <td>89930.0</td>\n",
       "      <td>92.315</td>\n",
       "      <td>6.505</td>\n",
       "    </tr>\n",
       "    <tr>\n",
       "      <th>3798</th>\n",
       "      <td>tm864480</td>\n",
       "      <td>Unknown Origins</td>\n",
       "      <td>MOVIE</td>\n",
       "      <td>Madrid, 2019. A serial killer is spreading cha...</td>\n",
       "      <td>2020</td>\n",
       "      <td>NaN</td>\n",
       "      <td>96</td>\n",
       "      <td>['crime', 'drama', 'thriller', 'comedy', 'acti...</td>\n",
       "      <td>['AR', 'ES']</td>\n",
       "      <td>NaN</td>\n",
       "      <td>tt5827790</td>\n",
       "      <td>6.1</td>\n",
       "      <td>6769.0</td>\n",
       "      <td>8.534</td>\n",
       "      <td>6.100</td>\n",
       "    </tr>\n",
       "    <tr>\n",
       "      <th>191</th>\n",
       "      <td>tm110160</td>\n",
       "      <td>Avvai Shanmugi</td>\n",
       "      <td>MOVIE</td>\n",
       "      <td>A divorced husband desperately misses his daug...</td>\n",
       "      <td>1996</td>\n",
       "      <td>PG-13</td>\n",
       "      <td>160</td>\n",
       "      <td>['drama', 'comedy']</td>\n",
       "      <td>['IN']</td>\n",
       "      <td>NaN</td>\n",
       "      <td>tt0139872</td>\n",
       "      <td>7.9</td>\n",
       "      <td>2586.0</td>\n",
       "      <td>2.828</td>\n",
       "      <td>7.500</td>\n",
       "    </tr>\n",
       "    <tr>\n",
       "      <th>1616</th>\n",
       "      <td>tm218683</td>\n",
       "      <td>The Massively Mixed-Up Middle School Mystery</td>\n",
       "      <td>MOVIE</td>\n",
       "      <td>When the ultimate prank sends their principal ...</td>\n",
       "      <td>2015</td>\n",
       "      <td>NaN</td>\n",
       "      <td>39</td>\n",
       "      <td>['comedy', 'thriller']</td>\n",
       "      <td>['XX']</td>\n",
       "      <td>NaN</td>\n",
       "      <td>tt3521770</td>\n",
       "      <td>7.3</td>\n",
       "      <td>81.0</td>\n",
       "      <td>2.528</td>\n",
       "      <td>NaN</td>\n",
       "    </tr>\n",
       "    <tr>\n",
       "      <th>803</th>\n",
       "      <td>tm162592</td>\n",
       "      <td>Asmaa</td>\n",
       "      <td>MOVIE</td>\n",
       "      <td>A woman who suffers from AIDS decides not to s...</td>\n",
       "      <td>2011</td>\n",
       "      <td>NaN</td>\n",
       "      <td>96</td>\n",
       "      <td>['drama']</td>\n",
       "      <td>['EG']</td>\n",
       "      <td>NaN</td>\n",
       "      <td>tt1826603</td>\n",
       "      <td>8.1</td>\n",
       "      <td>4483.0</td>\n",
       "      <td>2.327</td>\n",
       "      <td>8.300</td>\n",
       "    </tr>\n",
       "    <tr>\n",
       "      <th>2907</th>\n",
       "      <td>tm325650</td>\n",
       "      <td>King of Peking</td>\n",
       "      <td>MOVIE</td>\n",
       "      <td>When home entertainment enters the market in 9...</td>\n",
       "      <td>2017</td>\n",
       "      <td>NaN</td>\n",
       "      <td>88</td>\n",
       "      <td>['drama', 'comedy']</td>\n",
       "      <td>['AU', 'US', 'CN']</td>\n",
       "      <td>NaN</td>\n",
       "      <td>tt6406976</td>\n",
       "      <td>6.4</td>\n",
       "      <td>368.0</td>\n",
       "      <td>1.549</td>\n",
       "      <td>6.200</td>\n",
       "    </tr>\n",
       "    <tr>\n",
       "      <th>846</th>\n",
       "      <td>tm151663</td>\n",
       "      <td>Nightcrawler</td>\n",
       "      <td>MOVIE</td>\n",
       "      <td>When Lou Bloom, desperate for work, muscles in...</td>\n",
       "      <td>2014</td>\n",
       "      <td>R</td>\n",
       "      <td>118</td>\n",
       "      <td>['thriller', 'crime', 'drama']</td>\n",
       "      <td>['US']</td>\n",
       "      <td>NaN</td>\n",
       "      <td>tt2872718</td>\n",
       "      <td>7.8</td>\n",
       "      <td>531779.0</td>\n",
       "      <td>57.276</td>\n",
       "      <td>7.700</td>\n",
       "    </tr>\n",
       "    <tr>\n",
       "      <th>1197</th>\n",
       "      <td>ts42170</td>\n",
       "      <td>Crashing</td>\n",
       "      <td>SHOW</td>\n",
       "      <td>A comedy drama that crashes straight into the ...</td>\n",
       "      <td>2016</td>\n",
       "      <td>TV-MA</td>\n",
       "      <td>30</td>\n",
       "      <td>['comedy', 'european']</td>\n",
       "      <td>['GB']</td>\n",
       "      <td>1.0</td>\n",
       "      <td>tt5295524</td>\n",
       "      <td>7.7</td>\n",
       "      <td>20370.0</td>\n",
       "      <td>8.663</td>\n",
       "      <td>7.300</td>\n",
       "    </tr>\n",
       "    <tr>\n",
       "      <th>1973</th>\n",
       "      <td>ts57964</td>\n",
       "      <td>Hotel Transylvania: The Series</td>\n",
       "      <td>SHOW</td>\n",
       "      <td>Mavis navigates life without her dad, Dracula,...</td>\n",
       "      <td>2017</td>\n",
       "      <td>TV-Y7</td>\n",
       "      <td>15</td>\n",
       "      <td>['family', 'animation', 'comedy', 'horror', 'f...</td>\n",
       "      <td>['US']</td>\n",
       "      <td>2.0</td>\n",
       "      <td>tt4858114</td>\n",
       "      <td>5.3</td>\n",
       "      <td>717.0</td>\n",
       "      <td>17.661</td>\n",
       "      <td>7.200</td>\n",
       "    </tr>\n",
       "    <tr>\n",
       "      <th>591</th>\n",
       "      <td>tm91125</td>\n",
       "      <td>Fida</td>\n",
       "      <td>MOVIE</td>\n",
       "      <td>Fida tells the story of Jai who one day happen...</td>\n",
       "      <td>2004</td>\n",
       "      <td>NaN</td>\n",
       "      <td>122</td>\n",
       "      <td>['romance', 'thriller', 'action', 'crime', 'dr...</td>\n",
       "      <td>['IN']</td>\n",
       "      <td>NaN</td>\n",
       "      <td>tt0422236</td>\n",
       "      <td>5.4</td>\n",
       "      <td>2638.0</td>\n",
       "      <td>2.932</td>\n",
       "      <td>5.200</td>\n",
       "    </tr>\n",
       "  </tbody>\n",
       "</table>\n",
       "</div>"
      ],
      "text/plain": [
       "            id                                         title   type  \\\n",
       "876   tm161282                        Penguins of Madagascar  MOVIE   \n",
       "3798  tm864480                               Unknown Origins  MOVIE   \n",
       "191   tm110160                                Avvai Shanmugi  MOVIE   \n",
       "1616  tm218683  The Massively Mixed-Up Middle School Mystery  MOVIE   \n",
       "803   tm162592                                         Asmaa  MOVIE   \n",
       "2907  tm325650                                King of Peking  MOVIE   \n",
       "846   tm151663                                  Nightcrawler  MOVIE   \n",
       "1197   ts42170                                      Crashing   SHOW   \n",
       "1973   ts57964                Hotel Transylvania: The Series   SHOW   \n",
       "591    tm91125                                          Fida  MOVIE   \n",
       "\n",
       "                                            description  release_year  \\\n",
       "876   Skipper, Kowalski, Rico and Private join force...          2014   \n",
       "3798  Madrid, 2019. A serial killer is spreading cha...          2020   \n",
       "191   A divorced husband desperately misses his daug...          1996   \n",
       "1616  When the ultimate prank sends their principal ...          2015   \n",
       "803   A woman who suffers from AIDS decides not to s...          2011   \n",
       "2907  When home entertainment enters the market in 9...          2017   \n",
       "846   When Lou Bloom, desperate for work, muscles in...          2014   \n",
       "1197  A comedy drama that crashes straight into the ...          2016   \n",
       "1973  Mavis navigates life without her dad, Dracula,...          2017   \n",
       "591   Fida tells the story of Jai who one day happen...          2004   \n",
       "\n",
       "     age_certification  runtime  \\\n",
       "876                 PG       92   \n",
       "3798               NaN       96   \n",
       "191              PG-13      160   \n",
       "1616               NaN       39   \n",
       "803                NaN       96   \n",
       "2907               NaN       88   \n",
       "846                  R      118   \n",
       "1197             TV-MA       30   \n",
       "1973             TV-Y7       15   \n",
       "591                NaN      122   \n",
       "\n",
       "                                                 genres production_countries  \\\n",
       "876   ['family', 'animation', 'action', 'comedy', 's...               ['US']   \n",
       "3798  ['crime', 'drama', 'thriller', 'comedy', 'acti...         ['AR', 'ES']   \n",
       "191                                 ['drama', 'comedy']               ['IN']   \n",
       "1616                             ['comedy', 'thriller']               ['XX']   \n",
       "803                                           ['drama']               ['EG']   \n",
       "2907                                ['drama', 'comedy']   ['AU', 'US', 'CN']   \n",
       "846                      ['thriller', 'crime', 'drama']               ['US']   \n",
       "1197                             ['comedy', 'european']               ['GB']   \n",
       "1973  ['family', 'animation', 'comedy', 'horror', 'f...               ['US']   \n",
       "591   ['romance', 'thriller', 'action', 'crime', 'dr...               ['IN']   \n",
       "\n",
       "      seasons    imdb_id  imdb_score  imdb_votes  tmdb_popularity  tmdb_score  \n",
       "876       NaN  tt1911658         6.6     89930.0           92.315       6.505  \n",
       "3798      NaN  tt5827790         6.1      6769.0            8.534       6.100  \n",
       "191       NaN  tt0139872         7.9      2586.0            2.828       7.500  \n",
       "1616      NaN  tt3521770         7.3        81.0            2.528         NaN  \n",
       "803       NaN  tt1826603         8.1      4483.0            2.327       8.300  \n",
       "2907      NaN  tt6406976         6.4       368.0            1.549       6.200  \n",
       "846       NaN  tt2872718         7.8    531779.0           57.276       7.700  \n",
       "1197      1.0  tt5295524         7.7     20370.0            8.663       7.300  \n",
       "1973      2.0  tt4858114         5.3       717.0           17.661       7.200  \n",
       "591       NaN  tt0422236         5.4      2638.0            2.932       5.200  "
      ]
     },
     "execution_count": 2,
     "metadata": {},
     "output_type": "execute_result"
    }
   ],
   "source": [
    "df = pd.read_csv(\"titles.csv\")\n",
    "\n",
    "df.sample(10)"
   ]
  },
  {
   "cell_type": "code",
   "execution_count": 3,
   "metadata": {},
   "outputs": [
    {
     "data": {
      "text/plain": [
       "(5850, 15)"
      ]
     },
     "execution_count": 3,
     "metadata": {},
     "output_type": "execute_result"
    }
   ],
   "source": [
    "#Check de numero de datos\n",
    "\n",
    "df.shape"
   ]
  },
  {
   "cell_type": "code",
   "execution_count": 4,
   "metadata": {},
   "outputs": [
    {
     "name": "stdout",
     "output_type": "stream",
     "text": [
      "<class 'pandas.core.frame.DataFrame'>\n",
      "RangeIndex: 5850 entries, 0 to 5849\n",
      "Data columns (total 15 columns):\n",
      " #   Column                Non-Null Count  Dtype  \n",
      "---  ------                --------------  -----  \n",
      " 0   id                    5850 non-null   object \n",
      " 1   title                 5849 non-null   object \n",
      " 2   type                  5850 non-null   object \n",
      " 3   description           5832 non-null   object \n",
      " 4   release_year          5850 non-null   int64  \n",
      " 5   age_certification     3231 non-null   object \n",
      " 6   runtime               5850 non-null   int64  \n",
      " 7   genres                5850 non-null   object \n",
      " 8   production_countries  5850 non-null   object \n",
      " 9   seasons               2106 non-null   float64\n",
      " 10  imdb_id               5447 non-null   object \n",
      " 11  imdb_score            5368 non-null   float64\n",
      " 12  imdb_votes            5352 non-null   float64\n",
      " 13  tmdb_popularity       5759 non-null   float64\n",
      " 14  tmdb_score            5539 non-null   float64\n",
      "dtypes: float64(5), int64(2), object(8)\n",
      "memory usage: 685.7+ KB\n"
     ]
    }
   ],
   "source": [
    "#Reviso info de dataframe\n",
    "\n",
    "df.info()"
   ]
  },
  {
   "cell_type": "markdown",
   "metadata": {},
   "source": [
    "LIMPIEZA DE DATOS"
   ]
  },
  {
   "cell_type": "code",
   "execution_count": 5,
   "metadata": {},
   "outputs": [
    {
     "data": {
      "text/plain": [
       "0"
      ]
     },
     "execution_count": 5,
     "metadata": {},
     "output_type": "execute_result"
    }
   ],
   "source": [
    "#Check de duplicados\n",
    "\n",
    "df.duplicated().sum()"
   ]
  },
  {
   "cell_type": "code",
   "execution_count": 6,
   "metadata": {},
   "outputs": [
    {
     "data": {
      "text/plain": [
       "id                         0\n",
       "title                      1\n",
       "type                       0\n",
       "description               18\n",
       "release_year               0\n",
       "age_certification       2619\n",
       "runtime                    0\n",
       "genres                     0\n",
       "production_countries       0\n",
       "seasons                 3744\n",
       "imdb_id                  403\n",
       "imdb_score               482\n",
       "imdb_votes               498\n",
       "tmdb_popularity           91\n",
       "tmdb_score               311\n",
       "dtype: int64"
      ]
     },
     "execution_count": 6,
     "metadata": {},
     "output_type": "execute_result"
    }
   ],
   "source": [
    "#Check de nulos\n",
    "\n",
    "df.isnull().sum()"
   ]
  },
  {
   "cell_type": "markdown",
   "metadata": {},
   "source": [
    "Claramente, no pueden haber nulos en titulo. Por lo que va a ser una parte a limpiar.\n",
    "\n",
    "Casi la mitad de seasons esta vacia, eso es porque solo los tipo show tienen seasons, las peliculas no."
   ]
  },
  {
   "cell_type": "code",
   "execution_count": 14,
   "metadata": {},
   "outputs": [
    {
     "name": "stdout",
     "output_type": "stream",
     "text": [
      "<class 'pandas.core.frame.DataFrame'>\n",
      "Int64Index: 3744 entries, 1 to 5848\n",
      "Data columns (total 15 columns):\n",
      " #   Column                Non-Null Count  Dtype  \n",
      "---  ------                --------------  -----  \n",
      " 0   id                    3744 non-null   object \n",
      " 1   title                 3743 non-null   object \n",
      " 2   type                  3744 non-null   object \n",
      " 3   description           3735 non-null   object \n",
      " 4   release_year          3744 non-null   int64  \n",
      " 5   age_certification     1380 non-null   object \n",
      " 6   runtime               3744 non-null   int64  \n",
      " 7   genres                3744 non-null   object \n",
      " 8   production_countries  3744 non-null   object \n",
      " 9   seasons               0 non-null      float64\n",
      " 10  imdb_id               3482 non-null   object \n",
      " 11  imdb_score            3429 non-null   float64\n",
      " 12  imdb_votes            3413 non-null   float64\n",
      " 13  tmdb_popularity       3682 non-null   float64\n",
      " 14  tmdb_score            3549 non-null   float64\n",
      "dtypes: float64(5), int64(2), object(8)\n",
      "memory usage: 468.0+ KB\n"
     ]
    }
   ],
   "source": [
    "peliculas = df[df.type == 'MOVIE']\n",
    "\n",
    "peliculas.info()"
   ]
  },
  {
   "cell_type": "markdown",
   "metadata": {},
   "source": [
    "Como vemos, todas las filas de seasons son nulas. Por lo que el razonamiento previo es correcto."
   ]
  },
  {
   "cell_type": "code",
   "execution_count": 40,
   "metadata": {},
   "outputs": [
    {
     "data": {
      "text/html": [
       "<div>\n",
       "<style scoped>\n",
       "    .dataframe tbody tr th:only-of-type {\n",
       "        vertical-align: middle;\n",
       "    }\n",
       "\n",
       "    .dataframe tbody tr th {\n",
       "        vertical-align: top;\n",
       "    }\n",
       "\n",
       "    .dataframe thead th {\n",
       "        text-align: right;\n",
       "    }\n",
       "</style>\n",
       "<table border=\"1\" class=\"dataframe\">\n",
       "  <thead>\n",
       "    <tr style=\"text-align: right;\">\n",
       "      <th></th>\n",
       "      <th>imdb_score</th>\n",
       "      <th>imdb_votes</th>\n",
       "      <th>tmdb_popularity</th>\n",
       "      <th>tmdb_score</th>\n",
       "    </tr>\n",
       "  </thead>\n",
       "  <tbody>\n",
       "    <tr>\n",
       "      <th>count</th>\n",
       "      <td>5368.000000</td>\n",
       "      <td>5.352000e+03</td>\n",
       "      <td>5759.000000</td>\n",
       "      <td>5539.000000</td>\n",
       "    </tr>\n",
       "    <tr>\n",
       "      <th>mean</th>\n",
       "      <td>6.510861</td>\n",
       "      <td>2.343938e+04</td>\n",
       "      <td>22.637925</td>\n",
       "      <td>6.829175</td>\n",
       "    </tr>\n",
       "    <tr>\n",
       "      <th>std</th>\n",
       "      <td>1.163826</td>\n",
       "      <td>9.582047e+04</td>\n",
       "      <td>81.680263</td>\n",
       "      <td>1.170391</td>\n",
       "    </tr>\n",
       "    <tr>\n",
       "      <th>min</th>\n",
       "      <td>1.500000</td>\n",
       "      <td>5.000000e+00</td>\n",
       "      <td>0.009442</td>\n",
       "      <td>0.500000</td>\n",
       "    </tr>\n",
       "    <tr>\n",
       "      <th>25%</th>\n",
       "      <td>5.800000</td>\n",
       "      <td>5.167500e+02</td>\n",
       "      <td>2.728500</td>\n",
       "      <td>6.100000</td>\n",
       "    </tr>\n",
       "    <tr>\n",
       "      <th>50%</th>\n",
       "      <td>6.600000</td>\n",
       "      <td>2.233500e+03</td>\n",
       "      <td>6.821000</td>\n",
       "      <td>6.900000</td>\n",
       "    </tr>\n",
       "    <tr>\n",
       "      <th>75%</th>\n",
       "      <td>7.300000</td>\n",
       "      <td>9.494000e+03</td>\n",
       "      <td>16.590000</td>\n",
       "      <td>7.537500</td>\n",
       "    </tr>\n",
       "    <tr>\n",
       "      <th>max</th>\n",
       "      <td>9.600000</td>\n",
       "      <td>2.294231e+06</td>\n",
       "      <td>2274.044000</td>\n",
       "      <td>10.000000</td>\n",
       "    </tr>\n",
       "  </tbody>\n",
       "</table>\n",
       "</div>"
      ],
      "text/plain": [
       "        imdb_score    imdb_votes  tmdb_popularity   tmdb_score\n",
       "count  5368.000000  5.352000e+03      5759.000000  5539.000000\n",
       "mean      6.510861  2.343938e+04        22.637925     6.829175\n",
       "std       1.163826  9.582047e+04        81.680263     1.170391\n",
       "min       1.500000  5.000000e+00         0.009442     0.500000\n",
       "25%       5.800000  5.167500e+02         2.728500     6.100000\n",
       "50%       6.600000  2.233500e+03         6.821000     6.900000\n",
       "75%       7.300000  9.494000e+03        16.590000     7.537500\n",
       "max       9.600000  2.294231e+06      2274.044000    10.000000"
      ]
     },
     "execution_count": 40,
     "metadata": {},
     "output_type": "execute_result"
    }
   ],
   "source": [
    "df[['imdb_score','imdb_votes', 'tmdb_popularity', 'tmdb_score']].describe()"
   ]
  },
  {
   "cell_type": "markdown",
   "metadata": {},
   "source": [
    "Ahora procedemos a reemplazar los valores vacios de imdb_score y tmdb_score con los promedios"
   ]
  },
  {
   "cell_type": "code",
   "execution_count": 43,
   "metadata": {},
   "outputs": [
    {
     "data": {
      "text/plain": [
       "id                         0\n",
       "title                      1\n",
       "type                       0\n",
       "description               18\n",
       "release_year               0\n",
       "age_certification       2619\n",
       "runtime                    0\n",
       "genres                     0\n",
       "production_countries       0\n",
       "seasons                 3744\n",
       "imdb_id                  403\n",
       "imdb_score                 0\n",
       "imdb_votes               498\n",
       "tmdb_popularity           91\n",
       "tmdb_score                 0\n",
       "dtype: int64"
      ]
     },
     "execution_count": 43,
     "metadata": {},
     "output_type": "execute_result"
    }
   ],
   "source": [
    "df['imdb_score'].replace([np.nan], round(df['imdb_score'].mean(),1), inplace=True)\n",
    "df['tmdb_score'].replace([np.nan], round(df['tmdb_score'].mean(),1), inplace=True)\n",
    "df['tmdb_score'] = round(df['tmdb_score'],1)\n",
    "\n",
    "df.isnull().sum()"
   ]
  },
  {
   "cell_type": "markdown",
   "metadata": {},
   "source": [
    "Y finalmente, pasamos a guardar el archivo un poco mas limpio como titles_filtrado para los siguientes analisis."
   ]
  },
  {
   "cell_type": "code",
   "execution_count": 47,
   "metadata": {},
   "outputs": [],
   "source": [
    "df.to_csv('titles_filtrado.csv')"
   ]
  }
 ],
 "metadata": {
  "kernelspec": {
   "display_name": "Python 3.10.6 64-bit (windows store)",
   "language": "python",
   "name": "python3"
  },
  "language_info": {
   "codemirror_mode": {
    "name": "ipython",
    "version": 3
   },
   "file_extension": ".py",
   "mimetype": "text/x-python",
   "name": "python",
   "nbconvert_exporter": "python",
   "pygments_lexer": "ipython3",
   "version": "3.10.6"
  },
  "orig_nbformat": 4,
  "vscode": {
   "interpreter": {
    "hash": "6bfb2b3bd7df5c81aa15934e65570dceb366a496b1d88c1199517baba9f2df6c"
   }
  }
 },
 "nbformat": 4,
 "nbformat_minor": 2
}
