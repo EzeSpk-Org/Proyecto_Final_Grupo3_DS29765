{
 "cells": [
  {
   "cell_type": "code",
   "execution_count": 28,
   "metadata": {},
   "outputs": [],
   "source": [
    "#Importo la librerias\n",
    "import pandas as pd\n",
    "import numpy as np\n",
    "\n",
    "import matplotlib.pyplot as plt\n",
    "import seaborn as sns\n",
    "\n",
    "from sklearn import tree\n",
    "\n",
    "from sklearn.model_selection import train_test_split \n",
    "import sklearn"
   ]
  },
  {
   "cell_type": "code",
   "execution_count": 29,
   "metadata": {},
   "outputs": [
    {
     "name": "stdout",
     "output_type": "stream",
     "text": [
      "<class 'pandas.core.frame.DataFrame'>\n",
      "RangeIndex: 5850 entries, 0 to 5849\n",
      "Data columns (total 16 columns):\n",
      " #   Column                Non-Null Count  Dtype  \n",
      "---  ------                --------------  -----  \n",
      " 0   Unnamed: 0            5850 non-null   int64  \n",
      " 1   id                    5850 non-null   object \n",
      " 2   title                 5849 non-null   object \n",
      " 3   type                  5850 non-null   object \n",
      " 4   description           5832 non-null   object \n",
      " 5   release_year          5850 non-null   int64  \n",
      " 6   age_certification     3231 non-null   object \n",
      " 7   runtime               5850 non-null   int64  \n",
      " 8   genres                5850 non-null   object \n",
      " 9   production_countries  5850 non-null   object \n",
      " 10  seasons               2106 non-null   float64\n",
      " 11  imdb_id               5447 non-null   object \n",
      " 12  imdb_score            5850 non-null   float64\n",
      " 13  imdb_votes            5352 non-null   float64\n",
      " 14  tmdb_popularity       5759 non-null   float64\n",
      " 15  tmdb_score            5850 non-null   float64\n",
      "dtypes: float64(5), int64(3), object(8)\n",
      "memory usage: 731.4+ KB\n"
     ]
    }
   ],
   "source": [
    "#importo el dataset y hago revision de los datos\n",
    "\n",
    "df = pd.read_csv(\"titles_filtrado.csv\")\n",
    "\n",
    "df.info()"
   ]
  },
  {
   "cell_type": "code",
   "execution_count": 30,
   "metadata": {},
   "outputs": [
    {
     "data": {
      "text/html": [
       "<div>\n",
       "<style scoped>\n",
       "    .dataframe tbody tr th:only-of-type {\n",
       "        vertical-align: middle;\n",
       "    }\n",
       "\n",
       "    .dataframe tbody tr th {\n",
       "        vertical-align: top;\n",
       "    }\n",
       "\n",
       "    .dataframe thead th {\n",
       "        text-align: right;\n",
       "    }\n",
       "</style>\n",
       "<table border=\"1\" class=\"dataframe\">\n",
       "  <thead>\n",
       "    <tr style=\"text-align: right;\">\n",
       "      <th></th>\n",
       "      <th>genres_parsed</th>\n",
       "      <th>prod_countries_parsed</th>\n",
       "    </tr>\n",
       "  </thead>\n",
       "  <tbody>\n",
       "    <tr>\n",
       "      <th>0</th>\n",
       "      <td>documentation</td>\n",
       "      <td>US</td>\n",
       "    </tr>\n",
       "    <tr>\n",
       "      <th>1</th>\n",
       "      <td>drama</td>\n",
       "      <td>US</td>\n",
       "    </tr>\n",
       "    <tr>\n",
       "      <th>2</th>\n",
       "      <td>drama</td>\n",
       "      <td>US</td>\n",
       "    </tr>\n",
       "    <tr>\n",
       "      <th>3</th>\n",
       "      <td>fantasy</td>\n",
       "      <td>GB</td>\n",
       "    </tr>\n",
       "    <tr>\n",
       "      <th>4</th>\n",
       "      <td>war</td>\n",
       "      <td>GB</td>\n",
       "    </tr>\n",
       "    <tr>\n",
       "      <th>...</th>\n",
       "      <td>...</td>\n",
       "      <td>...</td>\n",
       "    </tr>\n",
       "    <tr>\n",
       "      <th>5845</th>\n",
       "      <td>romance</td>\n",
       "      <td>NG</td>\n",
       "    </tr>\n",
       "    <tr>\n",
       "      <th>5846</th>\n",
       "      <td>drama</td>\n",
       "      <td>N/A</td>\n",
       "    </tr>\n",
       "    <tr>\n",
       "      <th>5847</th>\n",
       "      <td>comedy</td>\n",
       "      <td>CO</td>\n",
       "    </tr>\n",
       "    <tr>\n",
       "      <th>5848</th>\n",
       "      <td>N/A</td>\n",
       "      <td>US</td>\n",
       "    </tr>\n",
       "    <tr>\n",
       "      <th>5849</th>\n",
       "      <td>family</td>\n",
       "      <td>N/A</td>\n",
       "    </tr>\n",
       "  </tbody>\n",
       "</table>\n",
       "<p>5850 rows × 2 columns</p>\n",
       "</div>"
      ],
      "text/plain": [
       "      genres_parsed prod_countries_parsed\n",
       "0     documentation                    US\n",
       "1             drama                    US\n",
       "2             drama                    US\n",
       "3           fantasy                    GB\n",
       "4               war                    GB\n",
       "...             ...                   ...\n",
       "5845        romance                    NG\n",
       "5846          drama                   N/A\n",
       "5847         comedy                    CO\n",
       "5848            N/A                    US\n",
       "5849         family                   N/A\n",
       "\n",
       "[5850 rows x 2 columns]"
      ]
     },
     "execution_count": 30,
     "metadata": {},
     "output_type": "execute_result"
    }
   ],
   "source": [
    "# Drop de columnas innecesarias\n",
    "df.drop(\"id\", inplace=True, axis=1)\n",
    "\n",
    "df.drop(\"imdb_id\", inplace=True, axis=1)\n",
    "\n",
    "# Limpio `genres` y `production_countries`, devuelta tomando el primer elemento de de la lista que cada valor retenga\n",
    "def parse_list(row):\n",
    "    parsed = str(row)[1:-1].split(\",\")\n",
    "    for i in range(len(parsed)):\n",
    "        parsed[i] = parsed[i].strip()[1:-1]\n",
    "        \n",
    "    return parsed[0] if parsed[0] != '' else 'N/A'\n",
    "\n",
    "df['genres_parsed'] = df['genres'].map(parse_list)\n",
    "df['prod_countries_parsed'] = df['production_countries'].map(parse_list)\n",
    "df[['genres_parsed', 'prod_countries_parsed']]"
   ]
  },
  {
   "cell_type": "code",
   "execution_count": 31,
   "metadata": {},
   "outputs": [],
   "source": [
    "# Añado la columna 'is_movie'\n",
    "df['is_movie'] = df.type.map(lambda x: 0 if x == 'SHOW' else 1)"
   ]
  },
  {
   "cell_type": "code",
   "execution_count": 32,
   "metadata": {},
   "outputs": [
    {
     "data": {
      "text/plain": [
       "Unnamed: 0                  0\n",
       "title                       1\n",
       "type                        0\n",
       "description                18\n",
       "release_year                0\n",
       "age_certification        2619\n",
       "runtime                     0\n",
       "genres                      0\n",
       "production_countries        0\n",
       "seasons                  3744\n",
       "imdb_score                  0\n",
       "imdb_votes                498\n",
       "tmdb_popularity            91\n",
       "tmdb_score                  0\n",
       "genres_parsed               0\n",
       "prod_countries_parsed       0\n",
       "is_movie                    0\n",
       "dtype: int64"
      ]
     },
     "execution_count": 32,
     "metadata": {},
     "output_type": "execute_result"
    }
   ],
   "source": [
    "# Obtengo todos los valores nulos\n",
    "df.isnull().sum()"
   ]
  },
  {
   "cell_type": "code",
   "execution_count": 33,
   "metadata": {},
   "outputs": [
    {
     "data": {
      "text/plain": [
       "Unnamed: 0               0\n",
       "type                     0\n",
       "release_year             0\n",
       "age_certification        0\n",
       "runtime                  0\n",
       "genres                   0\n",
       "production_countries     0\n",
       "seasons                  0\n",
       "imdb_score               0\n",
       "imdb_votes               0\n",
       "tmdb_popularity          0\n",
       "tmdb_score               0\n",
       "genres_parsed            0\n",
       "prod_countries_parsed    0\n",
       "is_movie                 0\n",
       "dtype: int64"
      ]
     },
     "execution_count": 33,
     "metadata": {},
     "output_type": "execute_result"
    }
   ],
   "source": [
    "# Drop de columnas innecesarias\n",
    "df.drop(\"title\", axis=1, inplace=True)\n",
    "df.drop(\"description\", axis=1, inplace=True)\n",
    "\n",
    "# Relleno valores nulos\n",
    "df['age_certification'].fillna(\"N/A\", inplace=True)\n",
    "df['seasons'].fillna(0.0, inplace=True)\n",
    "df['tmdb_popularity'].fillna(df['tmdb_popularity'].mean(), inplace=True)\n",
    "df['imdb_votes'].fillna(df['imdb_votes'].mean(), inplace=True)\n",
    "\n",
    "\n",
    "# Confirmo que no queden valores nulos\n",
    "df.isnull().sum()"
   ]
  },
  {
   "cell_type": "code",
   "execution_count": 34,
   "metadata": {},
   "outputs": [],
   "source": [
    "# Trasnfroma las variables categoricas en numericas\n",
    "all_data = pd.get_dummies(df[['age_certification', 'genres_parsed', 'prod_countries_parsed', 'imdb_votes', 'seasons', 'is_movie']])\n",
    "\n",
    "\n"
   ]
  },
  {
   "cell_type": "code",
   "execution_count": 35,
   "metadata": {},
   "outputs": [],
   "source": [
    "from sklearn.model_selection import train_test_split, cross_val_score\n",
    "\n",
    "from sklearn import preprocessing\n",
    "from sklearn import utils\n",
    "\n",
    "\n",
    "X = all_data.copy()\n",
    "y = df.pop('imdb_score')\n",
    "\n",
    "\n"
   ]
  },
  {
   "cell_type": "code",
   "execution_count": 80,
   "metadata": {},
   "outputs": [],
   "source": [
    "#convert y values to categorical values\n",
    "lab = preprocessing.LabelEncoder()\n",
    "y_transformed = lab.fit_transform(y)\n",
    "\n",
    "\n",
    "X_train, X_test, y_train, y_test = train_test_split(X, y_transformed, test_size=0.4, random_state = 42)"
   ]
  },
  {
   "cell_type": "code",
   "execution_count": 81,
   "metadata": {},
   "outputs": [],
   "source": [
    "from sklearn.tree import DecisionTreeClassifier #Importo el modelo\n",
    "\n",
    "clf = tree.DecisionTreeClassifier(max_depth=None, random_state = None) #Creo el modelo\n",
    "\n",
    "\n"
   ]
  },
  {
   "cell_type": "code",
   "execution_count": 82,
   "metadata": {},
   "outputs": [],
   "source": [
    "#Entreno el modelo\n",
    "\n",
    "clf = clf.fit(X_train, y_train)"
   ]
  },
  {
   "cell_type": "code",
   "execution_count": 83,
   "metadata": {},
   "outputs": [
    {
     "name": "stdout",
     "output_type": "stream",
     "text": [
      "        imdb_votes  seasons  is_movie  age_certification_G  \\\n",
      "3195  50988.000000      0.0         1                    0   \n",
      "5253  23439.382474      0.0         1                    0   \n",
      "4103   2350.000000      0.0         1                    0   \n",
      "1551    863.000000      0.0         1                    0   \n",
      "5189   8706.000000      3.0         0                    0   \n",
      "...            ...      ...       ...                  ...   \n",
      "3772   1345.000000      0.0         1                    0   \n",
      "5191   2590.000000      0.0         1                    0   \n",
      "5226    535.000000      0.0         1                    0   \n",
      "5390  23439.382474      1.0         0                    0   \n",
      "860   22894.000000      6.0         0                    0   \n",
      "\n",
      "      age_certification_N/A  age_certification_NC-17  age_certification_PG  \\\n",
      "3195                      0                        0                     0   \n",
      "5253                      1                        0                     0   \n",
      "4103                      1                        0                     0   \n",
      "1551                      1                        0                     0   \n",
      "5189                      0                        0                     0   \n",
      "...                     ...                      ...                   ...   \n",
      "3772                      1                        0                     0   \n",
      "5191                      1                        0                     0   \n",
      "5226                      0                        0                     0   \n",
      "5390                      1                        0                     0   \n",
      "860                       0                        0                     0   \n",
      "\n",
      "      age_certification_PG-13  age_certification_R  age_certification_TV-14  \\\n",
      "3195                        0                    1                        0   \n",
      "5253                        0                    0                        0   \n",
      "4103                        0                    0                        0   \n",
      "1551                        0                    0                        0   \n",
      "5189                        0                    0                        0   \n",
      "...                       ...                  ...                      ...   \n",
      "3772                        0                    0                        0   \n",
      "5191                        0                    0                        0   \n",
      "5226                        0                    1                        0   \n",
      "5390                        0                    0                        0   \n",
      "860                         0                    0                        1   \n",
      "\n",
      "      ...  prod_countries_parsed_TW  prod_countries_parsed_TZ  \\\n",
      "3195  ...                         0                         0   \n",
      "5253  ...                         0                         0   \n",
      "4103  ...                         0                         0   \n",
      "1551  ...                         0                         0   \n",
      "5189  ...                         0                         0   \n",
      "...   ...                       ...                       ...   \n",
      "3772  ...                         0                         0   \n",
      "5191  ...                         0                         0   \n",
      "5226  ...                         0                         0   \n",
      "5390  ...                         0                         0   \n",
      "860   ...                         0                         0   \n",
      "\n",
      "      prod_countries_parsed_UA  prod_countries_parsed_US  \\\n",
      "3195                         0                         1   \n",
      "5253                         0                         1   \n",
      "4103                         0                         0   \n",
      "1551                         0                         1   \n",
      "5189                         0                         0   \n",
      "...                        ...                       ...   \n",
      "3772                         0                         1   \n",
      "5191                         0                         0   \n",
      "5226                         0                         1   \n",
      "5390                         0                         0   \n",
      "860                          0                         1   \n",
      "\n",
      "      prod_countries_parsed_UY  prod_countries_parsed_VE  \\\n",
      "3195                         0                         0   \n",
      "5253                         0                         0   \n",
      "4103                         0                         0   \n",
      "1551                         0                         0   \n",
      "5189                         0                         0   \n",
      "...                        ...                       ...   \n",
      "3772                         0                         0   \n",
      "5191                         0                         0   \n",
      "5226                         0                         0   \n",
      "5390                         0                         0   \n",
      "860                          0                         0   \n",
      "\n",
      "      prod_countries_parsed_VN  prod_countries_parsed_XX  \\\n",
      "3195                         0                         0   \n",
      "5253                         0                         0   \n",
      "4103                         0                         0   \n",
      "1551                         0                         0   \n",
      "5189                         0                         0   \n",
      "...                        ...                       ...   \n",
      "3772                         0                         0   \n",
      "5191                         0                         0   \n",
      "5226                         0                         0   \n",
      "5390                         0                         0   \n",
      "860                          0                         0   \n",
      "\n",
      "      prod_countries_parsed_ZA  prod_countries_parsed_ZW  \n",
      "3195                         0                         0  \n",
      "5253                         0                         0  \n",
      "4103                         0                         0  \n",
      "1551                         0                         0  \n",
      "5189                         0                         0  \n",
      "...                        ...                       ...  \n",
      "3772                         0                         0  \n",
      "5191                         0                         0  \n",
      "5226                         0                         0  \n",
      "5390                         0                         0  \n",
      "860                          0                         0  \n",
      "\n",
      "[3510 rows x 132 columns]\n"
     ]
    }
   ],
   "source": [
    "y_train_pred = clf.predict(X_train) #Prediccion en Train\n",
    "y_test_pred = clf.predict(X_test) #Prediccion en Test\n",
    "print(X_train)"
   ]
  },
  {
   "cell_type": "code",
   "execution_count": 84,
   "metadata": {},
   "outputs": [
    {
     "name": "stdout",
     "output_type": "stream",
     "text": [
      "% de aciertos sobre el set de entrenamiento: 0.9971509971509972\n",
      "% de aciertos sobre el set de evaluación: 0.10811965811965812\n"
     ]
    }
   ],
   "source": [
    "from sklearn.metrics import accuracy_score\n",
    "\n",
    "#Calculo el accuracy en Train\n",
    "train_accuracy = accuracy_score(y_train, y_train_pred)\n",
    "\n",
    "#Calculo el accuracy en Test\n",
    "test_accuracy = accuracy_score(y_test, y_test_pred)\n",
    "\n",
    "print('% de aciertos sobre el set de entrenamiento:', train_accuracy)\n",
    "print('% de aciertos sobre el set de evaluación:', test_accuracy)"
   ]
  }
 ],
 "metadata": {
  "kernelspec": {
   "display_name": "Python 3.10.6 64-bit (windows store)",
   "language": "python",
   "name": "python3"
  },
  "language_info": {
   "codemirror_mode": {
    "name": "ipython",
    "version": 3
   },
   "file_extension": ".py",
   "mimetype": "text/x-python",
   "name": "python",
   "nbconvert_exporter": "python",
   "pygments_lexer": "ipython3",
   "version": "3.10.6"
  },
  "orig_nbformat": 4,
  "vscode": {
   "interpreter": {
    "hash": "6bfb2b3bd7df5c81aa15934e65570dceb366a496b1d88c1199517baba9f2df6c"
   }
  }
 },
 "nbformat": 4,
 "nbformat_minor": 2
}
