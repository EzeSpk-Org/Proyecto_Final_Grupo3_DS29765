{
 "cells": [
  {
   "cell_type": "code",
   "execution_count": 1,
   "metadata": {},
   "outputs": [],
   "source": [
    "#Importo la librerias\n",
    "import pandas as pd\n",
    "import numpy as np\n",
    "\n",
    "import matplotlib.pyplot as plt\n",
    "import seaborn as sns\n",
    "\n",
    "from sklearn import tree\n",
    "\n",
    "from sklearn.model_selection import train_test_split \n",
    "import sklearn"
   ]
  },
  {
   "cell_type": "code",
   "execution_count": 2,
   "metadata": {},
   "outputs": [
    {
     "name": "stdout",
     "output_type": "stream",
     "text": [
      "<class 'pandas.core.frame.DataFrame'>\n",
      "RangeIndex: 5850 entries, 0 to 5849\n",
      "Data columns (total 16 columns):\n",
      " #   Column                Non-Null Count  Dtype  \n",
      "---  ------                --------------  -----  \n",
      " 0   Unnamed: 0            5850 non-null   int64  \n",
      " 1   id                    5850 non-null   object \n",
      " 2   title                 5849 non-null   object \n",
      " 3   type                  5850 non-null   object \n",
      " 4   description           5832 non-null   object \n",
      " 5   release_year          5850 non-null   int64  \n",
      " 6   age_certification     3231 non-null   object \n",
      " 7   runtime               5850 non-null   int64  \n",
      " 8   genres                5850 non-null   object \n",
      " 9   production_countries  5850 non-null   object \n",
      " 10  seasons               2106 non-null   float64\n",
      " 11  imdb_id               5447 non-null   object \n",
      " 12  imdb_score            5850 non-null   float64\n",
      " 13  imdb_votes            5352 non-null   float64\n",
      " 14  tmdb_popularity       5759 non-null   float64\n",
      " 15  tmdb_score            5850 non-null   float64\n",
      "dtypes: float64(5), int64(3), object(8)\n",
      "memory usage: 731.4+ KB\n"
     ]
    }
   ],
   "source": [
    "#importo el dataset y hago revision de los datos\n",
    "\n",
    "df = pd.read_csv(\"titles_filtrado.csv\")\n",
    "\n",
    "df.info()"
   ]
  },
  {
   "cell_type": "code",
   "execution_count": 3,
   "metadata": {},
   "outputs": [],
   "source": [
    "#Separo en X e Y\n",
    "\n",
    "\n",
    "df_sklearn = df.drop([  \"id\",\n",
    "                        \"description\",\n",
    "                        \"title\",\n",
    "                        \"seasons\",\n",
    "                        \"imdb_id\",\n",
    "                        \"imdb_votes\",\n",
    "                        \"tmdb_popularity\",\n",
    "                        \"tmdb_score\",\n",
    "                        \"production_countries\",\n",
    "                        \"age_certification\"], axis=1) #Elimino de mi dataset la variable a predecir\n"
   ]
  },
  {
   "cell_type": "code",
   "execution_count": 4,
   "metadata": {},
   "outputs": [],
   "source": [
    "#Reemplazo los valores por valores numericos\n",
    "type_numerico = {'SHOW' : 1, 'MOVIE' : 0 }\n",
    "\"\"\"\n",
    "age_certification_numerico = {  \"TV-MA\" :   0,\n",
    "                                \"R\"     :   1,\n",
    "                                \"TV-14\" :   2,\n",
    "                                \"PG-13\" :   3,\n",
    "                                \"PG\"    :   4,\n",
    "                                \"TV-PG\" :   5,\n",
    "                                \"G\"     :   6,\n",
    "                                \"TV-Y7\" :   7,\n",
    "                                \"TV-Y\"  :   8,\n",
    "                                \"TV-G\"  :   9,\n",
    "                                \"NC-17\" :   10 }\n",
    "\"\"\"\n",
    "genres_numerico = { \"'drama'\"         :   0,\n",
    "                    \"'comedy'\"        :   1,\n",
    "                    \"'thriller'\"      :   2,\n",
    "                    \"'action'\"        :   3,\n",
    "                    \"'romance'\"       :   4,\n",
    "                    \"'documentation'\" :   5,\n",
    "                    \"'crime'\"         :   6,\n",
    "                    \"'animation'\"     :   7,\n",
    "                    \"'family'\"        :   8,\n",
    "                    \"'fantasy'\"       :   9,\n",
    "                    \"'scifi'\"         :   10,\n",
    "                    \"'european'\"      :   11,\n",
    "                    \"'horror'\"        :   12,\n",
    "                    \"'music'\"         :   13,\n",
    "                    \"'history'\"       :   14,\n",
    "                    \"'reality'\"       :   15,\n",
    "                    \"'sport'\"         :   16,\n",
    "                    \"'war'\"           :   17,\n",
    "                    \"'western'\"       :   18  }\n",
    "\n",
    "\"\"\"production_countries_numerico = {   \"'US'\"  :   0,\n",
    "                                    \"'IN'\"  :   1,\n",
    "                                    \"'GB'\"  :   2,\n",
    "                                    \"'JP'\"  :   3,\n",
    "                                    \"'FR'\"  :   4,\n",
    "                                    \"'KR'\"  :   5,\n",
    "                                    \"'CA'\"  :   6,\n",
    "                                    \"'ES'\"  :   7,\n",
    "                                    \"'DE'\"  :   8,\n",
    "                                    \"'MX'\"  :   9,\n",
    "                                    \"'CN'\"  :   10,\n",
    "                                    \"'BR'\"  :   11,\n",
    "                                    \"'PH'\"  :   12,\n",
    "                                    \"'TR'\"  :   13,\n",
    "                                    \"'AU'\"  :   14,\n",
    "                                    \"'IT'\"  :   15,\n",
    "                                    \"'NG'\"  :   16,\n",
    "                                    \"'AR'\"  :   17,\n",
    "                                    \"'TW'\"  :   18,\n",
    "                                    \"'ID'\"  :   19,\n",
    "                                    \"'BE'\"  :   20,\n",
    "                                    \"'EG'\"  :   21,\n",
    "                                    \"'CO'\"  :   22,\n",
    "                                    \"'ZA'\"  :   23,\n",
    "                                    \"'PL'\"  :   24,\n",
    "                                    \"'NL'\"  :   25,\n",
    "                                    \"'LB'\"  :   26,\n",
    "                                    \"'HK'\"  :   27,\n",
    "                                    \"'TH'\"  :   28,\n",
    "                                    \"'DK'\"  :   29,  }\n",
    "\n",
    "#X = X[X[\"genres\"] == production_countries_numerico]\n",
    "X_filtrado_countries = X['production_countries'].value_counts().head(30).index\n",
    "#X.replace({'production_countries' : production_countries_numerico }, inplace=True, regex=True)\n",
    "#X = X[X[\"genres\"] != \"[]\"]\n",
    "\"\"\"\n",
    "\n",
    "\n",
    "df_sklearn.replace({'genres' : genres_numerico }, inplace=True, regex=True)\n",
    "df_sklearn = df_sklearn[df_sklearn[\"genres\"] != \"[]\"]\n",
    "df_sklearn.replace({'type' : type_numerico }, inplace=True)\n",
    "\n"
   ]
  },
  {
   "cell_type": "code",
   "execution_count": 5,
   "metadata": {},
   "outputs": [
    {
     "name": "stdout",
     "output_type": "stream",
     "text": [
      "   Unnamed: 0  type  release_year  runtime genres\n",
      "0           0     1          1945       51      5\n",
      "1           1     0          1976      114      0\n",
      "2           2     0          1972      109      0\n",
      "3           3     0          1975       91      1\n",
      "4           4     0          1967      150      3\n",
      "0    6.5\n",
      "1    8.2\n",
      "2    7.7\n",
      "3    8.2\n",
      "4    7.7\n",
      "Name: imdb_score, dtype: float64\n"
     ]
    }
   ],
   "source": [
    "df_sklearn.dropna(axis= 0, how='any')\n",
    "\n",
    "X = df_sklearn.drop(\"imdb_score\", axis=1)\n",
    "print(X.head())\n",
    "y = df_sklearn.imdb_score #Defino el Target\n",
    "print(y.head())"
   ]
  },
  {
   "cell_type": "code",
   "execution_count": 6,
   "metadata": {},
   "outputs": [],
   "source": [
    "#Me quedo con 30% para test y 70% para train\n",
    "\n",
    "X_train, X_test, y_train, y_test = train_test_split(X, y, test_size=0.30, random_state = 42)\n"
   ]
  },
  {
   "cell_type": "code",
   "execution_count": 7,
   "metadata": {},
   "outputs": [],
   "source": [
    "from sklearn.tree import DecisionTreeClassifier #Importo el modelo\n",
    "\n",
    "clf = tree.DecisionTreeRegressor(max_depth=2, random_state = 42) #Creo el modelo\n",
    "\n"
   ]
  },
  {
   "cell_type": "code",
   "execution_count": 8,
   "metadata": {},
   "outputs": [],
   "source": [
    "#Entreno el modelo\n",
    "\n",
    "clf = clf.fit(X, y)"
   ]
  },
  {
   "cell_type": "code",
   "execution_count": 9,
   "metadata": {},
   "outputs": [],
   "source": [
    "y_train_pred = clf.predict(X_train) #Prediccion en Train\n",
    "y_test_pred = clf.predict(X_test) #Prediccion en Test"
   ]
  },
  {
   "cell_type": "code",
   "execution_count": 10,
   "metadata": {},
   "outputs": [
    {
     "name": "stdout",
     "output_type": "stream",
     "text": [
      "0.12270203619226583\n"
     ]
    }
   ],
   "source": [
    "from sklearn.model_selection import cross_val_score\n",
    "\"\"\"\n",
    "#Calculo el accuracy en Train\n",
    "train_accuracy = accuracy_score(y_train, y_train_pred)\n",
    "\n",
    "#Calculo el accuracy en Test\n",
    "test_accuracy = accuracy_score(y_test, y_test_pred)\n",
    "\"\"\"\n",
    "score = clf.score(X_test, y_test)\n",
    "\n",
    "print(score)"
   ]
  }
 ],
 "metadata": {
  "kernelspec": {
   "display_name": "Python 3.10.6 64-bit (windows store)",
   "language": "python",
   "name": "python3"
  },
  "language_info": {
   "codemirror_mode": {
    "name": "ipython",
    "version": 3
   },
   "file_extension": ".py",
   "mimetype": "text/x-python",
   "name": "python",
   "nbconvert_exporter": "python",
   "pygments_lexer": "ipython3",
   "version": "3.10.6"
  },
  "orig_nbformat": 4,
  "vscode": {
   "interpreter": {
    "hash": "6bfb2b3bd7df5c81aa15934e65570dceb366a496b1d88c1199517baba9f2df6c"
   }
  }
 },
 "nbformat": 4,
 "nbformat_minor": 2
}
