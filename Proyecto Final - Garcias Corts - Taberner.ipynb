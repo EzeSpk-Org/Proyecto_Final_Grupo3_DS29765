{
 "cells": [
  {
   "cell_type": "code",
   "execution_count": 1,
   "metadata": {},
   "outputs": [],
   "source": [
    "#Importo la librerias\n",
    "import pandas as pd\n",
    "import numpy as np\n",
    "\n",
    "import matplotlib.pyplot as plt\n",
    "import seaborn as sns\n",
    "\n",
    "from sklearn import tree\n",
    "\n",
    "from sklearn.model_selection import train_test_split, cross_val_score\n",
    "import sklearn\n",
    "\n",
    "import warnings\n",
    "warnings.filterwarnings('ignore')\n",
    "\n",
    "#conda install -c conda-forge hdbscan ##intalar HDBSCAN si no estuviera en el entorno \n",
    "import hdbscan"
   ]
  },
  {
   "cell_type": "markdown",
   "metadata": {},
   "source": [
    "# Predictor de Puntaje\n",
    "## Limpieza y preparacion de set de datos"
   ]
  },
  {
   "cell_type": "code",
   "execution_count": 2,
   "metadata": {},
   "outputs": [
    {
     "name": "stdout",
     "output_type": "stream",
     "text": [
      "<class 'pandas.core.frame.DataFrame'>\n",
      "RangeIndex: 5850 entries, 0 to 5849\n",
      "Data columns (total 16 columns):\n",
      " #   Column                Non-Null Count  Dtype  \n",
      "---  ------                --------------  -----  \n",
      " 0   Unnamed: 0            5850 non-null   int64  \n",
      " 1   id                    5850 non-null   object \n",
      " 2   title                 5849 non-null   object \n",
      " 3   type                  5850 non-null   object \n",
      " 4   description           5832 non-null   object \n",
      " 5   release_year          5850 non-null   int64  \n",
      " 6   age_certification     3231 non-null   object \n",
      " 7   runtime               5850 non-null   int64  \n",
      " 8   genres                5850 non-null   object \n",
      " 9   production_countries  5850 non-null   object \n",
      " 10  seasons               2106 non-null   float64\n",
      " 11  imdb_id               5447 non-null   object \n",
      " 12  imdb_score            5850 non-null   float64\n",
      " 13  imdb_votes            5352 non-null   float64\n",
      " 14  tmdb_popularity       5759 non-null   float64\n",
      " 15  tmdb_score            5850 non-null   float64\n",
      "dtypes: float64(5), int64(3), object(8)\n",
      "memory usage: 731.4+ KB\n"
     ]
    }
   ],
   "source": [
    "#importo el dataset y hago revision de los datos\n",
    "\n",
    "df = pd.read_csv(\"titles_filtrado.csv\")\n",
    "\n",
    "df.info()"
   ]
  },
  {
   "cell_type": "code",
   "execution_count": 3,
   "metadata": {},
   "outputs": [],
   "source": [
    "# Drop de columnas innecesarias\n",
    "df.drop(\"id\", inplace=True, axis=1)\n",
    "\n",
    "df.drop(\"imdb_id\", inplace=True, axis=1)\n",
    "\n",
    "# Limpio `genres` y `production_countries`, devuelta tomando el primer elemento de de la lista que cada valor retenga\n",
    "def parse_list(row):\n",
    "    parsed = str(row)[1:-1].split(\",\")\n",
    "    for i in range(len(parsed)):\n",
    "        parsed[i] = parsed[i].strip()[1:-1]\n",
    "        \n",
    "    return parsed[0] if parsed[0] != '' else 'N/A'\n",
    "\n",
    "df['genres_parsed'] = df['genres'].map(parse_list)\n",
    "df['prod_countries_parsed'] = df['production_countries'].map(parse_list)"
   ]
  },
  {
   "cell_type": "code",
   "execution_count": 4,
   "metadata": {},
   "outputs": [],
   "source": [
    "# Añado la columna 'is_movie'\n",
    "df['is_movie'] = df.type.map(lambda x: 0 if x == 'SHOW' else 1)"
   ]
  },
  {
   "cell_type": "code",
   "execution_count": 5,
   "metadata": {},
   "outputs": [
    {
     "data": {
      "text/plain": [
       "Unnamed: 0                  0\n",
       "title                       1\n",
       "type                        0\n",
       "description                18\n",
       "release_year                0\n",
       "age_certification        2619\n",
       "runtime                     0\n",
       "genres                      0\n",
       "production_countries        0\n",
       "seasons                  3744\n",
       "imdb_score                  0\n",
       "imdb_votes                498\n",
       "tmdb_popularity            91\n",
       "tmdb_score                  0\n",
       "genres_parsed               0\n",
       "prod_countries_parsed       0\n",
       "is_movie                    0\n",
       "dtype: int64"
      ]
     },
     "execution_count": 5,
     "metadata": {},
     "output_type": "execute_result"
    }
   ],
   "source": [
    "# Obtengo todos los valores nulos\n",
    "df.isnull().sum()"
   ]
  },
  {
   "cell_type": "code",
   "execution_count": 6,
   "metadata": {},
   "outputs": [
    {
     "data": {
      "text/plain": [
       "Unnamed: 0               0\n",
       "type                     0\n",
       "release_year             0\n",
       "age_certification        0\n",
       "runtime                  0\n",
       "genres                   0\n",
       "production_countries     0\n",
       "seasons                  0\n",
       "imdb_score               0\n",
       "imdb_votes               0\n",
       "tmdb_popularity          0\n",
       "tmdb_score               0\n",
       "genres_parsed            0\n",
       "prod_countries_parsed    0\n",
       "is_movie                 0\n",
       "dtype: int64"
      ]
     },
     "execution_count": 6,
     "metadata": {},
     "output_type": "execute_result"
    }
   ],
   "source": [
    "# Drop de columnas innecesarias\n",
    "df.drop(\"title\", axis=1, inplace=True)\n",
    "df.drop(\"description\", axis=1, inplace=True)\n",
    "\n",
    "# Relleno valores nulos\n",
    "df['age_certification'].fillna(\"N/A\", inplace=True)\n",
    "df['seasons'].fillna(0.0, inplace=True)\n",
    "df['tmdb_popularity'].fillna(df['tmdb_popularity'].mean(), inplace=True)\n",
    "df['imdb_votes'].fillna(df['imdb_votes'].mean(), inplace=True)\n",
    "\n",
    "\n",
    "# Confirmo que no queden valores nulos\n",
    "df.isnull().sum()"
   ]
  },
  {
   "cell_type": "code",
   "execution_count": 7,
   "metadata": {},
   "outputs": [
    {
     "data": {
      "text/html": [
       "<div>\n",
       "<style scoped>\n",
       "    .dataframe tbody tr th:only-of-type {\n",
       "        vertical-align: middle;\n",
       "    }\n",
       "\n",
       "    .dataframe tbody tr th {\n",
       "        vertical-align: top;\n",
       "    }\n",
       "\n",
       "    .dataframe thead th {\n",
       "        text-align: right;\n",
       "    }\n",
       "</style>\n",
       "<table border=\"1\" class=\"dataframe\">\n",
       "  <thead>\n",
       "    <tr style=\"text-align: right;\">\n",
       "      <th></th>\n",
       "      <th>Unnamed: 0</th>\n",
       "      <th>release_year</th>\n",
       "      <th>runtime</th>\n",
       "      <th>seasons</th>\n",
       "      <th>imdb_score</th>\n",
       "      <th>imdb_votes</th>\n",
       "      <th>tmdb_popularity</th>\n",
       "      <th>tmdb_score</th>\n",
       "      <th>is_movie</th>\n",
       "    </tr>\n",
       "  </thead>\n",
       "  <tbody>\n",
       "    <tr>\n",
       "      <th>count</th>\n",
       "      <td>5850.000000</td>\n",
       "      <td>5850.000000</td>\n",
       "      <td>5850.000000</td>\n",
       "      <td>5850.000000</td>\n",
       "      <td>5850.000000</td>\n",
       "      <td>5.850000e+03</td>\n",
       "      <td>5850.000000</td>\n",
       "      <td>5850.000000</td>\n",
       "      <td>5850.000000</td>\n",
       "    </tr>\n",
       "    <tr>\n",
       "      <th>mean</th>\n",
       "      <td>2924.500000</td>\n",
       "      <td>2016.417094</td>\n",
       "      <td>76.888889</td>\n",
       "      <td>0.778632</td>\n",
       "      <td>6.509966</td>\n",
       "      <td>2.343938e+04</td>\n",
       "      <td>22.637925</td>\n",
       "      <td>6.827573</td>\n",
       "      <td>0.640000</td>\n",
       "    </tr>\n",
       "    <tr>\n",
       "      <th>std</th>\n",
       "      <td>1688.893869</td>\n",
       "      <td>6.937726</td>\n",
       "      <td>39.002509</td>\n",
       "      <td>1.918422</td>\n",
       "      <td>1.114846</td>\n",
       "      <td>9.165053e+04</td>\n",
       "      <td>81.042373</td>\n",
       "      <td>1.139020</td>\n",
       "      <td>0.480041</td>\n",
       "    </tr>\n",
       "    <tr>\n",
       "      <th>min</th>\n",
       "      <td>0.000000</td>\n",
       "      <td>1945.000000</td>\n",
       "      <td>0.000000</td>\n",
       "      <td>0.000000</td>\n",
       "      <td>1.500000</td>\n",
       "      <td>5.000000e+00</td>\n",
       "      <td>0.009442</td>\n",
       "      <td>0.500000</td>\n",
       "      <td>0.000000</td>\n",
       "    </tr>\n",
       "    <tr>\n",
       "      <th>25%</th>\n",
       "      <td>1462.250000</td>\n",
       "      <td>2016.000000</td>\n",
       "      <td>44.000000</td>\n",
       "      <td>0.000000</td>\n",
       "      <td>5.900000</td>\n",
       "      <td>6.042500e+02</td>\n",
       "      <td>2.765250</td>\n",
       "      <td>6.200000</td>\n",
       "      <td>0.000000</td>\n",
       "    </tr>\n",
       "    <tr>\n",
       "      <th>50%</th>\n",
       "      <td>2924.500000</td>\n",
       "      <td>2018.000000</td>\n",
       "      <td>83.000000</td>\n",
       "      <td>0.000000</td>\n",
       "      <td>6.500000</td>\n",
       "      <td>2.803500e+03</td>\n",
       "      <td>6.962000</td>\n",
       "      <td>6.800000</td>\n",
       "      <td>1.000000</td>\n",
       "    </tr>\n",
       "    <tr>\n",
       "      <th>75%</th>\n",
       "      <td>4386.750000</td>\n",
       "      <td>2020.000000</td>\n",
       "      <td>104.000000</td>\n",
       "      <td>1.000000</td>\n",
       "      <td>7.300000</td>\n",
       "      <td>1.777225e+04</td>\n",
       "      <td>17.406500</td>\n",
       "      <td>7.500000</td>\n",
       "      <td>1.000000</td>\n",
       "    </tr>\n",
       "    <tr>\n",
       "      <th>max</th>\n",
       "      <td>5849.000000</td>\n",
       "      <td>2022.000000</td>\n",
       "      <td>240.000000</td>\n",
       "      <td>42.000000</td>\n",
       "      <td>9.600000</td>\n",
       "      <td>2.294231e+06</td>\n",
       "      <td>2274.044000</td>\n",
       "      <td>10.000000</td>\n",
       "      <td>1.000000</td>\n",
       "    </tr>\n",
       "  </tbody>\n",
       "</table>\n",
       "</div>"
      ],
      "text/plain": [
       "        Unnamed: 0  release_year      runtime      seasons   imdb_score  \\\n",
       "count  5850.000000   5850.000000  5850.000000  5850.000000  5850.000000   \n",
       "mean   2924.500000   2016.417094    76.888889     0.778632     6.509966   \n",
       "std    1688.893869      6.937726    39.002509     1.918422     1.114846   \n",
       "min       0.000000   1945.000000     0.000000     0.000000     1.500000   \n",
       "25%    1462.250000   2016.000000    44.000000     0.000000     5.900000   \n",
       "50%    2924.500000   2018.000000    83.000000     0.000000     6.500000   \n",
       "75%    4386.750000   2020.000000   104.000000     1.000000     7.300000   \n",
       "max    5849.000000   2022.000000   240.000000    42.000000     9.600000   \n",
       "\n",
       "         imdb_votes  tmdb_popularity   tmdb_score     is_movie  \n",
       "count  5.850000e+03      5850.000000  5850.000000  5850.000000  \n",
       "mean   2.343938e+04        22.637925     6.827573     0.640000  \n",
       "std    9.165053e+04        81.042373     1.139020     0.480041  \n",
       "min    5.000000e+00         0.009442     0.500000     0.000000  \n",
       "25%    6.042500e+02         2.765250     6.200000     0.000000  \n",
       "50%    2.803500e+03         6.962000     6.800000     1.000000  \n",
       "75%    1.777225e+04        17.406500     7.500000     1.000000  \n",
       "max    2.294231e+06      2274.044000    10.000000     1.000000  "
      ]
     },
     "execution_count": 7,
     "metadata": {},
     "output_type": "execute_result"
    }
   ],
   "source": [
    "df.describe()"
   ]
  },
  {
   "cell_type": "code",
   "execution_count": 8,
   "metadata": {},
   "outputs": [
    {
     "data": {
      "text/html": [
       "<div>\n",
       "<style scoped>\n",
       "    .dataframe tbody tr th:only-of-type {\n",
       "        vertical-align: middle;\n",
       "    }\n",
       "\n",
       "    .dataframe tbody tr th {\n",
       "        vertical-align: top;\n",
       "    }\n",
       "\n",
       "    .dataframe thead th {\n",
       "        text-align: right;\n",
       "    }\n",
       "</style>\n",
       "<table border=\"1\" class=\"dataframe\">\n",
       "  <thead>\n",
       "    <tr style=\"text-align: right;\">\n",
       "      <th></th>\n",
       "      <th>Unnamed: 0</th>\n",
       "      <th>type</th>\n",
       "      <th>release_year</th>\n",
       "      <th>age_certification</th>\n",
       "      <th>runtime</th>\n",
       "      <th>genres</th>\n",
       "      <th>production_countries</th>\n",
       "      <th>seasons</th>\n",
       "      <th>imdb_score</th>\n",
       "      <th>imdb_votes</th>\n",
       "      <th>tmdb_popularity</th>\n",
       "      <th>tmdb_score</th>\n",
       "      <th>genres_parsed</th>\n",
       "      <th>prod_countries_parsed</th>\n",
       "      <th>is_movie</th>\n",
       "    </tr>\n",
       "  </thead>\n",
       "  <tbody>\n",
       "    <tr>\n",
       "      <th>0</th>\n",
       "      <td>0</td>\n",
       "      <td>SHOW</td>\n",
       "      <td>1945</td>\n",
       "      <td>TV-MA</td>\n",
       "      <td>51</td>\n",
       "      <td>['documentation']</td>\n",
       "      <td>['US']</td>\n",
       "      <td>1.0</td>\n",
       "      <td>6.0</td>\n",
       "      <td>23439.382474</td>\n",
       "      <td>0.600000</td>\n",
       "      <td>6.8</td>\n",
       "      <td>documentation</td>\n",
       "      <td>US</td>\n",
       "      <td>0</td>\n",
       "    </tr>\n",
       "    <tr>\n",
       "      <th>1</th>\n",
       "      <td>1</td>\n",
       "      <td>MOVIE</td>\n",
       "      <td>1976</td>\n",
       "      <td>R</td>\n",
       "      <td>114</td>\n",
       "      <td>['drama', 'crime']</td>\n",
       "      <td>['US']</td>\n",
       "      <td>0.0</td>\n",
       "      <td>8.0</td>\n",
       "      <td>808582.000000</td>\n",
       "      <td>40.965000</td>\n",
       "      <td>8.2</td>\n",
       "      <td>drama</td>\n",
       "      <td>US</td>\n",
       "      <td>1</td>\n",
       "    </tr>\n",
       "    <tr>\n",
       "      <th>2</th>\n",
       "      <td>2</td>\n",
       "      <td>MOVIE</td>\n",
       "      <td>1972</td>\n",
       "      <td>R</td>\n",
       "      <td>109</td>\n",
       "      <td>['drama', 'action', 'thriller', 'european']</td>\n",
       "      <td>['US']</td>\n",
       "      <td>0.0</td>\n",
       "      <td>8.0</td>\n",
       "      <td>107673.000000</td>\n",
       "      <td>10.010000</td>\n",
       "      <td>7.3</td>\n",
       "      <td>drama</td>\n",
       "      <td>US</td>\n",
       "      <td>1</td>\n",
       "    </tr>\n",
       "    <tr>\n",
       "      <th>3</th>\n",
       "      <td>3</td>\n",
       "      <td>MOVIE</td>\n",
       "      <td>1975</td>\n",
       "      <td>PG</td>\n",
       "      <td>91</td>\n",
       "      <td>['fantasy', 'action', 'comedy']</td>\n",
       "      <td>['GB']</td>\n",
       "      <td>0.0</td>\n",
       "      <td>8.0</td>\n",
       "      <td>534486.000000</td>\n",
       "      <td>15.461000</td>\n",
       "      <td>7.8</td>\n",
       "      <td>fantasy</td>\n",
       "      <td>GB</td>\n",
       "      <td>1</td>\n",
       "    </tr>\n",
       "    <tr>\n",
       "      <th>4</th>\n",
       "      <td>4</td>\n",
       "      <td>MOVIE</td>\n",
       "      <td>1967</td>\n",
       "      <td>N/A</td>\n",
       "      <td>150</td>\n",
       "      <td>['war', 'action']</td>\n",
       "      <td>['GB', 'US']</td>\n",
       "      <td>0.0</td>\n",
       "      <td>8.0</td>\n",
       "      <td>72662.000000</td>\n",
       "      <td>20.398000</td>\n",
       "      <td>7.6</td>\n",
       "      <td>war</td>\n",
       "      <td>GB</td>\n",
       "      <td>1</td>\n",
       "    </tr>\n",
       "    <tr>\n",
       "      <th>...</th>\n",
       "      <td>...</td>\n",
       "      <td>...</td>\n",
       "      <td>...</td>\n",
       "      <td>...</td>\n",
       "      <td>...</td>\n",
       "      <td>...</td>\n",
       "      <td>...</td>\n",
       "      <td>...</td>\n",
       "      <td>...</td>\n",
       "      <td>...</td>\n",
       "      <td>...</td>\n",
       "      <td>...</td>\n",
       "      <td>...</td>\n",
       "      <td>...</td>\n",
       "      <td>...</td>\n",
       "    </tr>\n",
       "    <tr>\n",
       "      <th>5832</th>\n",
       "      <td>5832</td>\n",
       "      <td>MOVIE</td>\n",
       "      <td>2021</td>\n",
       "      <td>N/A</td>\n",
       "      <td>106</td>\n",
       "      <td>['romance', 'comedy']</td>\n",
       "      <td>['GB', 'IN']</td>\n",
       "      <td>0.0</td>\n",
       "      <td>4.0</td>\n",
       "      <td>792.000000</td>\n",
       "      <td>1.589000</td>\n",
       "      <td>5.3</td>\n",
       "      <td>romance</td>\n",
       "      <td>GB</td>\n",
       "      <td>1</td>\n",
       "    </tr>\n",
       "    <tr>\n",
       "      <th>5833</th>\n",
       "      <td>5833</td>\n",
       "      <td>SHOW</td>\n",
       "      <td>2021</td>\n",
       "      <td>TV-14</td>\n",
       "      <td>24</td>\n",
       "      <td>['comedy']</td>\n",
       "      <td>['NG']</td>\n",
       "      <td>1.0</td>\n",
       "      <td>6.0</td>\n",
       "      <td>23439.382474</td>\n",
       "      <td>0.840000</td>\n",
       "      <td>6.8</td>\n",
       "      <td>comedy</td>\n",
       "      <td>NG</td>\n",
       "      <td>0</td>\n",
       "    </tr>\n",
       "    <tr>\n",
       "      <th>5840</th>\n",
       "      <td>5840</td>\n",
       "      <td>MOVIE</td>\n",
       "      <td>2022</td>\n",
       "      <td>N/A</td>\n",
       "      <td>26</td>\n",
       "      <td>[]</td>\n",
       "      <td>[]</td>\n",
       "      <td>0.0</td>\n",
       "      <td>6.0</td>\n",
       "      <td>23439.382474</td>\n",
       "      <td>1.179000</td>\n",
       "      <td>7.0</td>\n",
       "      <td>N/A</td>\n",
       "      <td>N/A</td>\n",
       "      <td>1</td>\n",
       "    </tr>\n",
       "    <tr>\n",
       "      <th>5844</th>\n",
       "      <td>5844</td>\n",
       "      <td>MOVIE</td>\n",
       "      <td>2021</td>\n",
       "      <td>N/A</td>\n",
       "      <td>35</td>\n",
       "      <td>[]</td>\n",
       "      <td>['US']</td>\n",
       "      <td>0.0</td>\n",
       "      <td>6.0</td>\n",
       "      <td>23439.382474</td>\n",
       "      <td>22.637925</td>\n",
       "      <td>6.8</td>\n",
       "      <td>N/A</td>\n",
       "      <td>US</td>\n",
       "      <td>1</td>\n",
       "    </tr>\n",
       "    <tr>\n",
       "      <th>5848</th>\n",
       "      <td>5848</td>\n",
       "      <td>MOVIE</td>\n",
       "      <td>2021</td>\n",
       "      <td>PG-13</td>\n",
       "      <td>37</td>\n",
       "      <td>[]</td>\n",
       "      <td>['US']</td>\n",
       "      <td>0.0</td>\n",
       "      <td>6.0</td>\n",
       "      <td>23439.382474</td>\n",
       "      <td>1.296000</td>\n",
       "      <td>10.0</td>\n",
       "      <td>N/A</td>\n",
       "      <td>US</td>\n",
       "      <td>1</td>\n",
       "    </tr>\n",
       "  </tbody>\n",
       "</table>\n",
       "<p>4542 rows × 15 columns</p>\n",
       "</div>"
      ],
      "text/plain": [
       "      Unnamed: 0   type  release_year age_certification  runtime  \\\n",
       "0              0   SHOW          1945             TV-MA       51   \n",
       "1              1  MOVIE          1976                 R      114   \n",
       "2              2  MOVIE          1972                 R      109   \n",
       "3              3  MOVIE          1975                PG       91   \n",
       "4              4  MOVIE          1967               N/A      150   \n",
       "...          ...    ...           ...               ...      ...   \n",
       "5832        5832  MOVIE          2021               N/A      106   \n",
       "5833        5833   SHOW          2021             TV-14       24   \n",
       "5840        5840  MOVIE          2022               N/A       26   \n",
       "5844        5844  MOVIE          2021               N/A       35   \n",
       "5848        5848  MOVIE          2021             PG-13       37   \n",
       "\n",
       "                                           genres production_countries  \\\n",
       "0                               ['documentation']               ['US']   \n",
       "1                              ['drama', 'crime']               ['US']   \n",
       "2     ['drama', 'action', 'thriller', 'european']               ['US']   \n",
       "3                 ['fantasy', 'action', 'comedy']               ['GB']   \n",
       "4                               ['war', 'action']         ['GB', 'US']   \n",
       "...                                           ...                  ...   \n",
       "5832                        ['romance', 'comedy']         ['GB', 'IN']   \n",
       "5833                                   ['comedy']               ['NG']   \n",
       "5840                                           []                   []   \n",
       "5844                                           []               ['US']   \n",
       "5848                                           []               ['US']   \n",
       "\n",
       "      seasons  imdb_score     imdb_votes  tmdb_popularity  tmdb_score  \\\n",
       "0         1.0         6.0   23439.382474         0.600000         6.8   \n",
       "1         0.0         8.0  808582.000000        40.965000         8.2   \n",
       "2         0.0         8.0  107673.000000        10.010000         7.3   \n",
       "3         0.0         8.0  534486.000000        15.461000         7.8   \n",
       "4         0.0         8.0   72662.000000        20.398000         7.6   \n",
       "...       ...         ...            ...              ...         ...   \n",
       "5832      0.0         4.0     792.000000         1.589000         5.3   \n",
       "5833      1.0         6.0   23439.382474         0.840000         6.8   \n",
       "5840      0.0         6.0   23439.382474         1.179000         7.0   \n",
       "5844      0.0         6.0   23439.382474        22.637925         6.8   \n",
       "5848      0.0         6.0   23439.382474         1.296000        10.0   \n",
       "\n",
       "      genres_parsed prod_countries_parsed  is_movie  \n",
       "0     documentation                    US         0  \n",
       "1             drama                    US         1  \n",
       "2             drama                    US         1  \n",
       "3           fantasy                    GB         1  \n",
       "4               war                    GB         1  \n",
       "...             ...                   ...       ...  \n",
       "5832        romance                    GB         1  \n",
       "5833         comedy                    NG         0  \n",
       "5840            N/A                   N/A         1  \n",
       "5844            N/A                    US         1  \n",
       "5848            N/A                    US         1  \n",
       "\n",
       "[4542 rows x 15 columns]"
      ]
     },
     "execution_count": 8,
     "metadata": {},
     "output_type": "execute_result"
    }
   ],
   "source": [
    "#Quito las producciones que posean pocos votos ya que su puntacion es dudosa\n",
    "\n",
    "indexNames = df[df['imdb_votes'] <= 5e+02].index\n",
    "\n",
    "df.drop(indexNames , inplace=True)\n",
    "\n",
    "df.round({'imdb_score': 0})"
   ]
  },
  {
   "cell_type": "markdown",
   "metadata": {},
   "source": [
    "## Aplicacion de modelos de regression"
   ]
  },
  {
   "cell_type": "code",
   "execution_count": 9,
   "metadata": {},
   "outputs": [],
   "source": [
    "# Trasnfromamos las variables categoricas en numericas\n",
    "all_data = pd.get_dummies(df[[  'age_certification',\n",
    "                                'genres_parsed', \n",
    "                                'prod_countries_parsed', \n",
    "                                'imdb_votes', \n",
    "                                'seasons', \n",
    "                                'is_movie',\n",
    "                                'release_year',\n",
    "                                'runtime']])\n",
    "\n"
   ]
  },
  {
   "cell_type": "code",
   "execution_count": 10,
   "metadata": {},
   "outputs": [],
   "source": [
    "# Creamos las variables base\n",
    "\n",
    "X = all_data.copy()\n",
    "y = df.pop('imdb_score')"
   ]
  },
  {
   "cell_type": "code",
   "execution_count": 11,
   "metadata": {},
   "outputs": [],
   "source": [
    "#Creo las variables de prueba y entrenamiento\n",
    "\n",
    "from sklearn.model_selection import train_test_split, cross_val_score\n",
    "\n",
    "\n",
    "X_train, X_test, y_train, y_test = train_test_split(X, y, random_state=1)"
   ]
  },
  {
   "cell_type": "markdown",
   "metadata": {},
   "source": [
    "#### Metodo de verificacion\n",
    "\n",
    "Como han aparecido varias discrepancias en los metodos de scoring de los modelos por parte de las librerias propias de Sklearn, adoptamos el uso del siguiente metodo para poder visualizar el promedio de los errores cuadrados, absolutos y absoluto porcentual."
   ]
  },
  {
   "cell_type": "code",
   "execution_count": 12,
   "metadata": {},
   "outputs": [],
   "source": [
    "#Este es un metodo para ver el error en el modelo\n",
    "\n",
    "from sklearn.ensemble import RandomForestRegressor\n",
    "\n",
    "\n",
    "from sklearn.metrics import mean_squared_error, mean_absolute_error, mean_absolute_percentage_error\n",
    "\n",
    "def score_dataset(X_train, X_valid, y_train, y_valid, model=RandomForestRegressor(n_estimators=1000, random_state=0)):\n",
    "    model.fit(X_train, y_train)\n",
    "    preds = model.predict(X_valid)\n",
    "    return {\"mean_squared_error\": mean_squared_error(y_valid, preds), \"mean_absolute_error\": mean_absolute_error(y_valid, preds), \"mean_absolute_percentage_error\": mean_absolute_percentage_error(y_test, preds)}\n",
    "    "
   ]
  },
  {
   "cell_type": "markdown",
   "metadata": {},
   "source": [
    "#### Regresion lineal"
   ]
  },
  {
   "cell_type": "code",
   "execution_count": 13,
   "metadata": {},
   "outputs": [
    {
     "data": {
      "text/html": [
       "<style>#sk-container-id-1 {color: black;background-color: white;}#sk-container-id-1 pre{padding: 0;}#sk-container-id-1 div.sk-toggleable {background-color: white;}#sk-container-id-1 label.sk-toggleable__label {cursor: pointer;display: block;width: 100%;margin-bottom: 0;padding: 0.3em;box-sizing: border-box;text-align: center;}#sk-container-id-1 label.sk-toggleable__label-arrow:before {content: \"▸\";float: left;margin-right: 0.25em;color: #696969;}#sk-container-id-1 label.sk-toggleable__label-arrow:hover:before {color: black;}#sk-container-id-1 div.sk-estimator:hover label.sk-toggleable__label-arrow:before {color: black;}#sk-container-id-1 div.sk-toggleable__content {max-height: 0;max-width: 0;overflow: hidden;text-align: left;background-color: #f0f8ff;}#sk-container-id-1 div.sk-toggleable__content pre {margin: 0.2em;color: black;border-radius: 0.25em;background-color: #f0f8ff;}#sk-container-id-1 input.sk-toggleable__control:checked~div.sk-toggleable__content {max-height: 200px;max-width: 100%;overflow: auto;}#sk-container-id-1 input.sk-toggleable__control:checked~label.sk-toggleable__label-arrow:before {content: \"▾\";}#sk-container-id-1 div.sk-estimator input.sk-toggleable__control:checked~label.sk-toggleable__label {background-color: #d4ebff;}#sk-container-id-1 div.sk-label input.sk-toggleable__control:checked~label.sk-toggleable__label {background-color: #d4ebff;}#sk-container-id-1 input.sk-hidden--visually {border: 0;clip: rect(1px 1px 1px 1px);clip: rect(1px, 1px, 1px, 1px);height: 1px;margin: -1px;overflow: hidden;padding: 0;position: absolute;width: 1px;}#sk-container-id-1 div.sk-estimator {font-family: monospace;background-color: #f0f8ff;border: 1px dotted black;border-radius: 0.25em;box-sizing: border-box;margin-bottom: 0.5em;}#sk-container-id-1 div.sk-estimator:hover {background-color: #d4ebff;}#sk-container-id-1 div.sk-parallel-item::after {content: \"\";width: 100%;border-bottom: 1px solid gray;flex-grow: 1;}#sk-container-id-1 div.sk-label:hover label.sk-toggleable__label {background-color: #d4ebff;}#sk-container-id-1 div.sk-serial::before {content: \"\";position: absolute;border-left: 1px solid gray;box-sizing: border-box;top: 0;bottom: 0;left: 50%;z-index: 0;}#sk-container-id-1 div.sk-serial {display: flex;flex-direction: column;align-items: center;background-color: white;padding-right: 0.2em;padding-left: 0.2em;position: relative;}#sk-container-id-1 div.sk-item {position: relative;z-index: 1;}#sk-container-id-1 div.sk-parallel {display: flex;align-items: stretch;justify-content: center;background-color: white;position: relative;}#sk-container-id-1 div.sk-item::before, #sk-container-id-1 div.sk-parallel-item::before {content: \"\";position: absolute;border-left: 1px solid gray;box-sizing: border-box;top: 0;bottom: 0;left: 50%;z-index: -1;}#sk-container-id-1 div.sk-parallel-item {display: flex;flex-direction: column;z-index: 1;position: relative;background-color: white;}#sk-container-id-1 div.sk-parallel-item:first-child::after {align-self: flex-end;width: 50%;}#sk-container-id-1 div.sk-parallel-item:last-child::after {align-self: flex-start;width: 50%;}#sk-container-id-1 div.sk-parallel-item:only-child::after {width: 0;}#sk-container-id-1 div.sk-dashed-wrapped {border: 1px dashed gray;margin: 0 0.4em 0.5em 0.4em;box-sizing: border-box;padding-bottom: 0.4em;background-color: white;}#sk-container-id-1 div.sk-label label {font-family: monospace;font-weight: bold;display: inline-block;line-height: 1.2em;}#sk-container-id-1 div.sk-label-container {text-align: center;}#sk-container-id-1 div.sk-container {/* jupyter's `normalize.less` sets `[hidden] { display: none; }` but bootstrap.min.css set `[hidden] { display: none !important; }` so we also need the `!important` here to be able to override the default hidden behavior on the sphinx rendered scikit-learn.org. See: https://github.com/scikit-learn/scikit-learn/issues/21755 */display: inline-block !important;position: relative;}#sk-container-id-1 div.sk-text-repr-fallback {display: none;}</style><div id=\"sk-container-id-1\" class=\"sk-top-container\"><div class=\"sk-text-repr-fallback\"><pre>LinearRegression()</pre><b>In a Jupyter environment, please rerun this cell to show the HTML representation or trust the notebook. <br />On GitHub, the HTML representation is unable to render, please try loading this page with nbviewer.org.</b></div><div class=\"sk-container\" hidden><div class=\"sk-item\"><div class=\"sk-estimator sk-toggleable\"><input class=\"sk-toggleable__control sk-hidden--visually\" id=\"sk-estimator-id-1\" type=\"checkbox\" checked><label for=\"sk-estimator-id-1\" class=\"sk-toggleable__label sk-toggleable__label-arrow\">LinearRegression</label><div class=\"sk-toggleable__content\"><pre>LinearRegression()</pre></div></div></div></div></div>"
      ],
      "text/plain": [
       "LinearRegression()"
      ]
     },
     "execution_count": 13,
     "metadata": {},
     "output_type": "execute_result"
    }
   ],
   "source": [
    "#Regresion Lineal\n",
    "\n",
    "from sklearn.linear_model import LinearRegression\n",
    "\n",
    "regressor = LinearRegression()\n",
    "regressor.fit(X_train, y_train)"
   ]
  },
  {
   "cell_type": "code",
   "execution_count": 14,
   "metadata": {},
   "outputs": [
    {
     "data": {
      "text/plain": [
       "0.2266123272771191"
      ]
     },
     "execution_count": 14,
     "metadata": {},
     "output_type": "execute_result"
    }
   ],
   "source": [
    "#Hacemos nuestras predicciones\n",
    "y_lin = regressor.predict(X_test)\n",
    "regressor.score(X_test, y_test)"
   ]
  },
  {
   "cell_type": "code",
   "execution_count": 15,
   "metadata": {},
   "outputs": [
    {
     "data": {
      "text/plain": [
       "{'mean_squared_error': 0.8860196119045364,\n",
       " 'mean_absolute_error': 0.7118934206100683,\n",
       " 'mean_absolute_percentage_error': 0.12125676486561332}"
      ]
     },
     "execution_count": 15,
     "metadata": {},
     "output_type": "execute_result"
    }
   ],
   "source": [
    "# Vemos los errores\n",
    "\n",
    "scores = -1 * cross_val_score(regressor, X_train, y_train, cv=5, scoring='neg_mean_absolute_percentage_error')\n",
    "\n",
    "score_dataset(X_train, X_test, y_train, y_test, model=LinearRegression())"
   ]
  },
  {
   "cell_type": "markdown",
   "metadata": {},
   "source": [
    "#### Regresion Bayesiana"
   ]
  },
  {
   "cell_type": "code",
   "execution_count": 16,
   "metadata": {},
   "outputs": [
    {
     "data": {
      "text/plain": [
       "0.23650871327698475"
      ]
     },
     "execution_count": 16,
     "metadata": {},
     "output_type": "execute_result"
    }
   ],
   "source": [
    "from sklearn.linear_model import BayesianRidge\n",
    "\n",
    "#Hacemos predicciones\n",
    "\n",
    "bayreg = BayesianRidge(n_iter=10000)\n",
    "bayreg.fit(X_train, y_train)\n",
    "y_bay = bayreg.predict(X_test)\n",
    "bayreg.score(X_test,y_test)"
   ]
  },
  {
   "cell_type": "code",
   "execution_count": 17,
   "metadata": {},
   "outputs": [
    {
     "data": {
      "text/plain": [
       "{'mean_squared_error': 0.8746819705221912,\n",
       " 'mean_absolute_error': 0.7069995422075095,\n",
       " 'mean_absolute_percentage_error': 0.12060266478188778}"
      ]
     },
     "execution_count": 17,
     "metadata": {},
     "output_type": "execute_result"
    }
   ],
   "source": [
    "# Vemos los errores\n",
    "\n",
    "scores = -1 * cross_val_score(bayreg, X_train, y_train, cv=5, scoring='neg_mean_absolute_percentage_error')\n",
    "\n",
    "score_dataset(X_train, X_test, y_train, y_test, model=BayesianRidge())"
   ]
  },
  {
   "cell_type": "markdown",
   "metadata": {},
   "source": [
    "#### Busqueda por Emparejamiento Ortogonal"
   ]
  },
  {
   "cell_type": "code",
   "execution_count": 18,
   "metadata": {},
   "outputs": [
    {
     "data": {
      "text/plain": [
       "0.2184950091347383"
      ]
     },
     "execution_count": 18,
     "metadata": {},
     "output_type": "execute_result"
    }
   ],
   "source": [
    "from sklearn.linear_model import OrthogonalMatchingPursuit\n",
    "from sklearn.pipeline import make_pipeline\n",
    "from sklearn.preprocessing import StandardScaler\n",
    "\n",
    "orthreg = make_pipeline(StandardScaler(with_mean=False), OrthogonalMatchingPursuit())\n",
    "orthreg.fit(X_train, y_train)\n",
    "\n",
    "#Hacemos las predicciones\n",
    "\n",
    "y_orth = orthreg.predict(X_test)\n",
    "orthreg.score(X_test,y_test)"
   ]
  },
  {
   "cell_type": "code",
   "execution_count": 19,
   "metadata": {},
   "outputs": [
    {
     "data": {
      "text/plain": [
       "{'mean_squared_error': 0.8953190917435365,\n",
       " 'mean_absolute_error': 0.7196882474208126,\n",
       " 'mean_absolute_percentage_error': 0.12226947267898051}"
      ]
     },
     "execution_count": 19,
     "metadata": {},
     "output_type": "execute_result"
    }
   ],
   "source": [
    "# Vemos los errores\n",
    "\n",
    "scores = -1 * cross_val_score(orthreg, X_train, y_train, cv=5, scoring='neg_mean_absolute_percentage_error')\n",
    "\n",
    "score_dataset(X_train, X_test, y_train, y_test, model=OrthogonalMatchingPursuit())"
   ]
  },
  {
   "cell_type": "markdown",
   "metadata": {},
   "source": [
    "#### Regresion LASSO"
   ]
  },
  {
   "cell_type": "code",
   "execution_count": 20,
   "metadata": {},
   "outputs": [
    {
     "name": "stdout",
     "output_type": "stream",
     "text": [
      "Fitting 5 folds for each of 54 candidates, totalling 270 fits\n",
      "[CV] END ....alpha=1, max_iter=1, selection=cyclic, tol=0.01; total time=   0.0s\n",
      "[CV] END ....alpha=1, max_iter=1, selection=cyclic, tol=0.01; total time=   0.0s\n",
      "[CV] END ....alpha=1, max_iter=1, selection=cyclic, tol=0.01; total time=   0.0s\n",
      "[CV] END ....alpha=1, max_iter=1, selection=cyclic, tol=0.01; total time=   0.0s\n",
      "[CV] END ....alpha=1, max_iter=1, selection=cyclic, tol=0.01; total time=   0.0s\n",
      "[CV] END .......alpha=1, max_iter=1, selection=cyclic, tol=1; total time=   0.0s\n",
      "[CV] END .......alpha=1, max_iter=1, selection=cyclic, tol=1; total time=   0.0s\n",
      "[CV] END .......alpha=1, max_iter=1, selection=cyclic, tol=1; total time=   0.0s\n",
      "[CV] END .......alpha=1, max_iter=1, selection=cyclic, tol=1; total time=   0.0s\n",
      "[CV] END .......alpha=1, max_iter=1, selection=cyclic, tol=1; total time=   0.0s\n",
      "[CV] END ......alpha=1, max_iter=1, selection=cyclic, tol=10; total time=   0.0s\n",
      "[CV] END ......alpha=1, max_iter=1, selection=cyclic, tol=10; total time=   0.0s\n",
      "[CV] END ......alpha=1, max_iter=1, selection=cyclic, tol=10; total time=   0.0s\n",
      "[CV] END ......alpha=1, max_iter=1, selection=cyclic, tol=10; total time=   0.0s\n",
      "[CV] END ......alpha=1, max_iter=1, selection=cyclic, tol=10; total time=   0.0s\n",
      "[CV] END ....alpha=1, max_iter=1, selection=random, tol=0.01; total time=   0.0s\n",
      "[CV] END ....alpha=1, max_iter=1, selection=random, tol=0.01; total time=   0.0s\n",
      "[CV] END ....alpha=1, max_iter=1, selection=random, tol=0.01; total time=   0.0s\n",
      "[CV] END ....alpha=1, max_iter=1, selection=random, tol=0.01; total time=   0.0s\n",
      "[CV] END ....alpha=1, max_iter=1, selection=random, tol=0.01; total time=   0.0s\n",
      "[CV] END .......alpha=1, max_iter=1, selection=random, tol=1; total time=   0.0s\n",
      "[CV] END .......alpha=1, max_iter=1, selection=random, tol=1; total time=   0.0s\n",
      "[CV] END .......alpha=1, max_iter=1, selection=random, tol=1; total time=   0.0s\n",
      "[CV] END .......alpha=1, max_iter=1, selection=random, tol=1; total time=   0.0s\n",
      "[CV] END .......alpha=1, max_iter=1, selection=random, tol=1; total time=   0.0s\n",
      "[CV] END ......alpha=1, max_iter=1, selection=random, tol=10; total time=   0.0s\n",
      "[CV] END ......alpha=1, max_iter=1, selection=random, tol=10; total time=   0.0s\n",
      "[CV] END ......alpha=1, max_iter=1, selection=random, tol=10; total time=   0.0s\n",
      "[CV] END ......alpha=1, max_iter=1, selection=random, tol=10; total time=   0.0s\n",
      "[CV] END ......alpha=1, max_iter=1, selection=random, tol=10; total time=   0.0s\n",
      "[CV] END ...alpha=1, max_iter=10, selection=cyclic, tol=0.01; total time=   0.0s\n",
      "[CV] END ...alpha=1, max_iter=10, selection=cyclic, tol=0.01; total time=   0.0s\n",
      "[CV] END ...alpha=1, max_iter=10, selection=cyclic, tol=0.01; total time=   0.0s\n",
      "[CV] END ...alpha=1, max_iter=10, selection=cyclic, tol=0.01; total time=   0.0s\n",
      "[CV] END ...alpha=1, max_iter=10, selection=cyclic, tol=0.01; total time=   0.0s\n",
      "[CV] END ......alpha=1, max_iter=10, selection=cyclic, tol=1; total time=   0.0s\n",
      "[CV] END ......alpha=1, max_iter=10, selection=cyclic, tol=1; total time=   0.0s\n",
      "[CV] END ......alpha=1, max_iter=10, selection=cyclic, tol=1; total time=   0.0s\n",
      "[CV] END ......alpha=1, max_iter=10, selection=cyclic, tol=1; total time=   0.0s\n",
      "[CV] END ......alpha=1, max_iter=10, selection=cyclic, tol=1; total time=   0.0s\n",
      "[CV] END .....alpha=1, max_iter=10, selection=cyclic, tol=10; total time=   0.0s\n",
      "[CV] END .....alpha=1, max_iter=10, selection=cyclic, tol=10; total time=   0.0s\n",
      "[CV] END .....alpha=1, max_iter=10, selection=cyclic, tol=10; total time=   0.0s\n",
      "[CV] END .....alpha=1, max_iter=10, selection=cyclic, tol=10; total time=   0.0s\n",
      "[CV] END .....alpha=1, max_iter=10, selection=cyclic, tol=10; total time=   0.0s\n",
      "[CV] END ...alpha=1, max_iter=10, selection=random, tol=0.01; total time=   0.0s\n",
      "[CV] END ...alpha=1, max_iter=10, selection=random, tol=0.01; total time=   0.0s\n",
      "[CV] END ...alpha=1, max_iter=10, selection=random, tol=0.01; total time=   0.0s\n",
      "[CV] END ...alpha=1, max_iter=10, selection=random, tol=0.01; total time=   0.0s\n",
      "[CV] END ...alpha=1, max_iter=10, selection=random, tol=0.01; total time=   0.0s\n",
      "[CV] END ......alpha=1, max_iter=10, selection=random, tol=1; total time=   0.0s\n",
      "[CV] END ......alpha=1, max_iter=10, selection=random, tol=1; total time=   0.0s\n",
      "[CV] END ......alpha=1, max_iter=10, selection=random, tol=1; total time=   0.0s\n",
      "[CV] END ......alpha=1, max_iter=10, selection=random, tol=1; total time=   0.0s\n",
      "[CV] END ......alpha=1, max_iter=10, selection=random, tol=1; total time=   0.0s\n",
      "[CV] END .....alpha=1, max_iter=10, selection=random, tol=10; total time=   0.0s\n",
      "[CV] END .....alpha=1, max_iter=10, selection=random, tol=10; total time=   0.0s\n",
      "[CV] END .....alpha=1, max_iter=10, selection=random, tol=10; total time=   0.0s\n",
      "[CV] END .....alpha=1, max_iter=10, selection=random, tol=10; total time=   0.0s\n",
      "[CV] END .....alpha=1, max_iter=10, selection=random, tol=10; total time=   0.0s\n",
      "[CV] END ..alpha=1, max_iter=100, selection=cyclic, tol=0.01; total time=   0.0s\n",
      "[CV] END ..alpha=1, max_iter=100, selection=cyclic, tol=0.01; total time=   0.0s\n",
      "[CV] END ..alpha=1, max_iter=100, selection=cyclic, tol=0.01; total time=   0.0s\n",
      "[CV] END ..alpha=1, max_iter=100, selection=cyclic, tol=0.01; total time=   0.0s\n",
      "[CV] END ..alpha=1, max_iter=100, selection=cyclic, tol=0.01; total time=   0.0s\n",
      "[CV] END .....alpha=1, max_iter=100, selection=cyclic, tol=1; total time=   0.0s\n",
      "[CV] END .....alpha=1, max_iter=100, selection=cyclic, tol=1; total time=   0.0s\n",
      "[CV] END .....alpha=1, max_iter=100, selection=cyclic, tol=1; total time=   0.0s\n",
      "[CV] END .....alpha=1, max_iter=100, selection=cyclic, tol=1; total time=   0.0s\n",
      "[CV] END .....alpha=1, max_iter=100, selection=cyclic, tol=1; total time=   0.0s\n",
      "[CV] END ....alpha=1, max_iter=100, selection=cyclic, tol=10; total time=   0.0s\n",
      "[CV] END ....alpha=1, max_iter=100, selection=cyclic, tol=10; total time=   0.0s\n",
      "[CV] END ....alpha=1, max_iter=100, selection=cyclic, tol=10; total time=   0.0s\n",
      "[CV] END ....alpha=1, max_iter=100, selection=cyclic, tol=10; total time=   0.0s\n",
      "[CV] END ....alpha=1, max_iter=100, selection=cyclic, tol=10; total time=   0.0s\n",
      "[CV] END ..alpha=1, max_iter=100, selection=random, tol=0.01; total time=   0.0s\n",
      "[CV] END ..alpha=1, max_iter=100, selection=random, tol=0.01; total time=   0.0s\n",
      "[CV] END ..alpha=1, max_iter=100, selection=random, tol=0.01; total time=   0.0s\n",
      "[CV] END ..alpha=1, max_iter=100, selection=random, tol=0.01; total time=   0.0s\n",
      "[CV] END ..alpha=1, max_iter=100, selection=random, tol=0.01; total time=   0.0s\n",
      "[CV] END .....alpha=1, max_iter=100, selection=random, tol=1; total time=   0.0s\n",
      "[CV] END .....alpha=1, max_iter=100, selection=random, tol=1; total time=   0.0s\n",
      "[CV] END .....alpha=1, max_iter=100, selection=random, tol=1; total time=   0.0s\n",
      "[CV] END .....alpha=1, max_iter=100, selection=random, tol=1; total time=   0.0s\n",
      "[CV] END .....alpha=1, max_iter=100, selection=random, tol=1; total time=   0.0s\n",
      "[CV] END ....alpha=1, max_iter=100, selection=random, tol=10; total time=   0.0s\n",
      "[CV] END ....alpha=1, max_iter=100, selection=random, tol=10; total time=   0.0s\n",
      "[CV] END ....alpha=1, max_iter=100, selection=random, tol=10; total time=   0.0s\n",
      "[CV] END ....alpha=1, max_iter=100, selection=random, tol=10; total time=   0.0s\n",
      "[CV] END ....alpha=1, max_iter=100, selection=random, tol=10; total time=   0.0s\n",
      "[CV] END ...alpha=10, max_iter=1, selection=cyclic, tol=0.01; total time=   0.0s\n",
      "[CV] END ...alpha=10, max_iter=1, selection=cyclic, tol=0.01; total time=   0.0s\n",
      "[CV] END ...alpha=10, max_iter=1, selection=cyclic, tol=0.01; total time=   0.0s\n",
      "[CV] END ...alpha=10, max_iter=1, selection=cyclic, tol=0.01; total time=   0.0s\n",
      "[CV] END ...alpha=10, max_iter=1, selection=cyclic, tol=0.01; total time=   0.0s\n",
      "[CV] END ......alpha=10, max_iter=1, selection=cyclic, tol=1; total time=   0.0s\n",
      "[CV] END ......alpha=10, max_iter=1, selection=cyclic, tol=1; total time=   0.0s\n",
      "[CV] END ......alpha=10, max_iter=1, selection=cyclic, tol=1; total time=   0.0s\n",
      "[CV] END ......alpha=10, max_iter=1, selection=cyclic, tol=1; total time=   0.0s\n",
      "[CV] END ......alpha=10, max_iter=1, selection=cyclic, tol=1; total time=   0.0s\n",
      "[CV] END .....alpha=10, max_iter=1, selection=cyclic, tol=10; total time=   0.0s\n",
      "[CV] END .....alpha=10, max_iter=1, selection=cyclic, tol=10; total time=   0.0s\n",
      "[CV] END .....alpha=10, max_iter=1, selection=cyclic, tol=10; total time=   0.0s\n",
      "[CV] END .....alpha=10, max_iter=1, selection=cyclic, tol=10; total time=   0.0s\n",
      "[CV] END .....alpha=10, max_iter=1, selection=cyclic, tol=10; total time=   0.0s\n",
      "[CV] END ...alpha=10, max_iter=1, selection=random, tol=0.01; total time=   0.0s\n",
      "[CV] END ...alpha=10, max_iter=1, selection=random, tol=0.01; total time=   0.0s\n",
      "[CV] END ...alpha=10, max_iter=1, selection=random, tol=0.01; total time=   0.0s\n",
      "[CV] END ...alpha=10, max_iter=1, selection=random, tol=0.01; total time=   0.0s\n",
      "[CV] END ...alpha=10, max_iter=1, selection=random, tol=0.01; total time=   0.0s\n",
      "[CV] END ......alpha=10, max_iter=1, selection=random, tol=1; total time=   0.0s\n",
      "[CV] END ......alpha=10, max_iter=1, selection=random, tol=1; total time=   0.0s\n",
      "[CV] END ......alpha=10, max_iter=1, selection=random, tol=1; total time=   0.0s\n",
      "[CV] END ......alpha=10, max_iter=1, selection=random, tol=1; total time=   0.0s\n",
      "[CV] END ......alpha=10, max_iter=1, selection=random, tol=1; total time=   0.0s\n",
      "[CV] END .....alpha=10, max_iter=1, selection=random, tol=10; total time=   0.0s\n",
      "[CV] END .....alpha=10, max_iter=1, selection=random, tol=10; total time=   0.0s\n",
      "[CV] END .....alpha=10, max_iter=1, selection=random, tol=10; total time=   0.0s\n",
      "[CV] END .....alpha=10, max_iter=1, selection=random, tol=10; total time=   0.0s\n",
      "[CV] END .....alpha=10, max_iter=1, selection=random, tol=10; total time=   0.0s\n",
      "[CV] END ..alpha=10, max_iter=10, selection=cyclic, tol=0.01; total time=   0.0s\n",
      "[CV] END ..alpha=10, max_iter=10, selection=cyclic, tol=0.01; total time=   0.0s\n",
      "[CV] END ..alpha=10, max_iter=10, selection=cyclic, tol=0.01; total time=   0.0s\n",
      "[CV] END ..alpha=10, max_iter=10, selection=cyclic, tol=0.01; total time=   0.0s\n",
      "[CV] END ..alpha=10, max_iter=10, selection=cyclic, tol=0.01; total time=   0.0s\n",
      "[CV] END .....alpha=10, max_iter=10, selection=cyclic, tol=1; total time=   0.0s\n",
      "[CV] END .....alpha=10, max_iter=10, selection=cyclic, tol=1; total time=   0.0s\n",
      "[CV] END .....alpha=10, max_iter=10, selection=cyclic, tol=1; total time=   0.0s\n",
      "[CV] END .....alpha=10, max_iter=10, selection=cyclic, tol=1; total time=   0.0s\n",
      "[CV] END .....alpha=10, max_iter=10, selection=cyclic, tol=1; total time=   0.0s\n",
      "[CV] END ....alpha=10, max_iter=10, selection=cyclic, tol=10; total time=   0.0s\n",
      "[CV] END ....alpha=10, max_iter=10, selection=cyclic, tol=10; total time=   0.0s\n",
      "[CV] END ....alpha=10, max_iter=10, selection=cyclic, tol=10; total time=   0.0s\n",
      "[CV] END ....alpha=10, max_iter=10, selection=cyclic, tol=10; total time=   0.0s\n",
      "[CV] END ....alpha=10, max_iter=10, selection=cyclic, tol=10; total time=   0.0s\n",
      "[CV] END ..alpha=10, max_iter=10, selection=random, tol=0.01; total time=   0.0s\n",
      "[CV] END ..alpha=10, max_iter=10, selection=random, tol=0.01; total time=   0.0s\n",
      "[CV] END ..alpha=10, max_iter=10, selection=random, tol=0.01; total time=   0.0s\n",
      "[CV] END ..alpha=10, max_iter=10, selection=random, tol=0.01; total time=   0.0s\n",
      "[CV] END ..alpha=10, max_iter=10, selection=random, tol=0.01; total time=   0.0s\n",
      "[CV] END .....alpha=10, max_iter=10, selection=random, tol=1; total time=   0.0s\n",
      "[CV] END .....alpha=10, max_iter=10, selection=random, tol=1; total time=   0.0s\n",
      "[CV] END .....alpha=10, max_iter=10, selection=random, tol=1; total time=   0.0s\n",
      "[CV] END .....alpha=10, max_iter=10, selection=random, tol=1; total time=   0.0s\n",
      "[CV] END .....alpha=10, max_iter=10, selection=random, tol=1; total time=   0.0s\n",
      "[CV] END ....alpha=10, max_iter=10, selection=random, tol=10; total time=   0.0s\n",
      "[CV] END ....alpha=10, max_iter=10, selection=random, tol=10; total time=   0.0s\n",
      "[CV] END ....alpha=10, max_iter=10, selection=random, tol=10; total time=   0.0s\n",
      "[CV] END ....alpha=10, max_iter=10, selection=random, tol=10; total time=   0.0s\n",
      "[CV] END ....alpha=10, max_iter=10, selection=random, tol=10; total time=   0.0s\n",
      "[CV] END .alpha=10, max_iter=100, selection=cyclic, tol=0.01; total time=   0.0s\n",
      "[CV] END .alpha=10, max_iter=100, selection=cyclic, tol=0.01; total time=   0.0s\n",
      "[CV] END .alpha=10, max_iter=100, selection=cyclic, tol=0.01; total time=   0.0s\n",
      "[CV] END .alpha=10, max_iter=100, selection=cyclic, tol=0.01; total time=   0.0s\n",
      "[CV] END .alpha=10, max_iter=100, selection=cyclic, tol=0.01; total time=   0.0s\n",
      "[CV] END ....alpha=10, max_iter=100, selection=cyclic, tol=1; total time=   0.0s\n",
      "[CV] END ....alpha=10, max_iter=100, selection=cyclic, tol=1; total time=   0.0s\n",
      "[CV] END ....alpha=10, max_iter=100, selection=cyclic, tol=1; total time=   0.0s\n",
      "[CV] END ....alpha=10, max_iter=100, selection=cyclic, tol=1; total time=   0.0s\n",
      "[CV] END ....alpha=10, max_iter=100, selection=cyclic, tol=1; total time=   0.0s\n",
      "[CV] END ...alpha=10, max_iter=100, selection=cyclic, tol=10; total time=   0.0s\n",
      "[CV] END ...alpha=10, max_iter=100, selection=cyclic, tol=10; total time=   0.0s\n",
      "[CV] END ...alpha=10, max_iter=100, selection=cyclic, tol=10; total time=   0.0s\n",
      "[CV] END ...alpha=10, max_iter=100, selection=cyclic, tol=10; total time=   0.0s\n",
      "[CV] END ...alpha=10, max_iter=100, selection=cyclic, tol=10; total time=   0.0s\n",
      "[CV] END .alpha=10, max_iter=100, selection=random, tol=0.01; total time=   0.0s\n",
      "[CV] END .alpha=10, max_iter=100, selection=random, tol=0.01; total time=   0.0s\n",
      "[CV] END .alpha=10, max_iter=100, selection=random, tol=0.01; total time=   0.0s\n",
      "[CV] END .alpha=10, max_iter=100, selection=random, tol=0.01; total time=   0.0s\n",
      "[CV] END .alpha=10, max_iter=100, selection=random, tol=0.01; total time=   0.0s\n",
      "[CV] END ....alpha=10, max_iter=100, selection=random, tol=1; total time=   0.0s\n",
      "[CV] END ....alpha=10, max_iter=100, selection=random, tol=1; total time=   0.0s\n",
      "[CV] END ....alpha=10, max_iter=100, selection=random, tol=1; total time=   0.0s\n",
      "[CV] END ....alpha=10, max_iter=100, selection=random, tol=1; total time=   0.0s\n",
      "[CV] END ....alpha=10, max_iter=100, selection=random, tol=1; total time=   0.0s\n",
      "[CV] END ...alpha=10, max_iter=100, selection=random, tol=10; total time=   0.0s\n",
      "[CV] END ...alpha=10, max_iter=100, selection=random, tol=10; total time=   0.0s\n",
      "[CV] END ...alpha=10, max_iter=100, selection=random, tol=10; total time=   0.0s\n",
      "[CV] END ...alpha=10, max_iter=100, selection=random, tol=10; total time=   0.0s\n",
      "[CV] END ...alpha=10, max_iter=100, selection=random, tol=10; total time=   0.0s\n",
      "[CV] END ..alpha=100, max_iter=1, selection=cyclic, tol=0.01; total time=   0.0s\n",
      "[CV] END ..alpha=100, max_iter=1, selection=cyclic, tol=0.01; total time=   0.0s\n",
      "[CV] END ..alpha=100, max_iter=1, selection=cyclic, tol=0.01; total time=   0.0s\n",
      "[CV] END ..alpha=100, max_iter=1, selection=cyclic, tol=0.01; total time=   0.0s\n",
      "[CV] END ..alpha=100, max_iter=1, selection=cyclic, tol=0.01; total time=   0.0s\n",
      "[CV] END .....alpha=100, max_iter=1, selection=cyclic, tol=1; total time=   0.0s\n",
      "[CV] END .....alpha=100, max_iter=1, selection=cyclic, tol=1; total time=   0.0s\n",
      "[CV] END .....alpha=100, max_iter=1, selection=cyclic, tol=1; total time=   0.0s\n",
      "[CV] END .....alpha=100, max_iter=1, selection=cyclic, tol=1; total time=   0.0s\n",
      "[CV] END .....alpha=100, max_iter=1, selection=cyclic, tol=1; total time=   0.0s\n",
      "[CV] END ....alpha=100, max_iter=1, selection=cyclic, tol=10; total time=   0.0s\n",
      "[CV] END ....alpha=100, max_iter=1, selection=cyclic, tol=10; total time=   0.0s\n",
      "[CV] END ....alpha=100, max_iter=1, selection=cyclic, tol=10; total time=   0.0s\n",
      "[CV] END ....alpha=100, max_iter=1, selection=cyclic, tol=10; total time=   0.0s\n",
      "[CV] END ....alpha=100, max_iter=1, selection=cyclic, tol=10; total time=   0.0s\n",
      "[CV] END ..alpha=100, max_iter=1, selection=random, tol=0.01; total time=   0.0s\n",
      "[CV] END ..alpha=100, max_iter=1, selection=random, tol=0.01; total time=   0.0s\n",
      "[CV] END ..alpha=100, max_iter=1, selection=random, tol=0.01; total time=   0.0s\n",
      "[CV] END ..alpha=100, max_iter=1, selection=random, tol=0.01; total time=   0.0s\n",
      "[CV] END ..alpha=100, max_iter=1, selection=random, tol=0.01; total time=   0.0s\n",
      "[CV] END .....alpha=100, max_iter=1, selection=random, tol=1; total time=   0.0s\n",
      "[CV] END .....alpha=100, max_iter=1, selection=random, tol=1; total time=   0.0s\n",
      "[CV] END .....alpha=100, max_iter=1, selection=random, tol=1; total time=   0.0s\n",
      "[CV] END .....alpha=100, max_iter=1, selection=random, tol=1; total time=   0.0s\n",
      "[CV] END .....alpha=100, max_iter=1, selection=random, tol=1; total time=   0.0s\n",
      "[CV] END ....alpha=100, max_iter=1, selection=random, tol=10; total time=   0.0s\n",
      "[CV] END ....alpha=100, max_iter=1, selection=random, tol=10; total time=   0.0s\n",
      "[CV] END ....alpha=100, max_iter=1, selection=random, tol=10; total time=   0.0s\n",
      "[CV] END ....alpha=100, max_iter=1, selection=random, tol=10; total time=   0.0s\n",
      "[CV] END ....alpha=100, max_iter=1, selection=random, tol=10; total time=   0.0s\n",
      "[CV] END .alpha=100, max_iter=10, selection=cyclic, tol=0.01; total time=   0.0s\n",
      "[CV] END .alpha=100, max_iter=10, selection=cyclic, tol=0.01; total time=   0.0s\n",
      "[CV] END .alpha=100, max_iter=10, selection=cyclic, tol=0.01; total time=   0.0s\n",
      "[CV] END .alpha=100, max_iter=10, selection=cyclic, tol=0.01; total time=   0.0s\n",
      "[CV] END .alpha=100, max_iter=10, selection=cyclic, tol=0.01; total time=   0.0s\n",
      "[CV] END ....alpha=100, max_iter=10, selection=cyclic, tol=1; total time=   0.0s\n",
      "[CV] END ....alpha=100, max_iter=10, selection=cyclic, tol=1; total time=   0.0s\n",
      "[CV] END ....alpha=100, max_iter=10, selection=cyclic, tol=1; total time=   0.0s\n",
      "[CV] END ....alpha=100, max_iter=10, selection=cyclic, tol=1; total time=   0.0s\n",
      "[CV] END ....alpha=100, max_iter=10, selection=cyclic, tol=1; total time=   0.0s\n",
      "[CV] END ...alpha=100, max_iter=10, selection=cyclic, tol=10; total time=   0.0s\n",
      "[CV] END ...alpha=100, max_iter=10, selection=cyclic, tol=10; total time=   0.0s\n",
      "[CV] END ...alpha=100, max_iter=10, selection=cyclic, tol=10; total time=   0.0s\n",
      "[CV] END ...alpha=100, max_iter=10, selection=cyclic, tol=10; total time=   0.0s\n",
      "[CV] END ...alpha=100, max_iter=10, selection=cyclic, tol=10; total time=   0.0s\n",
      "[CV] END .alpha=100, max_iter=10, selection=random, tol=0.01; total time=   0.0s\n",
      "[CV] END .alpha=100, max_iter=10, selection=random, tol=0.01; total time=   0.0s\n",
      "[CV] END .alpha=100, max_iter=10, selection=random, tol=0.01; total time=   0.0s\n",
      "[CV] END .alpha=100, max_iter=10, selection=random, tol=0.01; total time=   0.0s\n",
      "[CV] END .alpha=100, max_iter=10, selection=random, tol=0.01; total time=   0.0s\n",
      "[CV] END ....alpha=100, max_iter=10, selection=random, tol=1; total time=   0.0s\n",
      "[CV] END ....alpha=100, max_iter=10, selection=random, tol=1; total time=   0.0s\n",
      "[CV] END ....alpha=100, max_iter=10, selection=random, tol=1; total time=   0.0s\n",
      "[CV] END ....alpha=100, max_iter=10, selection=random, tol=1; total time=   0.0s\n",
      "[CV] END ....alpha=100, max_iter=10, selection=random, tol=1; total time=   0.0s\n",
      "[CV] END ...alpha=100, max_iter=10, selection=random, tol=10; total time=   0.0s\n",
      "[CV] END ...alpha=100, max_iter=10, selection=random, tol=10; total time=   0.0s\n",
      "[CV] END ...alpha=100, max_iter=10, selection=random, tol=10; total time=   0.0s\n",
      "[CV] END ...alpha=100, max_iter=10, selection=random, tol=10; total time=   0.0s\n",
      "[CV] END ...alpha=100, max_iter=10, selection=random, tol=10; total time=   0.0s\n",
      "[CV] END alpha=100, max_iter=100, selection=cyclic, tol=0.01; total time=   0.0s\n",
      "[CV] END alpha=100, max_iter=100, selection=cyclic, tol=0.01; total time=   0.0s\n",
      "[CV] END alpha=100, max_iter=100, selection=cyclic, tol=0.01; total time=   0.0s\n",
      "[CV] END alpha=100, max_iter=100, selection=cyclic, tol=0.01; total time=   0.0s\n",
      "[CV] END alpha=100, max_iter=100, selection=cyclic, tol=0.01; total time=   0.0s\n",
      "[CV] END ...alpha=100, max_iter=100, selection=cyclic, tol=1; total time=   0.0s\n",
      "[CV] END ...alpha=100, max_iter=100, selection=cyclic, tol=1; total time=   0.0s\n",
      "[CV] END ...alpha=100, max_iter=100, selection=cyclic, tol=1; total time=   0.0s\n",
      "[CV] END ...alpha=100, max_iter=100, selection=cyclic, tol=1; total time=   0.0s\n",
      "[CV] END ...alpha=100, max_iter=100, selection=cyclic, tol=1; total time=   0.0s\n",
      "[CV] END ..alpha=100, max_iter=100, selection=cyclic, tol=10; total time=   0.0s\n",
      "[CV] END ..alpha=100, max_iter=100, selection=cyclic, tol=10; total time=   0.0s\n",
      "[CV] END ..alpha=100, max_iter=100, selection=cyclic, tol=10; total time=   0.0s\n",
      "[CV] END ..alpha=100, max_iter=100, selection=cyclic, tol=10; total time=   0.0s\n",
      "[CV] END ..alpha=100, max_iter=100, selection=cyclic, tol=10; total time=   0.0s\n",
      "[CV] END alpha=100, max_iter=100, selection=random, tol=0.01; total time=   0.0s\n",
      "[CV] END alpha=100, max_iter=100, selection=random, tol=0.01; total time=   0.0s\n",
      "[CV] END alpha=100, max_iter=100, selection=random, tol=0.01; total time=   0.0s\n",
      "[CV] END alpha=100, max_iter=100, selection=random, tol=0.01; total time=   0.0s\n",
      "[CV] END alpha=100, max_iter=100, selection=random, tol=0.01; total time=   0.0s\n",
      "[CV] END ...alpha=100, max_iter=100, selection=random, tol=1; total time=   0.0s\n",
      "[CV] END ...alpha=100, max_iter=100, selection=random, tol=1; total time=   0.0s\n",
      "[CV] END ...alpha=100, max_iter=100, selection=random, tol=1; total time=   0.0s\n",
      "[CV] END ...alpha=100, max_iter=100, selection=random, tol=1; total time=   0.0s\n",
      "[CV] END ...alpha=100, max_iter=100, selection=random, tol=1; total time=   0.0s\n",
      "[CV] END ..alpha=100, max_iter=100, selection=random, tol=10; total time=   0.0s\n",
      "[CV] END ..alpha=100, max_iter=100, selection=random, tol=10; total time=   0.0s\n",
      "[CV] END ..alpha=100, max_iter=100, selection=random, tol=10; total time=   0.0s\n",
      "[CV] END ..alpha=100, max_iter=100, selection=random, tol=10; total time=   0.0s\n",
      "[CV] END ..alpha=100, max_iter=100, selection=random, tol=10; total time=   0.0s\n"
     ]
    },
    {
     "data": {
      "text/html": [
       "<style>#sk-container-id-2 {color: black;background-color: white;}#sk-container-id-2 pre{padding: 0;}#sk-container-id-2 div.sk-toggleable {background-color: white;}#sk-container-id-2 label.sk-toggleable__label {cursor: pointer;display: block;width: 100%;margin-bottom: 0;padding: 0.3em;box-sizing: border-box;text-align: center;}#sk-container-id-2 label.sk-toggleable__label-arrow:before {content: \"▸\";float: left;margin-right: 0.25em;color: #696969;}#sk-container-id-2 label.sk-toggleable__label-arrow:hover:before {color: black;}#sk-container-id-2 div.sk-estimator:hover label.sk-toggleable__label-arrow:before {color: black;}#sk-container-id-2 div.sk-toggleable__content {max-height: 0;max-width: 0;overflow: hidden;text-align: left;background-color: #f0f8ff;}#sk-container-id-2 div.sk-toggleable__content pre {margin: 0.2em;color: black;border-radius: 0.25em;background-color: #f0f8ff;}#sk-container-id-2 input.sk-toggleable__control:checked~div.sk-toggleable__content {max-height: 200px;max-width: 100%;overflow: auto;}#sk-container-id-2 input.sk-toggleable__control:checked~label.sk-toggleable__label-arrow:before {content: \"▾\";}#sk-container-id-2 div.sk-estimator input.sk-toggleable__control:checked~label.sk-toggleable__label {background-color: #d4ebff;}#sk-container-id-2 div.sk-label input.sk-toggleable__control:checked~label.sk-toggleable__label {background-color: #d4ebff;}#sk-container-id-2 input.sk-hidden--visually {border: 0;clip: rect(1px 1px 1px 1px);clip: rect(1px, 1px, 1px, 1px);height: 1px;margin: -1px;overflow: hidden;padding: 0;position: absolute;width: 1px;}#sk-container-id-2 div.sk-estimator {font-family: monospace;background-color: #f0f8ff;border: 1px dotted black;border-radius: 0.25em;box-sizing: border-box;margin-bottom: 0.5em;}#sk-container-id-2 div.sk-estimator:hover {background-color: #d4ebff;}#sk-container-id-2 div.sk-parallel-item::after {content: \"\";width: 100%;border-bottom: 1px solid gray;flex-grow: 1;}#sk-container-id-2 div.sk-label:hover label.sk-toggleable__label {background-color: #d4ebff;}#sk-container-id-2 div.sk-serial::before {content: \"\";position: absolute;border-left: 1px solid gray;box-sizing: border-box;top: 0;bottom: 0;left: 50%;z-index: 0;}#sk-container-id-2 div.sk-serial {display: flex;flex-direction: column;align-items: center;background-color: white;padding-right: 0.2em;padding-left: 0.2em;position: relative;}#sk-container-id-2 div.sk-item {position: relative;z-index: 1;}#sk-container-id-2 div.sk-parallel {display: flex;align-items: stretch;justify-content: center;background-color: white;position: relative;}#sk-container-id-2 div.sk-item::before, #sk-container-id-2 div.sk-parallel-item::before {content: \"\";position: absolute;border-left: 1px solid gray;box-sizing: border-box;top: 0;bottom: 0;left: 50%;z-index: -1;}#sk-container-id-2 div.sk-parallel-item {display: flex;flex-direction: column;z-index: 1;position: relative;background-color: white;}#sk-container-id-2 div.sk-parallel-item:first-child::after {align-self: flex-end;width: 50%;}#sk-container-id-2 div.sk-parallel-item:last-child::after {align-self: flex-start;width: 50%;}#sk-container-id-2 div.sk-parallel-item:only-child::after {width: 0;}#sk-container-id-2 div.sk-dashed-wrapped {border: 1px dashed gray;margin: 0 0.4em 0.5em 0.4em;box-sizing: border-box;padding-bottom: 0.4em;background-color: white;}#sk-container-id-2 div.sk-label label {font-family: monospace;font-weight: bold;display: inline-block;line-height: 1.2em;}#sk-container-id-2 div.sk-label-container {text-align: center;}#sk-container-id-2 div.sk-container {/* jupyter's `normalize.less` sets `[hidden] { display: none; }` but bootstrap.min.css set `[hidden] { display: none !important; }` so we also need the `!important` here to be able to override the default hidden behavior on the sphinx rendered scikit-learn.org. See: https://github.com/scikit-learn/scikit-learn/issues/21755 */display: inline-block !important;position: relative;}#sk-container-id-2 div.sk-text-repr-fallback {display: none;}</style><div id=\"sk-container-id-2\" class=\"sk-top-container\"><div class=\"sk-text-repr-fallback\"><pre>GridSearchCV(estimator=Lasso(),\n",
       "             param_grid={&#x27;alpha&#x27;: [1, 10, 100], &#x27;max_iter&#x27;: [1, 10, 100],\n",
       "                         &#x27;selection&#x27;: [&#x27;cyclic&#x27;, &#x27;random&#x27;],\n",
       "                         &#x27;tol&#x27;: [0.01, 1, 10]},\n",
       "             verbose=2)</pre><b>In a Jupyter environment, please rerun this cell to show the HTML representation or trust the notebook. <br />On GitHub, the HTML representation is unable to render, please try loading this page with nbviewer.org.</b></div><div class=\"sk-container\" hidden><div class=\"sk-item sk-dashed-wrapped\"><div class=\"sk-label-container\"><div class=\"sk-label sk-toggleable\"><input class=\"sk-toggleable__control sk-hidden--visually\" id=\"sk-estimator-id-2\" type=\"checkbox\" ><label for=\"sk-estimator-id-2\" class=\"sk-toggleable__label sk-toggleable__label-arrow\">GridSearchCV</label><div class=\"sk-toggleable__content\"><pre>GridSearchCV(estimator=Lasso(),\n",
       "             param_grid={&#x27;alpha&#x27;: [1, 10, 100], &#x27;max_iter&#x27;: [1, 10, 100],\n",
       "                         &#x27;selection&#x27;: [&#x27;cyclic&#x27;, &#x27;random&#x27;],\n",
       "                         &#x27;tol&#x27;: [0.01, 1, 10]},\n",
       "             verbose=2)</pre></div></div></div><div class=\"sk-parallel\"><div class=\"sk-parallel-item\"><div class=\"sk-item\"><div class=\"sk-label-container\"><div class=\"sk-label sk-toggleable\"><input class=\"sk-toggleable__control sk-hidden--visually\" id=\"sk-estimator-id-3\" type=\"checkbox\" ><label for=\"sk-estimator-id-3\" class=\"sk-toggleable__label sk-toggleable__label-arrow\">estimator: Lasso</label><div class=\"sk-toggleable__content\"><pre>Lasso()</pre></div></div></div><div class=\"sk-serial\"><div class=\"sk-item\"><div class=\"sk-estimator sk-toggleable\"><input class=\"sk-toggleable__control sk-hidden--visually\" id=\"sk-estimator-id-4\" type=\"checkbox\" ><label for=\"sk-estimator-id-4\" class=\"sk-toggleable__label sk-toggleable__label-arrow\">Lasso</label><div class=\"sk-toggleable__content\"><pre>Lasso()</pre></div></div></div></div></div></div></div></div></div></div>"
      ],
      "text/plain": [
       "GridSearchCV(estimator=Lasso(),\n",
       "             param_grid={'alpha': [1, 10, 100], 'max_iter': [1, 10, 100],\n",
       "                         'selection': ['cyclic', 'random'],\n",
       "                         'tol': [0.01, 1, 10]},\n",
       "             verbose=2)"
      ]
     },
     "execution_count": 20,
     "metadata": {},
     "output_type": "execute_result"
    }
   ],
   "source": [
    "from sklearn.linear_model import Lasso\n",
    "from sklearn.model_selection import GridSearchCV\n",
    "\n",
    "param_grid = {'alpha': [1, 10 , 100], 'max_iter': [1, 10,100], 'tol': [1e-2, 1, 10], 'selection': ['cyclic','random']}\n",
    "\n",
    "#Hago estimaciones de que parametros usar\n",
    "\n",
    "grid = GridSearchCV(Lasso(),param_grid,refit=True,verbose=2)\n",
    "\n",
    "grid.fit(X_train,y_train)"
   ]
  },
  {
   "cell_type": "code",
   "execution_count": 21,
   "metadata": {},
   "outputs": [
    {
     "name": "stdout",
     "output_type": "stream",
     "text": [
      "Lasso(alpha=1, max_iter=100, selection='random', tol=0.01)\n",
      "{'alpha': 1, 'max_iter': 100, 'selection': 'random', 'tol': 0.01}\n",
      "0.07071616495702293\n"
     ]
    }
   ],
   "source": [
    "#Reviso los mejores parametros\n",
    "\n",
    "print(grid.best_estimator_)\n",
    "print(grid.best_params_)\n",
    "print(grid.best_score_)"
   ]
  },
  {
   "cell_type": "code",
   "execution_count": 24,
   "metadata": {},
   "outputs": [
    {
     "data": {
      "text/plain": [
       "0.075287595073952"
      ]
     },
     "execution_count": 24,
     "metadata": {},
     "output_type": "execute_result"
    }
   ],
   "source": [
    "#Creo el metodo Lasso\n",
    "\n",
    "lassoreg = Lasso(alpha=1, max_iter=100, selection='random', tol=0.01)\n",
    "lassoreg.fit(X_train, y_train)\n",
    "\n",
    "# Hago las predicciones\n",
    "\n",
    "y_lasso = lassoreg.predict(X_test)\n",
    "lassoreg.score(X_test,y_test)"
   ]
  },
  {
   "cell_type": "code",
   "execution_count": 25,
   "metadata": {},
   "outputs": [
    {
     "data": {
      "text/plain": [
       "{'mean_squared_error': 1.0593824381906387,\n",
       " 'mean_absolute_error': 0.7806799764384812,\n",
       " 'mean_absolute_percentage_error': 0.1328576982114495}"
      ]
     },
     "execution_count": 25,
     "metadata": {},
     "output_type": "execute_result"
    }
   ],
   "source": [
    "# Vemos los errores\n",
    "\n",
    "scores = -1 * cross_val_score(lassoreg, X_train, y_train, cv=5, scoring='neg_mean_absolute_percentage_error')\n",
    "\n",
    "score_dataset(X_train, X_test, y_train, y_test, model=Lasso())"
   ]
  },
  {
   "cell_type": "markdown",
   "metadata": {},
   "source": [
    "#### Regresion Vectorial"
   ]
  },
  {
   "cell_type": "code",
   "execution_count": 26,
   "metadata": {},
   "outputs": [
    {
     "name": "stdout",
     "output_type": "stream",
     "text": [
      "Fitting 5 folds for each of 18 candidates, totalling 90 fits\n",
      "[CV] END ...................C=1, epsilon=0.1, kernel=sigmoid; total time=   0.6s\n",
      "[CV] END ...................C=1, epsilon=0.1, kernel=sigmoid; total time=   0.9s\n",
      "[CV] END ...................C=1, epsilon=0.1, kernel=sigmoid; total time=   0.6s\n",
      "[CV] END ...................C=1, epsilon=0.1, kernel=sigmoid; total time=   0.8s\n",
      "[CV] END ...................C=1, epsilon=0.1, kernel=sigmoid; total time=   0.9s\n",
      "[CV] END .......................C=1, epsilon=0.1, kernel=rbf; total time=   0.9s\n",
      "[CV] END .......................C=1, epsilon=0.1, kernel=rbf; total time=   0.9s\n",
      "[CV] END .......................C=1, epsilon=0.1, kernel=rbf; total time=   1.0s\n",
      "[CV] END .......................C=1, epsilon=0.1, kernel=rbf; total time=   1.0s\n",
      "[CV] END .......................C=1, epsilon=0.1, kernel=rbf; total time=   1.0s\n",
      "[CV] END .....................C=1, epsilon=1, kernel=sigmoid; total time=   0.8s\n",
      "[CV] END .....................C=1, epsilon=1, kernel=sigmoid; total time=   0.8s\n",
      "[CV] END .....................C=1, epsilon=1, kernel=sigmoid; total time=   0.6s\n",
      "[CV] END .....................C=1, epsilon=1, kernel=sigmoid; total time=   0.6s\n",
      "[CV] END .....................C=1, epsilon=1, kernel=sigmoid; total time=   0.6s\n",
      "[CV] END .........................C=1, epsilon=1, kernel=rbf; total time=   0.2s\n",
      "[CV] END .........................C=1, epsilon=1, kernel=rbf; total time=   0.2s\n",
      "[CV] END .........................C=1, epsilon=1, kernel=rbf; total time=   0.2s\n",
      "[CV] END .........................C=1, epsilon=1, kernel=rbf; total time=   0.2s\n",
      "[CV] END .........................C=1, epsilon=1, kernel=rbf; total time=   0.2s\n",
      "[CV] END ....................C=1, epsilon=10, kernel=sigmoid; total time=   0.0s\n",
      "[CV] END ....................C=1, epsilon=10, kernel=sigmoid; total time=   0.0s\n",
      "[CV] END ....................C=1, epsilon=10, kernel=sigmoid; total time=   0.0s\n",
      "[CV] END ....................C=1, epsilon=10, kernel=sigmoid; total time=   0.0s\n",
      "[CV] END ....................C=1, epsilon=10, kernel=sigmoid; total time=   0.0s\n",
      "[CV] END ........................C=1, epsilon=10, kernel=rbf; total time=   0.0s\n",
      "[CV] END ........................C=1, epsilon=10, kernel=rbf; total time=   0.0s\n",
      "[CV] END ........................C=1, epsilon=10, kernel=rbf; total time=   0.0s\n",
      "[CV] END ........................C=1, epsilon=10, kernel=rbf; total time=   0.0s\n",
      "[CV] END ........................C=1, epsilon=10, kernel=rbf; total time=   0.0s\n",
      "[CV] END ..................C=10, epsilon=0.1, kernel=sigmoid; total time=   0.6s\n",
      "[CV] END ..................C=10, epsilon=0.1, kernel=sigmoid; total time=   0.6s\n",
      "[CV] END ..................C=10, epsilon=0.1, kernel=sigmoid; total time=   0.6s\n",
      "[CV] END ..................C=10, epsilon=0.1, kernel=sigmoid; total time=   0.6s\n",
      "[CV] END ..................C=10, epsilon=0.1, kernel=sigmoid; total time=   0.6s\n",
      "[CV] END ......................C=10, epsilon=0.1, kernel=rbf; total time=   0.8s\n",
      "[CV] END ......................C=10, epsilon=0.1, kernel=rbf; total time=   0.8s\n",
      "[CV] END ......................C=10, epsilon=0.1, kernel=rbf; total time=   0.8s\n",
      "[CV] END ......................C=10, epsilon=0.1, kernel=rbf; total time=   0.8s\n",
      "[CV] END ......................C=10, epsilon=0.1, kernel=rbf; total time=   0.8s\n",
      "[CV] END ....................C=10, epsilon=1, kernel=sigmoid; total time=   0.6s\n",
      "[CV] END ....................C=10, epsilon=1, kernel=sigmoid; total time=   0.6s\n",
      "[CV] END ....................C=10, epsilon=1, kernel=sigmoid; total time=   0.6s\n",
      "[CV] END ....................C=10, epsilon=1, kernel=sigmoid; total time=   0.6s\n",
      "[CV] END ....................C=10, epsilon=1, kernel=sigmoid; total time=   0.6s\n",
      "[CV] END ........................C=10, epsilon=1, kernel=rbf; total time=   0.2s\n",
      "[CV] END ........................C=10, epsilon=1, kernel=rbf; total time=   0.3s\n",
      "[CV] END ........................C=10, epsilon=1, kernel=rbf; total time=   0.2s\n",
      "[CV] END ........................C=10, epsilon=1, kernel=rbf; total time=   0.3s\n",
      "[CV] END ........................C=10, epsilon=1, kernel=rbf; total time=   0.2s\n",
      "[CV] END ...................C=10, epsilon=10, kernel=sigmoid; total time=   0.0s\n",
      "[CV] END ...................C=10, epsilon=10, kernel=sigmoid; total time=   0.0s\n",
      "[CV] END ...................C=10, epsilon=10, kernel=sigmoid; total time=   0.0s\n",
      "[CV] END ...................C=10, epsilon=10, kernel=sigmoid; total time=   0.0s\n",
      "[CV] END ...................C=10, epsilon=10, kernel=sigmoid; total time=   0.0s\n",
      "[CV] END .......................C=10, epsilon=10, kernel=rbf; total time=   0.0s\n",
      "[CV] END .......................C=10, epsilon=10, kernel=rbf; total time=   0.0s\n",
      "[CV] END .......................C=10, epsilon=10, kernel=rbf; total time=   0.0s\n",
      "[CV] END .......................C=10, epsilon=10, kernel=rbf; total time=   0.0s\n",
      "[CV] END .......................C=10, epsilon=10, kernel=rbf; total time=   0.0s\n",
      "[CV] END .................C=100, epsilon=0.1, kernel=sigmoid; total time=   0.6s\n",
      "[CV] END .................C=100, epsilon=0.1, kernel=sigmoid; total time=   0.6s\n",
      "[CV] END .................C=100, epsilon=0.1, kernel=sigmoid; total time=   0.6s\n",
      "[CV] END .................C=100, epsilon=0.1, kernel=sigmoid; total time=   0.6s\n",
      "[CV] END .................C=100, epsilon=0.1, kernel=sigmoid; total time=   0.7s\n",
      "[CV] END .....................C=100, epsilon=0.1, kernel=rbf; total time=   0.9s\n",
      "[CV] END .....................C=100, epsilon=0.1, kernel=rbf; total time=   0.9s\n",
      "[CV] END .....................C=100, epsilon=0.1, kernel=rbf; total time=   0.9s\n",
      "[CV] END .....................C=100, epsilon=0.1, kernel=rbf; total time=   0.9s\n",
      "[CV] END .....................C=100, epsilon=0.1, kernel=rbf; total time=   1.0s\n",
      "[CV] END ...................C=100, epsilon=1, kernel=sigmoid; total time=   0.6s\n",
      "[CV] END ...................C=100, epsilon=1, kernel=sigmoid; total time=   0.6s\n",
      "[CV] END ...................C=100, epsilon=1, kernel=sigmoid; total time=   0.6s\n",
      "[CV] END ...................C=100, epsilon=1, kernel=sigmoid; total time=   0.6s\n",
      "[CV] END ...................C=100, epsilon=1, kernel=sigmoid; total time=   0.6s\n",
      "[CV] END .......................C=100, epsilon=1, kernel=rbf; total time=   0.3s\n",
      "[CV] END .......................C=100, epsilon=1, kernel=rbf; total time=   0.3s\n",
      "[CV] END .......................C=100, epsilon=1, kernel=rbf; total time=   0.3s\n",
      "[CV] END .......................C=100, epsilon=1, kernel=rbf; total time=   0.3s\n",
      "[CV] END .......................C=100, epsilon=1, kernel=rbf; total time=   0.3s\n",
      "[CV] END ..................C=100, epsilon=10, kernel=sigmoid; total time=   0.0s\n",
      "[CV] END ..................C=100, epsilon=10, kernel=sigmoid; total time=   0.0s\n",
      "[CV] END ..................C=100, epsilon=10, kernel=sigmoid; total time=   0.0s\n",
      "[CV] END ..................C=100, epsilon=10, kernel=sigmoid; total time=   0.0s\n",
      "[CV] END ..................C=100, epsilon=10, kernel=sigmoid; total time=   0.0s\n",
      "[CV] END ......................C=100, epsilon=10, kernel=rbf; total time=   0.0s\n",
      "[CV] END ......................C=100, epsilon=10, kernel=rbf; total time=   0.0s\n",
      "[CV] END ......................C=100, epsilon=10, kernel=rbf; total time=   0.0s\n",
      "[CV] END ......................C=100, epsilon=10, kernel=rbf; total time=   0.0s\n",
      "[CV] END ......................C=100, epsilon=10, kernel=rbf; total time=   0.0s\n"
     ]
    },
    {
     "data": {
      "text/html": [
       "<style>#sk-container-id-3 {color: black;background-color: white;}#sk-container-id-3 pre{padding: 0;}#sk-container-id-3 div.sk-toggleable {background-color: white;}#sk-container-id-3 label.sk-toggleable__label {cursor: pointer;display: block;width: 100%;margin-bottom: 0;padding: 0.3em;box-sizing: border-box;text-align: center;}#sk-container-id-3 label.sk-toggleable__label-arrow:before {content: \"▸\";float: left;margin-right: 0.25em;color: #696969;}#sk-container-id-3 label.sk-toggleable__label-arrow:hover:before {color: black;}#sk-container-id-3 div.sk-estimator:hover label.sk-toggleable__label-arrow:before {color: black;}#sk-container-id-3 div.sk-toggleable__content {max-height: 0;max-width: 0;overflow: hidden;text-align: left;background-color: #f0f8ff;}#sk-container-id-3 div.sk-toggleable__content pre {margin: 0.2em;color: black;border-radius: 0.25em;background-color: #f0f8ff;}#sk-container-id-3 input.sk-toggleable__control:checked~div.sk-toggleable__content {max-height: 200px;max-width: 100%;overflow: auto;}#sk-container-id-3 input.sk-toggleable__control:checked~label.sk-toggleable__label-arrow:before {content: \"▾\";}#sk-container-id-3 div.sk-estimator input.sk-toggleable__control:checked~label.sk-toggleable__label {background-color: #d4ebff;}#sk-container-id-3 div.sk-label input.sk-toggleable__control:checked~label.sk-toggleable__label {background-color: #d4ebff;}#sk-container-id-3 input.sk-hidden--visually {border: 0;clip: rect(1px 1px 1px 1px);clip: rect(1px, 1px, 1px, 1px);height: 1px;margin: -1px;overflow: hidden;padding: 0;position: absolute;width: 1px;}#sk-container-id-3 div.sk-estimator {font-family: monospace;background-color: #f0f8ff;border: 1px dotted black;border-radius: 0.25em;box-sizing: border-box;margin-bottom: 0.5em;}#sk-container-id-3 div.sk-estimator:hover {background-color: #d4ebff;}#sk-container-id-3 div.sk-parallel-item::after {content: \"\";width: 100%;border-bottom: 1px solid gray;flex-grow: 1;}#sk-container-id-3 div.sk-label:hover label.sk-toggleable__label {background-color: #d4ebff;}#sk-container-id-3 div.sk-serial::before {content: \"\";position: absolute;border-left: 1px solid gray;box-sizing: border-box;top: 0;bottom: 0;left: 50%;z-index: 0;}#sk-container-id-3 div.sk-serial {display: flex;flex-direction: column;align-items: center;background-color: white;padding-right: 0.2em;padding-left: 0.2em;position: relative;}#sk-container-id-3 div.sk-item {position: relative;z-index: 1;}#sk-container-id-3 div.sk-parallel {display: flex;align-items: stretch;justify-content: center;background-color: white;position: relative;}#sk-container-id-3 div.sk-item::before, #sk-container-id-3 div.sk-parallel-item::before {content: \"\";position: absolute;border-left: 1px solid gray;box-sizing: border-box;top: 0;bottom: 0;left: 50%;z-index: -1;}#sk-container-id-3 div.sk-parallel-item {display: flex;flex-direction: column;z-index: 1;position: relative;background-color: white;}#sk-container-id-3 div.sk-parallel-item:first-child::after {align-self: flex-end;width: 50%;}#sk-container-id-3 div.sk-parallel-item:last-child::after {align-self: flex-start;width: 50%;}#sk-container-id-3 div.sk-parallel-item:only-child::after {width: 0;}#sk-container-id-3 div.sk-dashed-wrapped {border: 1px dashed gray;margin: 0 0.4em 0.5em 0.4em;box-sizing: border-box;padding-bottom: 0.4em;background-color: white;}#sk-container-id-3 div.sk-label label {font-family: monospace;font-weight: bold;display: inline-block;line-height: 1.2em;}#sk-container-id-3 div.sk-label-container {text-align: center;}#sk-container-id-3 div.sk-container {/* jupyter's `normalize.less` sets `[hidden] { display: none; }` but bootstrap.min.css set `[hidden] { display: none !important; }` so we also need the `!important` here to be able to override the default hidden behavior on the sphinx rendered scikit-learn.org. See: https://github.com/scikit-learn/scikit-learn/issues/21755 */display: inline-block !important;position: relative;}#sk-container-id-3 div.sk-text-repr-fallback {display: none;}</style><div id=\"sk-container-id-3\" class=\"sk-top-container\"><div class=\"sk-text-repr-fallback\"><pre>GridSearchCV(estimator=SVR(cache_size=500),\n",
       "             param_grid={&#x27;C&#x27;: [1, 10, 100], &#x27;epsilon&#x27;: [0.1, 1, 10],\n",
       "                         &#x27;kernel&#x27;: [&#x27;sigmoid&#x27;, &#x27;rbf&#x27;]},\n",
       "             verbose=2)</pre><b>In a Jupyter environment, please rerun this cell to show the HTML representation or trust the notebook. <br />On GitHub, the HTML representation is unable to render, please try loading this page with nbviewer.org.</b></div><div class=\"sk-container\" hidden><div class=\"sk-item sk-dashed-wrapped\"><div class=\"sk-label-container\"><div class=\"sk-label sk-toggleable\"><input class=\"sk-toggleable__control sk-hidden--visually\" id=\"sk-estimator-id-5\" type=\"checkbox\" ><label for=\"sk-estimator-id-5\" class=\"sk-toggleable__label sk-toggleable__label-arrow\">GridSearchCV</label><div class=\"sk-toggleable__content\"><pre>GridSearchCV(estimator=SVR(cache_size=500),\n",
       "             param_grid={&#x27;C&#x27;: [1, 10, 100], &#x27;epsilon&#x27;: [0.1, 1, 10],\n",
       "                         &#x27;kernel&#x27;: [&#x27;sigmoid&#x27;, &#x27;rbf&#x27;]},\n",
       "             verbose=2)</pre></div></div></div><div class=\"sk-parallel\"><div class=\"sk-parallel-item\"><div class=\"sk-item\"><div class=\"sk-label-container\"><div class=\"sk-label sk-toggleable\"><input class=\"sk-toggleable__control sk-hidden--visually\" id=\"sk-estimator-id-6\" type=\"checkbox\" ><label for=\"sk-estimator-id-6\" class=\"sk-toggleable__label sk-toggleable__label-arrow\">estimator: SVR</label><div class=\"sk-toggleable__content\"><pre>SVR(cache_size=500)</pre></div></div></div><div class=\"sk-serial\"><div class=\"sk-item\"><div class=\"sk-estimator sk-toggleable\"><input class=\"sk-toggleable__control sk-hidden--visually\" id=\"sk-estimator-id-7\" type=\"checkbox\" ><label for=\"sk-estimator-id-7\" class=\"sk-toggleable__label sk-toggleable__label-arrow\">SVR</label><div class=\"sk-toggleable__content\"><pre>SVR(cache_size=500)</pre></div></div></div></div></div></div></div></div></div></div>"
      ],
      "text/plain": [
       "GridSearchCV(estimator=SVR(cache_size=500),\n",
       "             param_grid={'C': [1, 10, 100], 'epsilon': [0.1, 1, 10],\n",
       "                         'kernel': ['sigmoid', 'rbf']},\n",
       "             verbose=2)"
      ]
     },
     "execution_count": 26,
     "metadata": {},
     "output_type": "execute_result"
    }
   ],
   "source": [
    "from sklearn.svm import SVR\n",
    "from sklearn.model_selection import GridSearchCV\n",
    "\n",
    "param_grid = {'C': [1 , 10, 100], 'epsilon': [0.1,1,10],'kernel': ['sigmoid','rbf']}\n",
    "\n",
    "#Hago estimaciones de que parametros usar\n",
    "\n",
    "grid = GridSearchCV(SVR(cache_size=500),param_grid,refit=True,verbose=2)\n",
    "\n",
    "grid.fit(X_train,y_train)\n"
   ]
  },
  {
   "cell_type": "code",
   "execution_count": 27,
   "metadata": {},
   "outputs": [
    {
     "name": "stdout",
     "output_type": "stream",
     "text": [
      "SVR(C=1, cache_size=500, epsilon=1)\n",
      "{'C': 1, 'epsilon': 1, 'kernel': 'rbf'}\n",
      "0.046763032971632826\n"
     ]
    }
   ],
   "source": [
    "# Revisamos los mejores parametros\n",
    "\n",
    "print(grid.best_estimator_)\n",
    "print(grid.best_params_)\n",
    "print(grid.best_score_)"
   ]
  },
  {
   "cell_type": "code",
   "execution_count": 28,
   "metadata": {},
   "outputs": [
    {
     "data": {
      "text/plain": [
       "0.20217220429344585"
      ]
     },
     "execution_count": 28,
     "metadata": {},
     "output_type": "execute_result"
    }
   ],
   "source": [
    "from sklearn.pipeline import make_pipeline\n",
    "from sklearn.preprocessing import StandardScaler\n",
    "\n",
    "# Armamos el modelo\n",
    "\n",
    "SVR_regr = make_pipeline(StandardScaler(), SVR(C=10, epsilon=1, kernel='rbf', cache_size=500))\n",
    "SVR_regr.fit(X_train, y_train)\n",
    "\n",
    "#Realizamos las predicciones\n",
    "\n",
    "y_svr=SVR_regr.predict(X_test)\n",
    "SVR_regr.score(X_test,y_test)\n"
   ]
  },
  {
   "cell_type": "code",
   "execution_count": 29,
   "metadata": {},
   "outputs": [
    {
     "data": {
      "text/plain": [
       "{'mean_squared_error': 1.098899082947524,\n",
       " 'mean_absolute_error': 0.7881899422282084,\n",
       " 'mean_absolute_percentage_error': 0.13532384801837538}"
      ]
     },
     "execution_count": 29,
     "metadata": {},
     "output_type": "execute_result"
    }
   ],
   "source": [
    "#Vemos los errores\n",
    "\n",
    "scores = -1 * cross_val_score(SVR_regr, X_train, y_train, cv=5, scoring='neg_mean_absolute_percentage_error')\n",
    "\n",
    "score_dataset(X_train, X_test, y_train, y_test, model=SVR())"
   ]
  },
  {
   "cell_type": "code",
   "execution_count": 30,
   "metadata": {},
   "outputs": [
    {
     "data": {
      "text/html": [
       "<div>\n",
       "<style scoped>\n",
       "    .dataframe tbody tr th:only-of-type {\n",
       "        vertical-align: middle;\n",
       "    }\n",
       "\n",
       "    .dataframe tbody tr th {\n",
       "        vertical-align: top;\n",
       "    }\n",
       "\n",
       "    .dataframe thead th {\n",
       "        text-align: right;\n",
       "    }\n",
       "</style>\n",
       "<table border=\"1\" class=\"dataframe\">\n",
       "  <thead>\n",
       "    <tr style=\"text-align: right;\">\n",
       "      <th></th>\n",
       "      <th>Actual</th>\n",
       "      <th>Predicted_Lin</th>\n",
       "      <th>Predicted_Bayesian</th>\n",
       "      <th>Predicted_OrthMatch</th>\n",
       "      <th>Predicted_Lasso</th>\n",
       "      <th>Predicted_SVR</th>\n",
       "    </tr>\n",
       "  </thead>\n",
       "  <tbody>\n",
       "    <tr>\n",
       "      <th>5447</th>\n",
       "      <td>6.7</td>\n",
       "      <td>6.537640</td>\n",
       "      <td>6.531958</td>\n",
       "      <td>6.355066</td>\n",
       "      <td>6.273721</td>\n",
       "      <td>6.589466</td>\n",
       "    </tr>\n",
       "    <tr>\n",
       "      <th>2206</th>\n",
       "      <td>5.8</td>\n",
       "      <td>6.589604</td>\n",
       "      <td>6.553047</td>\n",
       "      <td>6.696324</td>\n",
       "      <td>6.779799</td>\n",
       "      <td>6.974867</td>\n",
       "    </tr>\n",
       "    <tr>\n",
       "      <th>1228</th>\n",
       "      <td>6.6</td>\n",
       "      <td>6.431126</td>\n",
       "      <td>6.423431</td>\n",
       "      <td>6.537245</td>\n",
       "      <td>6.513756</td>\n",
       "      <td>6.270145</td>\n",
       "    </tr>\n",
       "    <tr>\n",
       "      <th>1949</th>\n",
       "      <td>7.0</td>\n",
       "      <td>7.189100</td>\n",
       "      <td>7.173920</td>\n",
       "      <td>7.112576</td>\n",
       "      <td>6.645085</td>\n",
       "      <td>6.698285</td>\n",
       "    </tr>\n",
       "    <tr>\n",
       "      <th>4482</th>\n",
       "      <td>3.8</td>\n",
       "      <td>5.435535</td>\n",
       "      <td>5.699709</td>\n",
       "      <td>5.938125</td>\n",
       "      <td>6.420827</td>\n",
       "      <td>5.262438</td>\n",
       "    </tr>\n",
       "    <tr>\n",
       "      <th>...</th>\n",
       "      <td>...</td>\n",
       "      <td>...</td>\n",
       "      <td>...</td>\n",
       "      <td>...</td>\n",
       "      <td>...</td>\n",
       "      <td>...</td>\n",
       "    </tr>\n",
       "    <tr>\n",
       "      <th>4606</th>\n",
       "      <td>6.5</td>\n",
       "      <td>6.279722</td>\n",
       "      <td>6.267876</td>\n",
       "      <td>6.009220</td>\n",
       "      <td>6.624074</td>\n",
       "      <td>6.517362</td>\n",
       "    </tr>\n",
       "    <tr>\n",
       "      <th>3503</th>\n",
       "      <td>3.0</td>\n",
       "      <td>6.197741</td>\n",
       "      <td>6.191800</td>\n",
       "      <td>6.177214</td>\n",
       "      <td>6.495600</td>\n",
       "      <td>6.200267</td>\n",
       "    </tr>\n",
       "    <tr>\n",
       "      <th>4990</th>\n",
       "      <td>8.1</td>\n",
       "      <td>6.877370</td>\n",
       "      <td>6.850411</td>\n",
       "      <td>6.822638</td>\n",
       "      <td>6.772144</td>\n",
       "      <td>6.593763</td>\n",
       "    </tr>\n",
       "    <tr>\n",
       "      <th>2529</th>\n",
       "      <td>6.4</td>\n",
       "      <td>6.541649</td>\n",
       "      <td>6.604753</td>\n",
       "      <td>6.788311</td>\n",
       "      <td>6.467467</td>\n",
       "      <td>6.800251</td>\n",
       "    </tr>\n",
       "    <tr>\n",
       "      <th>2455</th>\n",
       "      <td>4.6</td>\n",
       "      <td>6.233795</td>\n",
       "      <td>6.233143</td>\n",
       "      <td>6.230573</td>\n",
       "      <td>6.450802</td>\n",
       "      <td>6.014846</td>\n",
       "    </tr>\n",
       "  </tbody>\n",
       "</table>\n",
       "<p>1136 rows × 6 columns</p>\n",
       "</div>"
      ],
      "text/plain": [
       "      Actual  Predicted_Lin  Predicted_Bayesian  Predicted_OrthMatch  \\\n",
       "5447     6.7       6.537640            6.531958             6.355066   \n",
       "2206     5.8       6.589604            6.553047             6.696324   \n",
       "1228     6.6       6.431126            6.423431             6.537245   \n",
       "1949     7.0       7.189100            7.173920             7.112576   \n",
       "4482     3.8       5.435535            5.699709             5.938125   \n",
       "...      ...            ...                 ...                  ...   \n",
       "4606     6.5       6.279722            6.267876             6.009220   \n",
       "3503     3.0       6.197741            6.191800             6.177214   \n",
       "4990     8.1       6.877370            6.850411             6.822638   \n",
       "2529     6.4       6.541649            6.604753             6.788311   \n",
       "2455     4.6       6.233795            6.233143             6.230573   \n",
       "\n",
       "      Predicted_Lasso  Predicted_SVR  \n",
       "5447         6.273721       6.589466  \n",
       "2206         6.779799       6.974867  \n",
       "1228         6.513756       6.270145  \n",
       "1949         6.645085       6.698285  \n",
       "4482         6.420827       5.262438  \n",
       "...               ...            ...  \n",
       "4606         6.624074       6.517362  \n",
       "3503         6.495600       6.200267  \n",
       "4990         6.772144       6.593763  \n",
       "2529         6.467467       6.800251  \n",
       "2455         6.450802       6.014846  \n",
       "\n",
       "[1136 rows x 6 columns]"
      ]
     },
     "execution_count": 30,
     "metadata": {},
     "output_type": "execute_result"
    }
   ],
   "source": [
    "# Creamos un dataframe con las predicciones realizadas\n",
    "\n",
    "df_predicciones = pd.DataFrame({'Actual': y_test, \n",
    "                                'Predicted_Lin': y_lin, \n",
    "                                'Predicted_Bayesian': y_bay,\n",
    "                                'Predicted_OrthMatch': y_orth,\n",
    "                                'Predicted_Lasso': y_lasso,\n",
    "                                'Predicted_SVR': y_svr})\n",
    "df_predicciones"
   ]
  },
  {
   "cell_type": "code",
   "execution_count": 31,
   "metadata": {},
   "outputs": [
    {
     "data": {
      "text/html": [
       "<div>\n",
       "<style scoped>\n",
       "    .dataframe tbody tr th:only-of-type {\n",
       "        vertical-align: middle;\n",
       "    }\n",
       "\n",
       "    .dataframe tbody tr th {\n",
       "        vertical-align: top;\n",
       "    }\n",
       "\n",
       "    .dataframe thead th {\n",
       "        text-align: right;\n",
       "    }\n",
       "</style>\n",
       "<table border=\"1\" class=\"dataframe\">\n",
       "  <thead>\n",
       "    <tr style=\"text-align: right;\">\n",
       "      <th></th>\n",
       "      <th>Actual</th>\n",
       "      <th>Predicted_Lin</th>\n",
       "      <th>Predicted_Bayesian</th>\n",
       "      <th>Predicted_OrthMatch</th>\n",
       "      <th>Predicted_Lasso</th>\n",
       "      <th>Predicted_SVR</th>\n",
       "      <th>Promedio</th>\n",
       "    </tr>\n",
       "  </thead>\n",
       "  <tbody>\n",
       "    <tr>\n",
       "      <th>5447</th>\n",
       "      <td>6.7</td>\n",
       "      <td>6.537640</td>\n",
       "      <td>6.531958</td>\n",
       "      <td>6.355066</td>\n",
       "      <td>6.273721</td>\n",
       "      <td>6.589466</td>\n",
       "      <td>6.457570</td>\n",
       "    </tr>\n",
       "    <tr>\n",
       "      <th>2206</th>\n",
       "      <td>5.8</td>\n",
       "      <td>6.589604</td>\n",
       "      <td>6.553047</td>\n",
       "      <td>6.696324</td>\n",
       "      <td>6.779799</td>\n",
       "      <td>6.974867</td>\n",
       "      <td>6.718728</td>\n",
       "    </tr>\n",
       "    <tr>\n",
       "      <th>1228</th>\n",
       "      <td>6.6</td>\n",
       "      <td>6.431126</td>\n",
       "      <td>6.423431</td>\n",
       "      <td>6.537245</td>\n",
       "      <td>6.513756</td>\n",
       "      <td>6.270145</td>\n",
       "      <td>6.435141</td>\n",
       "    </tr>\n",
       "    <tr>\n",
       "      <th>1949</th>\n",
       "      <td>7.0</td>\n",
       "      <td>7.189100</td>\n",
       "      <td>7.173920</td>\n",
       "      <td>7.112576</td>\n",
       "      <td>6.645085</td>\n",
       "      <td>6.698285</td>\n",
       "      <td>6.963793</td>\n",
       "    </tr>\n",
       "    <tr>\n",
       "      <th>4482</th>\n",
       "      <td>3.8</td>\n",
       "      <td>5.435535</td>\n",
       "      <td>5.699709</td>\n",
       "      <td>5.938125</td>\n",
       "      <td>6.420827</td>\n",
       "      <td>5.262438</td>\n",
       "      <td>5.751327</td>\n",
       "    </tr>\n",
       "    <tr>\n",
       "      <th>...</th>\n",
       "      <td>...</td>\n",
       "      <td>...</td>\n",
       "      <td>...</td>\n",
       "      <td>...</td>\n",
       "      <td>...</td>\n",
       "      <td>...</td>\n",
       "      <td>...</td>\n",
       "    </tr>\n",
       "    <tr>\n",
       "      <th>4606</th>\n",
       "      <td>6.5</td>\n",
       "      <td>6.279722</td>\n",
       "      <td>6.267876</td>\n",
       "      <td>6.009220</td>\n",
       "      <td>6.624074</td>\n",
       "      <td>6.517362</td>\n",
       "      <td>6.339651</td>\n",
       "    </tr>\n",
       "    <tr>\n",
       "      <th>3503</th>\n",
       "      <td>3.0</td>\n",
       "      <td>6.197741</td>\n",
       "      <td>6.191800</td>\n",
       "      <td>6.177214</td>\n",
       "      <td>6.495600</td>\n",
       "      <td>6.200267</td>\n",
       "      <td>6.252524</td>\n",
       "    </tr>\n",
       "    <tr>\n",
       "      <th>4990</th>\n",
       "      <td>8.1</td>\n",
       "      <td>6.877370</td>\n",
       "      <td>6.850411</td>\n",
       "      <td>6.822638</td>\n",
       "      <td>6.772144</td>\n",
       "      <td>6.593763</td>\n",
       "      <td>6.783265</td>\n",
       "    </tr>\n",
       "    <tr>\n",
       "      <th>2529</th>\n",
       "      <td>6.4</td>\n",
       "      <td>6.541649</td>\n",
       "      <td>6.604753</td>\n",
       "      <td>6.788311</td>\n",
       "      <td>6.467467</td>\n",
       "      <td>6.800251</td>\n",
       "      <td>6.640486</td>\n",
       "    </tr>\n",
       "    <tr>\n",
       "      <th>2455</th>\n",
       "      <td>4.6</td>\n",
       "      <td>6.233795</td>\n",
       "      <td>6.233143</td>\n",
       "      <td>6.230573</td>\n",
       "      <td>6.450802</td>\n",
       "      <td>6.014846</td>\n",
       "      <td>6.232632</td>\n",
       "    </tr>\n",
       "  </tbody>\n",
       "</table>\n",
       "<p>1136 rows × 7 columns</p>\n",
       "</div>"
      ],
      "text/plain": [
       "      Actual  Predicted_Lin  Predicted_Bayesian  Predicted_OrthMatch  \\\n",
       "5447     6.7       6.537640            6.531958             6.355066   \n",
       "2206     5.8       6.589604            6.553047             6.696324   \n",
       "1228     6.6       6.431126            6.423431             6.537245   \n",
       "1949     7.0       7.189100            7.173920             7.112576   \n",
       "4482     3.8       5.435535            5.699709             5.938125   \n",
       "...      ...            ...                 ...                  ...   \n",
       "4606     6.5       6.279722            6.267876             6.009220   \n",
       "3503     3.0       6.197741            6.191800             6.177214   \n",
       "4990     8.1       6.877370            6.850411             6.822638   \n",
       "2529     6.4       6.541649            6.604753             6.788311   \n",
       "2455     4.6       6.233795            6.233143             6.230573   \n",
       "\n",
       "      Predicted_Lasso  Predicted_SVR  Promedio  \n",
       "5447         6.273721       6.589466  6.457570  \n",
       "2206         6.779799       6.974867  6.718728  \n",
       "1228         6.513756       6.270145  6.435141  \n",
       "1949         6.645085       6.698285  6.963793  \n",
       "4482         6.420827       5.262438  5.751327  \n",
       "...               ...            ...       ...  \n",
       "4606         6.624074       6.517362  6.339651  \n",
       "3503         6.495600       6.200267  6.252524  \n",
       "4990         6.772144       6.593763  6.783265  \n",
       "2529         6.467467       6.800251  6.640486  \n",
       "2455         6.450802       6.014846  6.232632  \n",
       "\n",
       "[1136 rows x 7 columns]"
      ]
     },
     "execution_count": 31,
     "metadata": {},
     "output_type": "execute_result"
    }
   ],
   "source": [
    "#Agregamos la columna de promedio de las predicciones realizadas\n",
    "\n",
    "df_predicciones['Promedio']= (  df_predicciones['Predicted_Lin'] + \n",
    "                                df_predicciones['Predicted_Bayesian'] +\n",
    "                                df_predicciones['Predicted_OrthMatch'] +\n",
    "                                df_predicciones['Predicted_Lasso'] +\n",
    "                                df_predicciones['Predicted_SVR']) /5\n",
    "\n",
    "df_predicciones"
   ]
  },
  {
   "cell_type": "code",
   "execution_count": 32,
   "metadata": {},
   "outputs": [
    {
     "data": {
      "text/plain": [
       "<seaborn.axisgrid.FacetGrid at 0x216545ad7b0>"
      ]
     },
     "execution_count": 32,
     "metadata": {},
     "output_type": "execute_result"
    },
    {
     "data": {
      "image/png": "[encoded data removed]",
      "text/plain": [
       "<Figure size 511.111x3000 with 6 Axes>"
      ]
     },
     "metadata": {},
     "output_type": "display_data"
    }
   ],
   "source": [
    "# Graficamos\n",
    "\n",
    "df_to_scatter = df_predicciones.melt('Actual',var_name='Pred_type', value_name='Pred')\n",
    "colors = [\"#d82525\", \"#464646\"]\n",
    "\n",
    "sns.set_palette(sns.color_palette(colors))\n",
    "g = sns.FacetGrid(df_to_scatter, row=\"Pred_type\", height=5, palette=\"red\")\n",
    "g.map(sns.scatterplot, \"Actual\", \"Pred\")\n",
    "g.add_legend()\n"
   ]
  },
  {
   "cell_type": "code",
   "execution_count": 33,
   "metadata": {},
   "outputs": [
    {
     "name": "stdout",
     "output_type": "stream",
     "text": [
      "5.868532179093822 1.537036570464514\n"
     ]
    }
   ],
   "source": [
    "df_predicciones['diferencia'] = (df_predicciones[\"Actual\"] - df_predicciones[\"Promedio\"])*100/2\n",
    "print(\n",
    "df_predicciones['diferencia'].median(),\n",
    "df_predicciones['diferencia'].mean()\n",
    ")"
   ]
  },
  {
   "cell_type": "markdown",
   "metadata": {},
   "source": [
    "# Recomendador de Producciones"
   ]
  },
  {
   "cell_type": "code",
   "execution_count": 34,
   "metadata": {},
   "outputs": [
    {
     "data": {
      "text/plain": [
       "(2904, 15)"
      ]
     },
     "execution_count": 34,
     "metadata": {},
     "output_type": "execute_result"
    }
   ],
   "source": [
    "df_titles = pd.read_csv(\"titles.csv\") \n",
    "\n",
    "#Preparacion de datos para convertirlos a dummy/indicadores\n",
    "\n",
    "df_titles['production_countries'] = df_titles['production_countries'].str.strip() #saco los espacios adelante y detras\n",
    "df_titles['production_countries'] = df_titles['production_countries'].str.strip(\"[]\") #saco los parentesis de la columna año\n",
    "df_titles['production_countries'] = df_titles['production_countries'].str.split(expand=True)[0]#me quedo solo con el primer pais registrado\n",
    "df_titles['production_countries'] = df_titles['production_countries'].str.strip(\",\")#saco una coma residual\n",
    "#lo mismo para genero\n",
    "df_titles['genres'] = df_titles['genres'].str.strip() #saco los espacios adelante y detras\n",
    "df_titles['genres'] = df_titles['genres'].str.strip(\"[]\") #saco los parentesis de la columna año\n",
    "df_titles['genres'] = df_titles['genres'].str.split(expand=True)[0]#me quedo solo con el primer genero registrado\n",
    "df_titles['genres'] = df_titles['genres'].str.strip(\",\") #saco una coma residual\n",
    "\n",
    "df_titles.type = df_titles.type.replace({\"SHOW\": 1, \"MOVIE\": 0}) #convierto en 0 para serie y 1 para peliculas\n",
    "\n",
    "#Relleno con ceros las peliculas que tienen valor de temporada NaN como defecto\n",
    "values = {\"seasons\": 0}\n",
    "df_titles.fillna(value=values, inplace= True) \n",
    "\n",
    "#descarto el resto de NaN\n",
    "\n",
    "df_titles.dropna(inplace=True)  \n",
    "# df.dropna(subset=['name', 'toy'])\n",
    "df_titles.shape"
   ]
  },
  {
   "cell_type": "code",
   "execution_count": 35,
   "metadata": {},
   "outputs": [
    {
     "data": {
      "text/html": [
       "<div>\n",
       "<style scoped>\n",
       "    .dataframe tbody tr th:only-of-type {\n",
       "        vertical-align: middle;\n",
       "    }\n",
       "\n",
       "    .dataframe tbody tr th {\n",
       "        vertical-align: top;\n",
       "    }\n",
       "\n",
       "    .dataframe thead th {\n",
       "        text-align: right;\n",
       "    }\n",
       "</style>\n",
       "<table border=\"1\" class=\"dataframe\">\n",
       "  <thead>\n",
       "    <tr style=\"text-align: right;\">\n",
       "      <th></th>\n",
       "      <th>type</th>\n",
       "      <th>release_year</th>\n",
       "      <th>runtime</th>\n",
       "      <th>seasons</th>\n",
       "      <th>imdb_votes</th>\n",
       "      <th>tmdb_popularity</th>\n",
       "      <th>age_certification_G</th>\n",
       "      <th>age_certification_NC-17</th>\n",
       "      <th>age_certification_PG</th>\n",
       "      <th>age_certification_PG-13</th>\n",
       "      <th>...</th>\n",
       "      <th>production_countries_'SG'</th>\n",
       "      <th>production_countries_'SN'</th>\n",
       "      <th>production_countries_'TH'</th>\n",
       "      <th>production_countries_'TR'</th>\n",
       "      <th>production_countries_'TW'</th>\n",
       "      <th>production_countries_'UA'</th>\n",
       "      <th>production_countries_'US'</th>\n",
       "      <th>production_countries_'XX'</th>\n",
       "      <th>production_countries_'ZA'</th>\n",
       "      <th>production_countries_'ZW'</th>\n",
       "    </tr>\n",
       "  </thead>\n",
       "  <tbody>\n",
       "    <tr>\n",
       "      <th>1</th>\n",
       "      <td>0</td>\n",
       "      <td>1976</td>\n",
       "      <td>114</td>\n",
       "      <td>0.0</td>\n",
       "      <td>808582.0</td>\n",
       "      <td>40.965</td>\n",
       "      <td>0</td>\n",
       "      <td>0</td>\n",
       "      <td>0</td>\n",
       "      <td>0</td>\n",
       "      <td>...</td>\n",
       "      <td>0</td>\n",
       "      <td>0</td>\n",
       "      <td>0</td>\n",
       "      <td>0</td>\n",
       "      <td>0</td>\n",
       "      <td>0</td>\n",
       "      <td>1</td>\n",
       "      <td>0</td>\n",
       "      <td>0</td>\n",
       "      <td>0</td>\n",
       "    </tr>\n",
       "    <tr>\n",
       "      <th>2</th>\n",
       "      <td>0</td>\n",
       "      <td>1972</td>\n",
       "      <td>109</td>\n",
       "      <td>0.0</td>\n",
       "      <td>107673.0</td>\n",
       "      <td>10.010</td>\n",
       "      <td>0</td>\n",
       "      <td>0</td>\n",
       "      <td>0</td>\n",
       "      <td>0</td>\n",
       "      <td>...</td>\n",
       "      <td>0</td>\n",
       "      <td>0</td>\n",
       "      <td>0</td>\n",
       "      <td>0</td>\n",
       "      <td>0</td>\n",
       "      <td>0</td>\n",
       "      <td>1</td>\n",
       "      <td>0</td>\n",
       "      <td>0</td>\n",
       "      <td>0</td>\n",
       "    </tr>\n",
       "    <tr>\n",
       "      <th>3</th>\n",
       "      <td>0</td>\n",
       "      <td>1975</td>\n",
       "      <td>91</td>\n",
       "      <td>0.0</td>\n",
       "      <td>534486.0</td>\n",
       "      <td>15.461</td>\n",
       "      <td>0</td>\n",
       "      <td>0</td>\n",
       "      <td>1</td>\n",
       "      <td>0</td>\n",
       "      <td>...</td>\n",
       "      <td>0</td>\n",
       "      <td>0</td>\n",
       "      <td>0</td>\n",
       "      <td>0</td>\n",
       "      <td>0</td>\n",
       "      <td>0</td>\n",
       "      <td>0</td>\n",
       "      <td>0</td>\n",
       "      <td>0</td>\n",
       "      <td>0</td>\n",
       "    </tr>\n",
       "    <tr>\n",
       "      <th>5</th>\n",
       "      <td>1</td>\n",
       "      <td>1969</td>\n",
       "      <td>30</td>\n",
       "      <td>4.0</td>\n",
       "      <td>73424.0</td>\n",
       "      <td>17.617</td>\n",
       "      <td>0</td>\n",
       "      <td>0</td>\n",
       "      <td>0</td>\n",
       "      <td>0</td>\n",
       "      <td>...</td>\n",
       "      <td>0</td>\n",
       "      <td>0</td>\n",
       "      <td>0</td>\n",
       "      <td>0</td>\n",
       "      <td>0</td>\n",
       "      <td>0</td>\n",
       "      <td>0</td>\n",
       "      <td>0</td>\n",
       "      <td>0</td>\n",
       "      <td>0</td>\n",
       "    </tr>\n",
       "    <tr>\n",
       "      <th>6</th>\n",
       "      <td>0</td>\n",
       "      <td>1979</td>\n",
       "      <td>94</td>\n",
       "      <td>0.0</td>\n",
       "      <td>395024.0</td>\n",
       "      <td>17.770</td>\n",
       "      <td>0</td>\n",
       "      <td>0</td>\n",
       "      <td>0</td>\n",
       "      <td>0</td>\n",
       "      <td>...</td>\n",
       "      <td>0</td>\n",
       "      <td>0</td>\n",
       "      <td>0</td>\n",
       "      <td>0</td>\n",
       "      <td>0</td>\n",
       "      <td>0</td>\n",
       "      <td>0</td>\n",
       "      <td>0</td>\n",
       "      <td>0</td>\n",
       "      <td>0</td>\n",
       "    </tr>\n",
       "  </tbody>\n",
       "</table>\n",
       "<p>5 rows × 102 columns</p>\n",
       "</div>"
      ],
      "text/plain": [
       "   type  release_year  runtime  seasons  imdb_votes  tmdb_popularity  \\\n",
       "1     0          1976      114      0.0    808582.0           40.965   \n",
       "2     0          1972      109      0.0    107673.0           10.010   \n",
       "3     0          1975       91      0.0    534486.0           15.461   \n",
       "5     1          1969       30      4.0     73424.0           17.617   \n",
       "6     0          1979       94      0.0    395024.0           17.770   \n",
       "\n",
       "   age_certification_G  age_certification_NC-17  age_certification_PG  \\\n",
       "1                    0                        0                     0   \n",
       "2                    0                        0                     0   \n",
       "3                    0                        0                     1   \n",
       "5                    0                        0                     0   \n",
       "6                    0                        0                     0   \n",
       "\n",
       "   age_certification_PG-13  ...  production_countries_'SG'  \\\n",
       "1                        0  ...                          0   \n",
       "2                        0  ...                          0   \n",
       "3                        0  ...                          0   \n",
       "5                        0  ...                          0   \n",
       "6                        0  ...                          0   \n",
       "\n",
       "   production_countries_'SN'  production_countries_'TH'  \\\n",
       "1                          0                          0   \n",
       "2                          0                          0   \n",
       "3                          0                          0   \n",
       "5                          0                          0   \n",
       "6                          0                          0   \n",
       "\n",
       "   production_countries_'TR'  production_countries_'TW'  \\\n",
       "1                          0                          0   \n",
       "2                          0                          0   \n",
       "3                          0                          0   \n",
       "5                          0                          0   \n",
       "6                          0                          0   \n",
       "\n",
       "   production_countries_'UA'  production_countries_'US'  \\\n",
       "1                          0                          1   \n",
       "2                          0                          1   \n",
       "3                          0                          0   \n",
       "5                          0                          0   \n",
       "6                          0                          0   \n",
       "\n",
       "   production_countries_'XX'  production_countries_'ZA'  \\\n",
       "1                          0                          0   \n",
       "2                          0                          0   \n",
       "3                          0                          0   \n",
       "5                          0                          0   \n",
       "6                          0                          0   \n",
       "\n",
       "   production_countries_'ZW'  \n",
       "1                          0  \n",
       "2                          0  \n",
       "3                          0  \n",
       "5                          0  \n",
       "6                          0  \n",
       "\n",
       "[5 rows x 102 columns]"
      ]
     },
     "execution_count": 35,
     "metadata": {},
     "output_type": "execute_result"
    }
   ],
   "source": [
    "#selecciono las features que iran al DF de entrenamiento\n",
    "df_cluster = df_titles[['type',\n",
    "                        'release_year',\n",
    "                        'age_certification',\n",
    "                        'runtime','genres',\n",
    "                        'production_countries',\n",
    "                        'seasons',\n",
    "                        'imdb_votes',\n",
    "                        'tmdb_popularity']]\n",
    "df_cluster = pd.get_dummies(df_cluster) #realizo la conversion de object a indicadores(dummies)\n",
    "df_cluster.head()"
   ]
  },
  {
   "cell_type": "markdown",
   "metadata": {},
   "source": [
    "# ALGORITMO HDBSCAN"
   ]
  },
  {
   "cell_type": "code",
   "execution_count": 36,
   "metadata": {},
   "outputs": [
    {
     "data": {
      "text/html": [
       "<style>#sk-container-id-4 {color: black;background-color: white;}#sk-container-id-4 pre{padding: 0;}#sk-container-id-4 div.sk-toggleable {background-color: white;}#sk-container-id-4 label.sk-toggleable__label {cursor: pointer;display: block;width: 100%;margin-bottom: 0;padding: 0.3em;box-sizing: border-box;text-align: center;}#sk-container-id-4 label.sk-toggleable__label-arrow:before {content: \"▸\";float: left;margin-right: 0.25em;color: #696969;}#sk-container-id-4 label.sk-toggleable__label-arrow:hover:before {color: black;}#sk-container-id-4 div.sk-estimator:hover label.sk-toggleable__label-arrow:before {color: black;}#sk-container-id-4 div.sk-toggleable__content {max-height: 0;max-width: 0;overflow: hidden;text-align: left;background-color: #f0f8ff;}#sk-container-id-4 div.sk-toggleable__content pre {margin: 0.2em;color: black;border-radius: 0.25em;background-color: #f0f8ff;}#sk-container-id-4 input.sk-toggleable__control:checked~div.sk-toggleable__content {max-height: 200px;max-width: 100%;overflow: auto;}#sk-container-id-4 input.sk-toggleable__control:checked~label.sk-toggleable__label-arrow:before {content: \"▾\";}#sk-container-id-4 div.sk-estimator input.sk-toggleable__control:checked~label.sk-toggleable__label {background-color: #d4ebff;}#sk-container-id-4 div.sk-label input.sk-toggleable__control:checked~label.sk-toggleable__label {background-color: #d4ebff;}#sk-container-id-4 input.sk-hidden--visually {border: 0;clip: rect(1px 1px 1px 1px);clip: rect(1px, 1px, 1px, 1px);height: 1px;margin: -1px;overflow: hidden;padding: 0;position: absolute;width: 1px;}#sk-container-id-4 div.sk-estimator {font-family: monospace;background-color: #f0f8ff;border: 1px dotted black;border-radius: 0.25em;box-sizing: border-box;margin-bottom: 0.5em;}#sk-container-id-4 div.sk-estimator:hover {background-color: #d4ebff;}#sk-container-id-4 div.sk-parallel-item::after {content: \"\";width: 100%;border-bottom: 1px solid gray;flex-grow: 1;}#sk-container-id-4 div.sk-label:hover label.sk-toggleable__label {background-color: #d4ebff;}#sk-container-id-4 div.sk-serial::before {content: \"\";position: absolute;border-left: 1px solid gray;box-sizing: border-box;top: 0;bottom: 0;left: 50%;z-index: 0;}#sk-container-id-4 div.sk-serial {display: flex;flex-direction: column;align-items: center;background-color: white;padding-right: 0.2em;padding-left: 0.2em;position: relative;}#sk-container-id-4 div.sk-item {position: relative;z-index: 1;}#sk-container-id-4 div.sk-parallel {display: flex;align-items: stretch;justify-content: center;background-color: white;position: relative;}#sk-container-id-4 div.sk-item::before, #sk-container-id-4 div.sk-parallel-item::before {content: \"\";position: absolute;border-left: 1px solid gray;box-sizing: border-box;top: 0;bottom: 0;left: 50%;z-index: -1;}#sk-container-id-4 div.sk-parallel-item {display: flex;flex-direction: column;z-index: 1;position: relative;background-color: white;}#sk-container-id-4 div.sk-parallel-item:first-child::after {align-self: flex-end;width: 50%;}#sk-container-id-4 div.sk-parallel-item:last-child::after {align-self: flex-start;width: 50%;}#sk-container-id-4 div.sk-parallel-item:only-child::after {width: 0;}#sk-container-id-4 div.sk-dashed-wrapped {border: 1px dashed gray;margin: 0 0.4em 0.5em 0.4em;box-sizing: border-box;padding-bottom: 0.4em;background-color: white;}#sk-container-id-4 div.sk-label label {font-family: monospace;font-weight: bold;display: inline-block;line-height: 1.2em;}#sk-container-id-4 div.sk-label-container {text-align: center;}#sk-container-id-4 div.sk-container {/* jupyter's `normalize.less` sets `[hidden] { display: none; }` but bootstrap.min.css set `[hidden] { display: none !important; }` so we also need the `!important` here to be able to override the default hidden behavior on the sphinx rendered scikit-learn.org. See: https://github.com/scikit-learn/scikit-learn/issues/21755 */display: inline-block !important;position: relative;}#sk-container-id-4 div.sk-text-repr-fallback {display: none;}</style><div id=\"sk-container-id-4\" class=\"sk-top-container\"><div class=\"sk-text-repr-fallback\"><pre>HDBSCAN(min_cluster_size=20, min_samples=10, prediction_data=True)</pre><b>In a Jupyter environment, please rerun this cell to show the HTML representation or trust the notebook. <br />On GitHub, the HTML representation is unable to render, please try loading this page with nbviewer.org.</b></div><div class=\"sk-container\" hidden><div class=\"sk-item\"><div class=\"sk-estimator sk-toggleable\"><input class=\"sk-toggleable__control sk-hidden--visually\" id=\"sk-estimator-id-8\" type=\"checkbox\" checked><label for=\"sk-estimator-id-8\" class=\"sk-toggleable__label sk-toggleable__label-arrow\">HDBSCAN</label><div class=\"sk-toggleable__content\"><pre>HDBSCAN(min_cluster_size=20, min_samples=10, prediction_data=True)</pre></div></div></div></div></div>"
      ],
      "text/plain": [
       "HDBSCAN(min_cluster_size=20, min_samples=10, prediction_data=True)"
      ]
     },
     "execution_count": 36,
     "metadata": {},
     "output_type": "execute_result"
    }
   ],
   "source": [
    "#Instanciamos el algoritmo\n",
    "clusterer = hdbscan.HDBSCAN(min_cluster_size=20,\n",
    "                 min_samples=10,prediction_data=True)\n",
    "                 \n",
    "#Entrenamos\n",
    "clusterer.fit(df_cluster)"
   ]
  },
  {
   "cell_type": "code",
   "execution_count": 37,
   "metadata": {},
   "outputs": [
    {
     "name": "stdout",
     "output_type": "stream",
     "text": [
      "Etiquetas de los clusters:  [-1  0  1  2  3  4  5  6  7  8  9 10 11 12 13 14 15 16 17 18 19 20 21 22\n",
      " 23 24 25 26 27 28 29 30 31 32]\n",
      "Cantidad de clusters:  34\n"
     ]
    }
   ],
   "source": [
    "print(\"Etiquetas de los clusters: \", np.unique(clusterer.labels_))\n",
    "print(\"Cantidad de clusters: \", len(np.unique(clusterer.labels_)))"
   ]
  },
  {
   "cell_type": "markdown",
   "metadata": {},
   "source": [
    "### Como se puede ver se generan 34 Clusters diferentes, el cual el -1 es para identificar los outliers"
   ]
  },
  {
   "cell_type": "markdown",
   "metadata": {},
   "source": [
    "## Prediccion de nuevos puntos"
   ]
  },
  {
   "cell_type": "code",
   "execution_count": 54,
   "metadata": {},
   "outputs": [],
   "source": [
    "df_test24 = pd.read_excel('clusterdummy24.xlsx')#XLSX fitlrado con solo titulos de cluster 24"
   ]
  },
  {
   "cell_type": "code",
   "execution_count": 55,
   "metadata": {},
   "outputs": [
    {
     "data": {
      "text/plain": [
       "array([24, 24, 24, 24, 24, 24, 24, 24, 24, 24, 24, 24, 24, 24, 24, 24, 24,\n",
       "       24, 24, 24, 24, 24, 24, 24, 24, 24, 24, 24, 24, 24, 24, 24, 24, 24,\n",
       "       24, 24, 24, 24, 24, 24, 24, 24, 24, 24, 24, 24, 24])"
      ]
     },
     "execution_count": 55,
     "metadata": {},
     "output_type": "execute_result"
    }
   ],
   "source": [
    "test_labels, strengths = hdbscan.approximate_predict(clusterer, df_test24)\n",
    "test_labels"
   ]
  },
  {
   "cell_type": "code",
   "execution_count": 56,
   "metadata": {},
   "outputs": [],
   "source": [
    "df_test317 = pd.read_excel('clusterdummy317.xlsx')#XLSX fitlrado con solo titulos de cluster 3 y de cluster 17"
   ]
  },
  {
   "cell_type": "code",
   "execution_count": 57,
   "metadata": {},
   "outputs": [
    {
     "data": {
      "text/plain": [
       "array([ 3,  3,  3,  3, 17,  3,  3, 17, 17,  3,  3, 17,  3, 17, 17, 17,  3,\n",
       "        3,  3,  3, 17,  3,  3,  3,  3,  3, 17,  3, 17,  3, 17, 17, 17, 17,\n",
       "       17,  3, 17, 17,  3, 17, 17, 17, 17, 17, 17, 17, 17, 17, 17, 17, 17,\n",
       "       17,  3, 17, 17, 17,  3, 17, 17, 17, 17, 17, 17, 17, 17, 17, 17, 17,\n",
       "       17])"
      ]
     },
     "execution_count": 57,
     "metadata": {},
     "output_type": "execute_result"
    }
   ],
   "source": [
    "test_labels, strengths = hdbscan.approximate_predict(clusterer, df_test317)\n",
    "test_labels"
   ]
  },
  {
   "cell_type": "markdown",
   "metadata": {},
   "source": [
    "## Grafico Sin outliers"
   ]
  },
  {
   "cell_type": "code",
   "execution_count": 58,
   "metadata": {},
   "outputs": [],
   "source": [
    "df_clusterout = pd.read_excel('clusterdummyout.xlsx')#XLSX fitlrado sin outlier(cluster -1)"
   ]
  },
  {
   "cell_type": "code",
   "execution_count": 59,
   "metadata": {},
   "outputs": [
    {
     "data": {
      "text/plain": [
       "array([ 7,  3,  7, ..., 29, 30, 29])"
      ]
     },
     "execution_count": 59,
     "metadata": {},
     "output_type": "execute_result"
    }
   ],
   "source": [
    "test_labels, strengths = hdbscan.approximate_predict(clusterer, df_clusterout)\n",
    "test_labels"
   ]
  },
  {
   "cell_type": "code",
   "execution_count": 61,
   "metadata": {},
   "outputs": [
    {
     "ename": "AttributeError",
     "evalue": "'NoneType' object has no attribute 'canvas'",
     "output_type": "error",
     "traceback": [
      "\u001b[1;31m---------------------------------------------------------------------------\u001b[0m",
      "\u001b[1;31mAttributeError\u001b[0m                            Traceback (most recent call last)",
      "\u001b[1;32mc:\\Users\\ezesp\\CoderHouse\\GitHub\\Proyecto_Final_Grupo3_DS29765\\Entrega3-Garcias Corts - Taberner.ipynb Celda 55\u001b[0m in \u001b[0;36m<cell line: 1>\u001b[1;34m()\u001b[0m\n\u001b[1;32m----> <a href='vscode-notebook-cell:/c%3A/Users/ezesp/CoderHouse/GitHub/Proyecto_Final_Grupo3_DS29765/Entrega3-Garcias%20Corts%20-%20Taberner.ipynb#X44sZmlsZQ%3D%3D?line=0'>1</a>\u001b[0m df_clusterout\u001b[39m.\u001b[39;49mplot(kind\u001b[39m=\u001b[39;49m\u001b[39m'\u001b[39;49m\u001b[39mscatter\u001b[39;49m\u001b[39m'\u001b[39;49m, x\u001b[39m=\u001b[39;49m\u001b[39m'\u001b[39;49m\u001b[39mrelease_year\u001b[39;49m\u001b[39m'\u001b[39;49m, y\u001b[39m=\u001b[39;49m\u001b[39m'\u001b[39;49m\u001b[39mruntime\u001b[39;49m\u001b[39m'\u001b[39;49m, c\u001b[39m=\u001b[39;49mtest_labels, cmap\u001b[39m=\u001b[39;49m\u001b[39m'\u001b[39;49m\u001b[39mAccent_r\u001b[39;49m\u001b[39m'\u001b[39;49m, figsize\u001b[39m=\u001b[39;49m(\u001b[39m16\u001b[39;49m,\u001b[39m10\u001b[39;49m))\n\u001b[0;32m      <a href='vscode-notebook-cell:/c%3A/Users/ezesp/CoderHouse/GitHub/Proyecto_Final_Grupo3_DS29765/Entrega3-Garcias%20Corts%20-%20Taberner.ipynb#X44sZmlsZQ%3D%3D?line=1'>2</a>\u001b[0m df_clusterout\u001b[39m.\u001b[39mplot(kind\u001b[39m=\u001b[39m\u001b[39m'\u001b[39m\u001b[39mscatter\u001b[39m\u001b[39m'\u001b[39m, x\u001b[39m=\u001b[39m\u001b[39m'\u001b[39m\u001b[39mruntime\u001b[39m\u001b[39m'\u001b[39m, y\u001b[39m=\u001b[39m\u001b[39m'\u001b[39m\u001b[39mimdb_votes\u001b[39m\u001b[39m'\u001b[39m, c\u001b[39m=\u001b[39mtest_labels, cmap\u001b[39m=\u001b[39m\u001b[39m'\u001b[39m\u001b[39mAccent_r\u001b[39m\u001b[39m'\u001b[39m, figsize\u001b[39m=\u001b[39m(\u001b[39m16\u001b[39m,\u001b[39m10\u001b[39m))\n",
      "File \u001b[1;32m~\\AppData\\Local\\Packages\\PythonSoftwareFoundation.Python.3.10_qbz5n2kfra8p0\\LocalCache\\local-packages\\Python310\\site-packages\\pandas\\plotting\\_core.py:917\u001b[0m, in \u001b[0;36mPlotAccessor.__call__\u001b[1;34m(self, *args, **kwargs)\u001b[0m\n\u001b[0;32m    915\u001b[0m \u001b[39mif\u001b[39;00m kind \u001b[39min\u001b[39;00m \u001b[39mself\u001b[39m\u001b[39m.\u001b[39m_dataframe_kinds:\n\u001b[0;32m    916\u001b[0m     \u001b[39mif\u001b[39;00m \u001b[39misinstance\u001b[39m(data, ABCDataFrame):\n\u001b[1;32m--> 917\u001b[0m         \u001b[39mreturn\u001b[39;00m plot_backend\u001b[39m.\u001b[39mplot(data, x\u001b[39m=\u001b[39mx, y\u001b[39m=\u001b[39my, kind\u001b[39m=\u001b[39mkind, \u001b[39m*\u001b[39m\u001b[39m*\u001b[39mkwargs)\n\u001b[0;32m    918\u001b[0m     \u001b[39melse\u001b[39;00m:\n\u001b[0;32m    919\u001b[0m         \u001b[39mraise\u001b[39;00m \u001b[39mValueError\u001b[39;00m(\u001b[39mf\u001b[39m\u001b[39m\"\u001b[39m\u001b[39mplot kind \u001b[39m\u001b[39m{\u001b[39;00mkind\u001b[39m}\u001b[39;00m\u001b[39m can only be used for data frames\u001b[39m\u001b[39m\"\u001b[39m)\n",
      "File \u001b[1;32m~\\AppData\\Local\\Packages\\PythonSoftwareFoundation.Python.3.10_qbz5n2kfra8p0\\LocalCache\\local-packages\\Python310\\site-packages\\pandas\\plotting\\_matplotlib\\__init__.py:71\u001b[0m, in \u001b[0;36mplot\u001b[1;34m(data, kind, **kwargs)\u001b[0m\n\u001b[0;32m     69\u001b[0m         kwargs[\u001b[39m\"\u001b[39m\u001b[39max\u001b[39m\u001b[39m\"\u001b[39m] \u001b[39m=\u001b[39m \u001b[39mgetattr\u001b[39m(ax, \u001b[39m\"\u001b[39m\u001b[39mleft_ax\u001b[39m\u001b[39m\"\u001b[39m, ax)\n\u001b[0;32m     70\u001b[0m plot_obj \u001b[39m=\u001b[39m PLOT_CLASSES[kind](data, \u001b[39m*\u001b[39m\u001b[39m*\u001b[39mkwargs)\n\u001b[1;32m---> 71\u001b[0m plot_obj\u001b[39m.\u001b[39;49mgenerate()\n\u001b[0;32m     72\u001b[0m plot_obj\u001b[39m.\u001b[39mdraw()\n\u001b[0;32m     73\u001b[0m \u001b[39mreturn\u001b[39;00m plot_obj\u001b[39m.\u001b[39mresult\n",
      "File \u001b[1;32m~\\AppData\\Local\\Packages\\PythonSoftwareFoundation.Python.3.10_qbz5n2kfra8p0\\LocalCache\\local-packages\\Python310\\site-packages\\pandas\\plotting\\_matplotlib\\core.py:328\u001b[0m, in \u001b[0;36mMPLPlot.generate\u001b[1;34m(self)\u001b[0m\n\u001b[0;32m    326\u001b[0m \u001b[39mself\u001b[39m\u001b[39m.\u001b[39m_args_adjust()\n\u001b[0;32m    327\u001b[0m \u001b[39mself\u001b[39m\u001b[39m.\u001b[39m_compute_plot_data()\n\u001b[1;32m--> 328\u001b[0m \u001b[39mself\u001b[39;49m\u001b[39m.\u001b[39;49m_setup_subplots()\n\u001b[0;32m    329\u001b[0m \u001b[39mself\u001b[39m\u001b[39m.\u001b[39m_make_plot()\n\u001b[0;32m    330\u001b[0m \u001b[39mself\u001b[39m\u001b[39m.\u001b[39m_add_table()\n",
      "File \u001b[1;32m~\\AppData\\Local\\Packages\\PythonSoftwareFoundation.Python.3.10_qbz5n2kfra8p0\\LocalCache\\local-packages\\Python310\\site-packages\\pandas\\plotting\\_matplotlib\\core.py:386\u001b[0m, in \u001b[0;36mMPLPlot._setup_subplots\u001b[1;34m(self)\u001b[0m\n\u001b[0;32m    384\u001b[0m \u001b[39melse\u001b[39;00m:\n\u001b[0;32m    385\u001b[0m     \u001b[39mif\u001b[39;00m \u001b[39mself\u001b[39m\u001b[39m.\u001b[39max \u001b[39mis\u001b[39;00m \u001b[39mNone\u001b[39;00m:\n\u001b[1;32m--> 386\u001b[0m         fig \u001b[39m=\u001b[39m \u001b[39mself\u001b[39;49m\u001b[39m.\u001b[39;49mplt\u001b[39m.\u001b[39;49mfigure(figsize\u001b[39m=\u001b[39;49m\u001b[39mself\u001b[39;49m\u001b[39m.\u001b[39;49mfigsize)\n\u001b[0;32m    387\u001b[0m         axes \u001b[39m=\u001b[39m fig\u001b[39m.\u001b[39madd_subplot(\u001b[39m111\u001b[39m)\n\u001b[0;32m    388\u001b[0m     \u001b[39melse\u001b[39;00m:\n",
      "File \u001b[1;32m~\\AppData\\Local\\Packages\\PythonSoftwareFoundation.Python.3.10_qbz5n2kfra8p0\\LocalCache\\local-packages\\Python310\\site-packages\\matplotlib\\pyplot.py:810\u001b[0m, in \u001b[0;36mfigure\u001b[1;34m(num, figsize, dpi, facecolor, edgecolor, frameon, FigureClass, clear, **kwargs)\u001b[0m\n\u001b[0;32m    798\u001b[0m     _api\u001b[39m.\u001b[39mwarn_external(\n\u001b[0;32m    799\u001b[0m         \u001b[39mf\u001b[39m\u001b[39m\"\u001b[39m\u001b[39mMore than \u001b[39m\u001b[39m{\u001b[39;00mmax_open_warning\u001b[39m}\u001b[39;00m\u001b[39m figures have been opened. \u001b[39m\u001b[39m\"\u001b[39m\n\u001b[0;32m    800\u001b[0m         \u001b[39mf\u001b[39m\u001b[39m\"\u001b[39m\u001b[39mFigures created through the pyplot interface \u001b[39m\u001b[39m\"\u001b[39m\n\u001b[1;32m   (...)\u001b[0m\n\u001b[0;32m    803\u001b[0m         \u001b[39mf\u001b[39m\u001b[39m\"\u001b[39m\u001b[39mwarning, see the rcParam `figure.max_open_warning`).\u001b[39m\u001b[39m\"\u001b[39m,\n\u001b[0;32m    804\u001b[0m         \u001b[39mRuntimeWarning\u001b[39;00m)\n\u001b[0;32m    806\u001b[0m manager \u001b[39m=\u001b[39m new_figure_manager(\n\u001b[0;32m    807\u001b[0m     num, figsize\u001b[39m=\u001b[39mfigsize, dpi\u001b[39m=\u001b[39mdpi,\n\u001b[0;32m    808\u001b[0m     facecolor\u001b[39m=\u001b[39mfacecolor, edgecolor\u001b[39m=\u001b[39medgecolor, frameon\u001b[39m=\u001b[39mframeon,\n\u001b[0;32m    809\u001b[0m     FigureClass\u001b[39m=\u001b[39mFigureClass, \u001b[39m*\u001b[39m\u001b[39m*\u001b[39mkwargs)\n\u001b[1;32m--> 810\u001b[0m fig \u001b[39m=\u001b[39m manager\u001b[39m.\u001b[39;49mcanvas\u001b[39m.\u001b[39mfigure\n\u001b[0;32m    811\u001b[0m \u001b[39mif\u001b[39;00m fig_label:\n\u001b[0;32m    812\u001b[0m     fig\u001b[39m.\u001b[39mset_label(fig_label)\n",
      "\u001b[1;31mAttributeError\u001b[0m: 'NoneType' object has no attribute 'canvas'"
     ]
    }
   ],
   "source": [
    "df_clusterout.plot(kind='scatter', x='release_year', y='runtime', c=test_labels, cmap='Accent_r', figsize=(16,10))\n",
    "df_clusterout.plot(kind='scatter', x='runtime', y='imdb_votes', c=test_labels, cmap='Accent_r', figsize=(16,10))"
   ]
  },
  {
   "cell_type": "markdown",
   "metadata": {},
   "source": [
    "## Grafico de outliers"
   ]
  },
  {
   "cell_type": "code",
   "execution_count": 62,
   "metadata": {},
   "outputs": [
    {
     "ename": "AttributeError",
     "evalue": "'NoneType' object has no attribute 'canvas'",
     "output_type": "error",
     "traceback": [
      "\u001b[1;31m---------------------------------------------------------------------------\u001b[0m",
      "\u001b[1;31mAttributeError\u001b[0m                            Traceback (most recent call last)",
      "\u001b[1;32mc:\\Users\\ezesp\\CoderHouse\\GitHub\\Proyecto_Final_Grupo3_DS29765\\Entrega3-Garcias Corts - Taberner.ipynb Celda 57\u001b[0m in \u001b[0;36m<cell line: 2>\u001b[1;34m()\u001b[0m\n\u001b[0;32m      <a href='vscode-notebook-cell:/c%3A/Users/ezesp/CoderHouse/GitHub/Proyecto_Final_Grupo3_DS29765/Entrega3-Garcias%20Corts%20-%20Taberner.ipynb#X46sZmlsZQ%3D%3D?line=0'>1</a>\u001b[0m \u001b[39m#grafico de outliers\u001b[39;00m\n\u001b[1;32m----> <a href='vscode-notebook-cell:/c%3A/Users/ezesp/CoderHouse/GitHub/Proyecto_Final_Grupo3_DS29765/Entrega3-Garcias%20Corts%20-%20Taberner.ipynb#X46sZmlsZQ%3D%3D?line=1'>2</a>\u001b[0m plt\u001b[39m.\u001b[39;49mfigure(figsize\u001b[39m=\u001b[39;49m(\u001b[39m14\u001b[39;49m, \u001b[39m10\u001b[39;49m))\n\u001b[0;32m      <a href='vscode-notebook-cell:/c%3A/Users/ezesp/CoderHouse/GitHub/Proyecto_Final_Grupo3_DS29765/Entrega3-Garcias%20Corts%20-%20Taberner.ipynb#X46sZmlsZQ%3D%3D?line=2'>3</a>\u001b[0m sns\u001b[39m.\u001b[39mdistplot(clusterer\u001b[39m.\u001b[39moutlier_scores_[np\u001b[39m.\u001b[39misfinite(clusterer\u001b[39m.\u001b[39moutlier_scores_)], rug\u001b[39m=\u001b[39m\u001b[39mTrue\u001b[39;00m)\n\u001b[0;32m      <a href='vscode-notebook-cell:/c%3A/Users/ezesp/CoderHouse/GitHub/Proyecto_Final_Grupo3_DS29765/Entrega3-Garcias%20Corts%20-%20Taberner.ipynb#X46sZmlsZQ%3D%3D?line=3'>4</a>\u001b[0m plt\u001b[39m.\u001b[39mgrid()\n",
      "File \u001b[1;32m~\\AppData\\Local\\Packages\\PythonSoftwareFoundation.Python.3.10_qbz5n2kfra8p0\\LocalCache\\local-packages\\Python310\\site-packages\\matplotlib\\pyplot.py:810\u001b[0m, in \u001b[0;36mfigure\u001b[1;34m(num, figsize, dpi, facecolor, edgecolor, frameon, FigureClass, clear, **kwargs)\u001b[0m\n\u001b[0;32m    798\u001b[0m     _api\u001b[39m.\u001b[39mwarn_external(\n\u001b[0;32m    799\u001b[0m         \u001b[39mf\u001b[39m\u001b[39m\"\u001b[39m\u001b[39mMore than \u001b[39m\u001b[39m{\u001b[39;00mmax_open_warning\u001b[39m}\u001b[39;00m\u001b[39m figures have been opened. \u001b[39m\u001b[39m\"\u001b[39m\n\u001b[0;32m    800\u001b[0m         \u001b[39mf\u001b[39m\u001b[39m\"\u001b[39m\u001b[39mFigures created through the pyplot interface \u001b[39m\u001b[39m\"\u001b[39m\n\u001b[1;32m   (...)\u001b[0m\n\u001b[0;32m    803\u001b[0m         \u001b[39mf\u001b[39m\u001b[39m\"\u001b[39m\u001b[39mwarning, see the rcParam `figure.max_open_warning`).\u001b[39m\u001b[39m\"\u001b[39m,\n\u001b[0;32m    804\u001b[0m         \u001b[39mRuntimeWarning\u001b[39;00m)\n\u001b[0;32m    806\u001b[0m manager \u001b[39m=\u001b[39m new_figure_manager(\n\u001b[0;32m    807\u001b[0m     num, figsize\u001b[39m=\u001b[39mfigsize, dpi\u001b[39m=\u001b[39mdpi,\n\u001b[0;32m    808\u001b[0m     facecolor\u001b[39m=\u001b[39mfacecolor, edgecolor\u001b[39m=\u001b[39medgecolor, frameon\u001b[39m=\u001b[39mframeon,\n\u001b[0;32m    809\u001b[0m     FigureClass\u001b[39m=\u001b[39mFigureClass, \u001b[39m*\u001b[39m\u001b[39m*\u001b[39mkwargs)\n\u001b[1;32m--> 810\u001b[0m fig \u001b[39m=\u001b[39m manager\u001b[39m.\u001b[39;49mcanvas\u001b[39m.\u001b[39mfigure\n\u001b[0;32m    811\u001b[0m \u001b[39mif\u001b[39;00m fig_label:\n\u001b[0;32m    812\u001b[0m     fig\u001b[39m.\u001b[39mset_label(fig_label)\n",
      "\u001b[1;31mAttributeError\u001b[0m: 'NoneType' object has no attribute 'canvas'"
     ]
    }
   ],
   "source": [
    "#grafico de outliers\n",
    "plt.figure(figsize=(14, 10))\n",
    "sns.distplot(clusterer.outlier_scores_[np.isfinite(clusterer.outlier_scores_)], rug=True)\n",
    "plt.grid()\n",
    "plt.show()"
   ]
  },
  {
   "cell_type": "markdown",
   "metadata": {},
   "source": [
    "# Perfil Usuario"
   ]
  },
  {
   "cell_type": "code",
   "execution_count": 63,
   "metadata": {},
   "outputs": [],
   "source": [
    "#creo un nuevo dataframe con una columna con la info de a que cluster pertenece\n",
    "df_titles_clustered = df_titles[['title',\n",
    "                        'type',\n",
    "                        'release_year',\n",
    "                        'genres',\n",
    "                        'production_countries',\n",
    "                        'imdb_score']]\n",
    "df_titles_clustered['cluster'] = clusterer.labels_\n",
    "#df_titles_clustered =  df_titles_clustered[df_titles_clustered.cluster != -1] #elimino los outliers (Cluster -1)       "
   ]
  },
  {
   "cell_type": "code",
   "execution_count": 64,
   "metadata": {},
   "outputs": [],
   "source": [
    "tipo = int(input(\"Recomendar Serie o Pelicula? (0 para pelicula , 1 para serie): \"))"
   ]
  },
  {
   "cell_type": "code",
   "execution_count": 65,
   "metadata": {},
   "outputs": [],
   "source": [
    "#DEFINO (O REINICIO) los generos y el df del perfil\n",
    "generos_disponibles = np.unique(df_titles['genres']) #creo un array con los generos del DF\n",
    "gral = pd.DataFrame(columns= df_titles_clustered.columns) #definimos el dataframe (o reiniciamos)"
   ]
  },
  {
   "cell_type": "code",
   "execution_count": 66,
   "metadata": {},
   "outputs": [
    {
     "name": "stdout",
     "output_type": "stream",
     "text": [
      "Seleccionemos un genero de los restantes\n",
      "'action'\n",
      "'animation'\n",
      "'comedy'\n",
      "'crime'\n",
      "'documentation'\n",
      "'drama'\n",
      "'family'\n",
      "'fantasy'\n",
      "'history'\n",
      "'horror'\n",
      "'music'\n",
      "'reality'\n",
      "'romance'\n",
      "'scifi'\n",
      "'sport'\n",
      "'thriller'\n",
      "'war'\n",
      "'western'\n"
     ]
    },
    {
     "ename": "KeyboardInterrupt",
     "evalue": "Interrupted by user",
     "output_type": "error",
     "traceback": [
      "\u001b[1;31m---------------------------------------------------------------------------\u001b[0m",
      "\u001b[1;31mKeyboardInterrupt\u001b[0m                         Traceback (most recent call last)",
      "\u001b[1;32mc:\\Users\\ezesp\\CoderHouse\\GitHub\\Proyecto_Final_Grupo3_DS29765\\Entrega3-Garcias Corts - Taberner.ipynb Celda 62\u001b[0m in \u001b[0;36m<cell line: 1>\u001b[1;34m()\u001b[0m\n\u001b[0;32m     <a href='vscode-notebook-cell:/c%3A/Users/ezesp/CoderHouse/GitHub/Proyecto_Final_Grupo3_DS29765/Entrega3-Garcias%20Corts%20-%20Taberner.ipynb#X54sZmlsZQ%3D%3D?line=15'>16</a>\u001b[0m         \u001b[39mprint\u001b[39m(j , \u001b[39m\"\u001b[39m\u001b[39m_ \u001b[39m\u001b[39m\"\u001b[39m,item)\n\u001b[0;32m     <a href='vscode-notebook-cell:/c%3A/Users/ezesp/CoderHouse/GitHub/Proyecto_Final_Grupo3_DS29765/Entrega3-Garcias%20Corts%20-%20Taberner.ipynb#X54sZmlsZQ%3D%3D?line=16'>17</a>\u001b[0m         j \u001b[39m+\u001b[39m\u001b[39m=\u001b[39m\u001b[39m1\u001b[39m\n\u001b[1;32m---> <a href='vscode-notebook-cell:/c%3A/Users/ezesp/CoderHouse/GitHub/Proyecto_Final_Grupo3_DS29765/Entrega3-Garcias%20Corts%20-%20Taberner.ipynb#X54sZmlsZQ%3D%3D?line=17'>18</a>\u001b[0m k \u001b[39m=\u001b[39m \u001b[39mint\u001b[39m(\u001b[39minput\u001b[39;49m(\u001b[39m\"\u001b[39;49m\u001b[39mDe estos titulos de \u001b[39;49m\u001b[39m\"\u001b[39;49m \u001b[39m+\u001b[39;49m genero \u001b[39m+\u001b[39;49m \u001b[39m\"\u001b[39;49m\u001b[39m selecciona el que mas te gustó: \u001b[39;49m\u001b[39m\"\u001b[39;49m))\u001b[39m#pido al usuario seleccionar una opcion\u001b[39;00m\n\u001b[0;32m     <a href='vscode-notebook-cell:/c%3A/Users/ezesp/CoderHouse/GitHub/Proyecto_Final_Grupo3_DS29765/Entrega3-Garcias%20Corts%20-%20Taberner.ipynb#X54sZmlsZQ%3D%3D?line=19'>20</a>\u001b[0m gral \u001b[39m=\u001b[39m gral\u001b[39m.\u001b[39mappend(choices\u001b[39m.\u001b[39miloc[k]) \u001b[39m#agrego la fila con los datos del titulo seleccionado\u001b[39;00m\n\u001b[0;32m     <a href='vscode-notebook-cell:/c%3A/Users/ezesp/CoderHouse/GitHub/Proyecto_Final_Grupo3_DS29765/Entrega3-Garcias%20Corts%20-%20Taberner.ipynb#X54sZmlsZQ%3D%3D?line=21'>22</a>\u001b[0m generos_disponibles \u001b[39m=\u001b[39m np\u001b[39m.\u001b[39mdelete(generos_disponibles, np\u001b[39m.\u001b[39margwhere(generos_disponibles \u001b[39m==\u001b[39m genre))\n",
      "File \u001b[1;32m~\\AppData\\Local\\Packages\\PythonSoftwareFoundation.Python.3.10_qbz5n2kfra8p0\\LocalCache\\local-packages\\Python310\\site-packages\\ipykernel\\kernelbase.py:1177\u001b[0m, in \u001b[0;36mKernel.raw_input\u001b[1;34m(self, prompt)\u001b[0m\n\u001b[0;32m   1173\u001b[0m \u001b[39mif\u001b[39;00m \u001b[39mnot\u001b[39;00m \u001b[39mself\u001b[39m\u001b[39m.\u001b[39m_allow_stdin:\n\u001b[0;32m   1174\u001b[0m     \u001b[39mraise\u001b[39;00m StdinNotImplementedError(\n\u001b[0;32m   1175\u001b[0m         \u001b[39m\"\u001b[39m\u001b[39mraw_input was called, but this frontend does not support input requests.\u001b[39m\u001b[39m\"\u001b[39m\n\u001b[0;32m   1176\u001b[0m     )\n\u001b[1;32m-> 1177\u001b[0m \u001b[39mreturn\u001b[39;00m \u001b[39mself\u001b[39;49m\u001b[39m.\u001b[39;49m_input_request(\n\u001b[0;32m   1178\u001b[0m     \u001b[39mstr\u001b[39;49m(prompt),\n\u001b[0;32m   1179\u001b[0m     \u001b[39mself\u001b[39;49m\u001b[39m.\u001b[39;49m_parent_ident[\u001b[39m\"\u001b[39;49m\u001b[39mshell\u001b[39;49m\u001b[39m\"\u001b[39;49m],\n\u001b[0;32m   1180\u001b[0m     \u001b[39mself\u001b[39;49m\u001b[39m.\u001b[39;49mget_parent(\u001b[39m\"\u001b[39;49m\u001b[39mshell\u001b[39;49m\u001b[39m\"\u001b[39;49m),\n\u001b[0;32m   1181\u001b[0m     password\u001b[39m=\u001b[39;49m\u001b[39mFalse\u001b[39;49;00m,\n\u001b[0;32m   1182\u001b[0m )\n",
      "File \u001b[1;32m~\\AppData\\Local\\Packages\\PythonSoftwareFoundation.Python.3.10_qbz5n2kfra8p0\\LocalCache\\local-packages\\Python310\\site-packages\\ipykernel\\kernelbase.py:1219\u001b[0m, in \u001b[0;36mKernel._input_request\u001b[1;34m(self, prompt, ident, parent, password)\u001b[0m\n\u001b[0;32m   1216\u001b[0m             \u001b[39mbreak\u001b[39;00m\n\u001b[0;32m   1217\u001b[0m \u001b[39mexcept\u001b[39;00m \u001b[39mKeyboardInterrupt\u001b[39;00m:\n\u001b[0;32m   1218\u001b[0m     \u001b[39m# re-raise KeyboardInterrupt, to truncate traceback\u001b[39;00m\n\u001b[1;32m-> 1219\u001b[0m     \u001b[39mraise\u001b[39;00m \u001b[39mKeyboardInterrupt\u001b[39;00m(\u001b[39m\"\u001b[39m\u001b[39mInterrupted by user\u001b[39m\u001b[39m\"\u001b[39m) \u001b[39mfrom\u001b[39;00m \u001b[39mNone\u001b[39m\n\u001b[0;32m   1220\u001b[0m \u001b[39mexcept\u001b[39;00m \u001b[39mException\u001b[39;00m:\n\u001b[0;32m   1221\u001b[0m     \u001b[39mself\u001b[39m\u001b[39m.\u001b[39mlog\u001b[39m.\u001b[39mwarning(\u001b[39m\"\u001b[39m\u001b[39mInvalid Message:\u001b[39m\u001b[39m\"\u001b[39m, exc_info\u001b[39m=\u001b[39m\u001b[39mTrue\u001b[39;00m)\n",
      "\u001b[1;31mKeyboardInterrupt\u001b[0m: Interrupted by user"
     ]
    }
   ],
   "source": [
    "for l in range(6): #defino una cantidad de 6 filmes para poder sacar un comun denominador\n",
    "\n",
    "    print('Seleccionemos un genero de los restantes')\n",
    "    for item in generos_disponibles:\n",
    "        print(item)\n",
    "    genero = input(\"Elige un genero de los disponibles : \")\n",
    "    genre = \"'\"+genero+\"'\" #arreglo para coincidir con el formato del DF\n",
    "    \n",
    "    #genero un nuevo df filtrando el tipo y genero seleccionado ordenando por mayor IMDB\n",
    "    choices = df_titles_clustered[(df_titles_clustered.type == tipo) & (df_titles_clustered.genres == genre)].sort_values(by = \"imdb_score\",ascending=False)\n",
    "    \n",
    "    #del df filtrado por tipo y genero muestro los primeros 10 con mejor IMDB\n",
    "    j=0\n",
    "    for item in choices['title']:\n",
    "        if j<10:\n",
    "            print(j , \"_ \",item)\n",
    "            j +=1\n",
    "    k = int(input(\"De estos titulos de \" + genero + \" selecciona el que mas te gustó: \"))#pido al usuario seleccionar una opcion\n",
    "\n",
    "    gral = gral.append(choices.iloc[k]) #agrego la fila con los datos del titulo seleccionado\n",
    "    \n",
    "    generos_disponibles = np.delete(generos_disponibles, np.argwhere(generos_disponibles == genre)) #borro de los generos disponibles la opcion previamente elegida\n",
    "\n",
    "    "
   ]
  },
  {
   "cell_type": "code",
   "execution_count": 14,
   "metadata": {},
   "outputs": [
    {
     "data": {
      "text/html": [
       "<div>\n",
       "<style scoped>\n",
       "    .dataframe tbody tr th:only-of-type {\n",
       "        vertical-align: middle;\n",
       "    }\n",
       "\n",
       "    .dataframe tbody tr th {\n",
       "        vertical-align: top;\n",
       "    }\n",
       "\n",
       "    .dataframe thead th {\n",
       "        text-align: right;\n",
       "    }\n",
       "</style>\n",
       "<table border=\"1\" class=\"dataframe\">\n",
       "  <thead>\n",
       "    <tr style=\"text-align: right;\">\n",
       "      <th></th>\n",
       "      <th>title</th>\n",
       "      <th>type</th>\n",
       "      <th>release_year</th>\n",
       "      <th>genres</th>\n",
       "      <th>production_countries</th>\n",
       "      <th>imdb_score</th>\n",
       "      <th>cluster</th>\n",
       "    </tr>\n",
       "  </thead>\n",
       "  <tbody>\n",
       "    <tr>\n",
       "      <th>237</th>\n",
       "      <td>Inception</td>\n",
       "      <td>0</td>\n",
       "      <td>2010</td>\n",
       "      <td>'action'</td>\n",
       "      <td>'US'</td>\n",
       "      <td>8.8</td>\n",
       "      <td>-1</td>\n",
       "    </tr>\n",
       "    <tr>\n",
       "      <th>815</th>\n",
       "      <td>The Rise of Kirmada</td>\n",
       "      <td>0</td>\n",
       "      <td>2012</td>\n",
       "      <td>'animation'</td>\n",
       "      <td>'IN'</td>\n",
       "      <td>8.2</td>\n",
       "      <td>29</td>\n",
       "    </tr>\n",
       "    <tr>\n",
       "      <th>3381</th>\n",
       "      <td>Dave Chappelle: Sticks &amp; Stones</td>\n",
       "      <td>0</td>\n",
       "      <td>2019</td>\n",
       "      <td>'comedy'</td>\n",
       "      <td>'US'</td>\n",
       "      <td>8.4</td>\n",
       "      <td>14</td>\n",
       "    </tr>\n",
       "    <tr>\n",
       "      <th>98</th>\n",
       "      <td>Snatch</td>\n",
       "      <td>0</td>\n",
       "      <td>2000</td>\n",
       "      <td>'crime'</td>\n",
       "      <td>'US'</td>\n",
       "      <td>8.3</td>\n",
       "      <td>-1</td>\n",
       "    </tr>\n",
       "    <tr>\n",
       "      <th>1203</th>\n",
       "      <td>Gantz:O</td>\n",
       "      <td>0</td>\n",
       "      <td>2016</td>\n",
       "      <td>'scifi'</td>\n",
       "      <td>'JP'</td>\n",
       "      <td>7.1</td>\n",
       "      <td>18</td>\n",
       "    </tr>\n",
       "    <tr>\n",
       "      <th>891</th>\n",
       "      <td>Metallica: Through the Never</td>\n",
       "      <td>0</td>\n",
       "      <td>2013</td>\n",
       "      <td>'music'</td>\n",
       "      <td>'US'</td>\n",
       "      <td>7.1</td>\n",
       "      <td>17</td>\n",
       "    </tr>\n",
       "  </tbody>\n",
       "</table>\n",
       "</div>"
      ],
      "text/plain": [
       "                                title type release_year       genres  \\\n",
       "237                         Inception    0         2010     'action'   \n",
       "815               The Rise of Kirmada    0         2012  'animation'   \n",
       "3381  Dave Chappelle: Sticks & Stones    0         2019     'comedy'   \n",
       "98                             Snatch    0         2000      'crime'   \n",
       "1203                          Gantz:O    0         2016      'scifi'   \n",
       "891      Metallica: Through the Never    0         2013      'music'   \n",
       "\n",
       "     production_countries  imdb_score cluster  \n",
       "237                  'US'         8.8      -1  \n",
       "815                  'IN'         8.2      29  \n",
       "3381                 'US'         8.4      14  \n",
       "98                   'US'         8.3      -1  \n",
       "1203                 'JP'         7.1      18  \n",
       "891                  'US'         7.1      17  "
      ]
     },
     "execution_count": 14,
     "metadata": {},
     "output_type": "execute_result"
    }
   ],
   "source": [
    "gral #vemos como quedó conformada la seleccion del usuario"
   ]
  },
  {
   "cell_type": "code",
   "execution_count": 15,
   "metadata": {},
   "outputs": [
    {
     "data": {
      "text/plain": [
       "-1"
      ]
     },
     "execution_count": 15,
     "metadata": {},
     "output_type": "execute_result"
    }
   ],
   "source": [
    "cluster_usuario = gral['cluster'].value_counts().idxmax() #tomo el valor del cluster que mas se repite\n",
    "cluster_usuario #visualizo el cluster del perfil del usuario"
   ]
  },
  {
   "cell_type": "code",
   "execution_count": 16,
   "metadata": {},
   "outputs": [
    {
     "name": "stdout",
     "output_type": "stream",
     "text": [
      "Te recomendamos estos titulos: \n"
     ]
    },
    {
     "data": {
      "text/html": [
       "<div>\n",
       "<style scoped>\n",
       "    .dataframe tbody tr th:only-of-type {\n",
       "        vertical-align: middle;\n",
       "    }\n",
       "\n",
       "    .dataframe tbody tr th {\n",
       "        vertical-align: top;\n",
       "    }\n",
       "\n",
       "    .dataframe thead th {\n",
       "        text-align: right;\n",
       "    }\n",
       "</style>\n",
       "<table border=\"1\" class=\"dataframe\">\n",
       "  <thead>\n",
       "    <tr style=\"text-align: right;\">\n",
       "      <th></th>\n",
       "      <th>title</th>\n",
       "      <th>type</th>\n",
       "      <th>release_year</th>\n",
       "      <th>genres</th>\n",
       "      <th>production_countries</th>\n",
       "      <th>imdb_score</th>\n",
       "      <th>cluster</th>\n",
       "    </tr>\n",
       "  </thead>\n",
       "  <tbody>\n",
       "    <tr>\n",
       "      <th>2547</th>\n",
       "      <td>C/o Kancharapalem</td>\n",
       "      <td>0</td>\n",
       "      <td>2018</td>\n",
       "      <td>'drama'</td>\n",
       "      <td>'IN'</td>\n",
       "      <td>8.9</td>\n",
       "      <td>-1</td>\n",
       "    </tr>\n",
       "    <tr>\n",
       "      <th>97</th>\n",
       "      <td>Forrest Gump</td>\n",
       "      <td>0</td>\n",
       "      <td>1994</td>\n",
       "      <td>'drama'</td>\n",
       "      <td>'US'</td>\n",
       "      <td>8.8</td>\n",
       "      <td>-1</td>\n",
       "    </tr>\n",
       "    <tr>\n",
       "      <th>237</th>\n",
       "      <td>Inception</td>\n",
       "      <td>0</td>\n",
       "      <td>2010</td>\n",
       "      <td>'action'</td>\n",
       "      <td>'US'</td>\n",
       "      <td>8.8</td>\n",
       "      <td>-1</td>\n",
       "    </tr>\n",
       "    <tr>\n",
       "      <th>4818</th>\n",
       "      <td>Bo Burnham: Inside</td>\n",
       "      <td>0</td>\n",
       "      <td>2021</td>\n",
       "      <td>'comedy'</td>\n",
       "      <td>'US'</td>\n",
       "      <td>8.7</td>\n",
       "      <td>-1</td>\n",
       "    </tr>\n",
       "    <tr>\n",
       "      <th>36</th>\n",
       "      <td>GoodFellas</td>\n",
       "      <td>0</td>\n",
       "      <td>1990</td>\n",
       "      <td>'drama'</td>\n",
       "      <td>'US'</td>\n",
       "      <td>8.7</td>\n",
       "      <td>-1</td>\n",
       "    </tr>\n",
       "  </tbody>\n",
       "</table>\n",
       "</div>"
      ],
      "text/plain": [
       "                   title  type  release_year    genres production_countries  \\\n",
       "2547   C/o Kancharapalem     0          2018   'drama'                 'IN'   \n",
       "97          Forrest Gump     0          1994   'drama'                 'US'   \n",
       "237            Inception     0          2010  'action'                 'US'   \n",
       "4818  Bo Burnham: Inside     0          2021  'comedy'                 'US'   \n",
       "36            GoodFellas     0          1990   'drama'                 'US'   \n",
       "\n",
       "      imdb_score  cluster  \n",
       "2547         8.9       -1  \n",
       "97           8.8       -1  \n",
       "237          8.8       -1  \n",
       "4818         8.7       -1  \n",
       "36           8.7       -1  "
      ]
     },
     "execution_count": 16,
     "metadata": {},
     "output_type": "execute_result"
    }
   ],
   "source": [
    "#recomendamos peliculas en base al cluster del perfil y muestro las primeras 5 con el mejor IMDB\n",
    "\n",
    "print(\"Te recomendamos estos titulos: \")\n",
    "df_titles_clustered[(df_titles_clustered.type == tipo) & (df_titles_clustered.cluster == cluster_usuario)].sort_values(by = \"imdb_score\",ascending=False).head(5)"
   ]
  }
 ],
 "metadata": {
  "kernelspec": {
   "display_name": "Python 3 (ipykernel)",
   "language": "python",
   "name": "python3"
  },
  "language_info": {
   "codemirror_mode": {
    "name": "ipython",
    "version": 3
   },
   "file_extension": ".py",
   "mimetype": "text/x-python",
   "name": "python",
   "nbconvert_exporter": "python",
   "pygments_lexer": "ipython3",
   "version": "3.10.8"
  },
  "vscode": {
   "interpreter": {
    "hash": "6bfb2b3bd7df5c81aa15934e65570dceb366a496b1d88c1199517baba9f2df6c"
   }
  }
 },
 "nbformat": 4,
 "nbformat_minor": 2
}
